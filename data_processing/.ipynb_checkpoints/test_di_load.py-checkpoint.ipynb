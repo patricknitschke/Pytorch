{
 "cells": [
  {
   "cell_type": "code",
   "execution_count": 36,
   "id": "0d706016",
   "metadata": {},
   "outputs": [],
   "source": [
    "import pickle\n",
    "import os "
   ]
  },
  {
   "cell_type": "code",
   "execution_count": 37,
   "id": "bd5656e1",
   "metadata": {},
   "outputs": [
    {
     "name": "stdout",
     "output_type": "stream",
     "text": [
      "{'a': 1, 'b': 2, 'afaefa': 5}\n",
      "2\n"
     ]
    }
   ],
   "source": [
    "d = {\"a\": 1, \"b\": 2, \"afaefa\": 5}\n",
    "f = 2\n",
    "\n",
    "with open(r\"test.p\", \"wb\") as output_file:\n",
    "    pickle.dump(d, output_file,-1)\n",
    "    pickle.dump(f, output_file, -1)\n",
    "\n",
    "with open(r\"test.p\", \"rb\") as input_file:\n",
    "    e = pickle.load(input_file)\n",
    "    g = pickle.load(input_file)\n",
    "\n",
    "\n",
    "print(e)\n",
    "print(g)"
   ]
  },
  {
   "cell_type": "code",
   "execution_count": 38,
   "id": "ee9069f0",
   "metadata": {},
   "outputs": [
    {
     "name": "stdout",
     "output_type": "stream",
     "text": [
      "/Users/patricknitschke/Library/CloudStorage/OneDrive-NTNU/NTNU/Kybernetikk og robotikk/Master/Thesis/Code/Pytorch/data_processing\n"
     ]
    }
   ],
   "source": [
    "cwd = os.getcwd()\n",
    "print(cwd)"
   ]
  },
  {
   "cell_type": "code",
   "execution_count": 39,
   "id": "c66427fa",
   "metadata": {},
   "outputs": [
    {
     "name": "stdout",
     "output_type": "stream",
     "text": [
      "10\n",
      "20\n",
      "30\n",
      "40\n",
      "50\n",
      "60\n",
      "70\n",
      "80\n",
      "90\n",
      "100\n",
      "110\n",
      "120\n",
      "130\n",
      "140\n",
      "150\n",
      "160\n",
      "170\n",
      "180\n",
      "190\n",
      "200\n"
     ]
    }
   ],
   "source": [
    "load_path = \"../rl_data/saves_1\"\n",
    "nb_files = int(len([f for f in os.listdir(load_path) if f.endswith('.p') and os.path.isfile(os.path.join(load_path, f))]) / 5) # five dicts\n",
    "for i in range(nb_files):\n",
    "    if i == 148:\n",
    "        continue # missing depth image 148 (copy error)\n",
    "    \n",
    "    obs_load          = pickle.load(open(load_path + \"/obs_dump\" +str(i) + \".p\", \"rb\"))\n",
    "    di_load           = pickle.load(open(load_path + \"/di_dump\" + str(i) + \".p\", \"rb\"))\n",
    "    action_load       = pickle.load(open(load_path + \"/action_dump\" + str(i) + \".p\", \"rb\"))\n",
    "    action_index_load = pickle.load(open(load_path + \"/action_index_dump\" + str(i) + \".p\", \"rb\"))\n",
    "    collision_load    = pickle.load(open(load_path + \"/collision_dump\" + str(i) + \".p\", \"rb\"))\n",
    "\n",
    "    if (i+1) % 10 == 0:\n",
    "        print(i+1)"
   ]
  },
  {
   "cell_type": "code",
   "execution_count": 47,
   "id": "0972cf86",
   "metadata": {},
   "outputs": [
    {
     "data": {
      "text/plain": [
       "(dict, list, 12)"
      ]
     },
     "execution_count": 47,
     "metadata": {},
     "output_type": "execute_result"
    }
   ],
   "source": [
    "#di_load, dictionary with keys = range(100)\n",
    "type(di_load), type(di_load[0]), len(di_load[0])"
   ]
  },
  {
   "cell_type": "code",
   "execution_count": 56,
   "id": "044af96b",
   "metadata": {},
   "outputs": [
    {
     "name": "stdout",
     "output_type": "stream",
     "text": [
      "100\n",
      "12\n",
      "40\n",
      "21\n",
      "17\n",
      "14\n",
      "5\n",
      "9\n",
      "3\n",
      "8\n",
      "5\n",
      "15\n",
      "17\n",
      "12\n",
      "7\n",
      "2\n",
      "8\n",
      "23\n",
      "9\n",
      "11\n",
      "19\n",
      "6\n",
      "24\n",
      "11\n",
      "16\n",
      "6\n",
      "7\n",
      "17\n",
      "22\n",
      "11\n",
      "11\n",
      "7\n",
      "9\n",
      "13\n",
      "12\n",
      "6\n",
      "6\n",
      "9\n",
      "10\n",
      "13\n",
      "18\n",
      "8\n",
      "14\n",
      "4\n",
      "19\n",
      "29\n",
      "19\n",
      "3\n",
      "15\n",
      "3\n",
      "14\n",
      "5\n",
      "5\n",
      "7\n",
      "6\n",
      "30\n",
      "8\n",
      "3\n",
      "15\n",
      "18\n",
      "5\n",
      "4\n",
      "5\n",
      "2\n",
      "2\n",
      "26\n",
      "12\n",
      "18\n",
      "9\n",
      "2\n",
      "11\n",
      "9\n",
      "9\n",
      "10\n",
      "13\n",
      "6\n",
      "4\n",
      "5\n",
      "18\n",
      "3\n",
      "7\n",
      "10\n",
      "7\n",
      "6\n",
      "2\n",
      "19\n",
      "3\n",
      "23\n",
      "3\n",
      "4\n",
      "4\n",
      "31\n",
      "4\n",
      "4\n",
      "4\n",
      "5\n",
      "3\n",
      "48\n",
      "9\n",
      "6\n",
      "21\n"
     ]
    }
   ],
   "source": [
    "print(\"num lists:\", len([1 for array_list in di_load.values()]))\n",
    "for array_list in di_load.values(): # 100 lists\n",
    "    print(len(array_list))"
   ]
  }
 ],
 "metadata": {
  "kernelspec": {
   "display_name": "Python 3 (ipykernel)",
   "language": "python",
   "name": "python3"
  },
  "language_info": {
   "codemirror_mode": {
    "name": "ipython",
    "version": 3
   },
   "file_extension": ".py",
   "mimetype": "text/x-python",
   "name": "python",
   "nbconvert_exporter": "python",
   "pygments_lexer": "ipython3",
   "version": "3.9.7"
  }
 },
 "nbformat": 4,
 "nbformat_minor": 5
}
