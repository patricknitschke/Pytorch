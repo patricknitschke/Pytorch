{
 "cells": [
  {
   "cell_type": "code",
   "execution_count": 1,
   "id": "b867014c",
   "metadata": {},
   "outputs": [
    {
     "name": "stderr",
     "output_type": "stream",
     "text": [
      "2022-02-25 12:39:28.558636: I tensorflow/stream_executor/platform/default/dso_loader.cc:49] Successfully opened dynamic library libcudart.so.10.1\n"
     ]
    }
   ],
   "source": [
    "import torch\n",
    "import torchvision\n",
    "from torch.utils.data import DataLoader, Dataset\n",
    "import torchvision.transforms as transforms\n",
    "import torch.nn.functional as F\n",
    "\n",
    "\n",
    "import os\n",
    "import time\n",
    "import numpy as np\n",
    "import pickle\n",
    "import matplotlib.pyplot as plt\n",
    "from tqdm import tqdm\n",
    "import skimage.io as io\n",
    "from skimage.transform import resize\n",
    "\n",
    "import tensorflow as tf\n",
    "from tfrecord.torch.dataset import TFRecordDataset"
   ]
  },
  {
   "cell_type": "code",
   "execution_count": 2,
   "id": "2bdb33c2",
   "metadata": {},
   "outputs": [],
   "source": [
    "# hyperparams\n",
    "batch_size = 50"
   ]
  },
  {
   "cell_type": "markdown",
   "id": "875b3505",
   "metadata": {},
   "source": [
    "# Depth Image Dataset"
   ]
  },
  {
   "cell_type": "code",
   "execution_count": 3,
   "id": "bb281435",
   "metadata": {},
   "outputs": [],
   "source": [
    "load_path = \"../../../rl_data/saves_1\""
   ]
  },
  {
   "cell_type": "code",
   "execution_count": 4,
   "id": "66651a7e",
   "metadata": {},
   "outputs": [],
   "source": [
    "class DepthImageDataset(Dataset):\n",
    "    def __init__(self, load_path=load_path) -> None:\n",
    "        super(DepthImageDataset, self).__init__()\n",
    "        \n",
    "        self.x = torch.empty(0)\n",
    "        self.nb_images = 0\n",
    "        self.nb_files = int(len([f for f in os.listdir(load_path) if f.endswith('.p') and os.path.isfile(os.path.join(load_path, f))]) / 5) # five dicts\n",
    "        print(f\"Loading from {load_path}\")\n",
    "        for i in tqdm(range(1)):\n",
    "            di_load = pickle.load(open(load_path + \"/di_dump\" + str(i) + \".p\", \"rb\"))\n",
    "            \n",
    "            x_ = []\n",
    "            for ep in di_load.values():\n",
    "                for image in ep:\n",
    "                    image = image / 256\n",
    "                    image = image.transpose(2, 0, 1)\n",
    "                    image = np.pad(image, [(0,0), (1, 1), (0, 0)], mode='constant', constant_values=0)\n",
    "                    image_flipped = np.flip(image, 2)\n",
    "                    x_.append(image)\n",
    "                    x_.append(image_flipped)\n",
    "\n",
    "                    self.nb_images += 2\n",
    "\n",
    "            self.x = torch.cat((self.x, torch.Tensor(np.array(x_))))\n",
    "    \n",
    "    def __getitem__(self, index: int):\n",
    "        return self.x[index]\n",
    "    \n",
    "    def __len__(self):\n",
    "        return self.nb_images"
   ]
  },
  {
   "cell_type": "code",
   "execution_count": 5,
   "id": "c1288cad",
   "metadata": {},
   "outputs": [
    {
     "name": "stdout",
     "output_type": "stream",
     "text": [
      "Loading from ../../../rl_data/saves_1\n"
     ]
    },
    {
     "name": "stderr",
     "output_type": "stream",
     "text": [
      "100%|█████████████████████████████████████████████████████████████████████| 1/1 [00:01<00:00,  1.75s/it]\n"
     ]
    }
   ],
   "source": [
    "data = DepthImageDataset()"
   ]
  },
  {
   "cell_type": "markdown",
   "id": "9f04a1db",
   "metadata": {},
   "source": [
    "# Dataloader"
   ]
  },
  {
   "cell_type": "code",
   "execution_count": 6,
   "id": "6d6ea375",
   "metadata": {},
   "outputs": [],
   "source": [
    "data_loader = DataLoader(dataset=data, batch_size=batch_size, shuffle=False, num_workers=0)"
   ]
  },
  {
   "cell_type": "code",
   "execution_count": 7,
   "id": "fb9a28c8",
   "metadata": {},
   "outputs": [
    {
     "data": {
      "text/plain": [
       "(2326, 47)"
      ]
     },
     "execution_count": 7,
     "metadata": {},
     "output_type": "execute_result"
    }
   ],
   "source": [
    "len(data), len(data_loader)"
   ]
  },
  {
   "cell_type": "markdown",
   "id": "edcaec23",
   "metadata": {},
   "source": [
    "# Test"
   ]
  },
  {
   "cell_type": "code",
   "execution_count": 8,
   "id": "11aefc59",
   "metadata": {},
   "outputs": [
    {
     "name": "stdout",
     "output_type": "stream",
     "text": [
      "torch.Size([50, 1, 272, 480])\n",
      "torch.Size([1, 272, 480])\n"
     ]
    },
    {
     "data": {
      "image/png": "[encoded data removed]",
      "text/plain": [
       "<Figure size 432x288 with 1 Axes>"
      ]
     },
     "metadata": {
      "needs_background": "light"
     },
     "output_type": "display_data"
    }
   ],
   "source": [
    "dataiter = iter(data_loader)\n",
    "images = dataiter.next()\n",
    "print(images.shape)\n",
    "\n",
    "image = images[2]\n",
    "print(image.shape)\n",
    "\n",
    "\n",
    "def imshow(img):\n",
    "    npimg = img.numpy()\n",
    "    plt.imshow(np.transpose(npimg, (1, 2, 0)))\n",
    "    plt.show()\n",
    "\n",
    "imshow(image)"
   ]
  },
  {
   "cell_type": "code",
   "execution_count": 9,
   "id": "e561cf04",
   "metadata": {},
   "outputs": [
    {
     "data": {
      "text/plain": [
       "tensor(0.4118)"
      ]
     },
     "execution_count": 9,
     "metadata": {},
     "output_type": "execute_result"
    }
   ],
   "source": [
    "images.mean()"
   ]
  },
  {
   "cell_type": "code",
   "execution_count": null,
   "id": "4dbd185d",
   "metadata": {},
   "outputs": [],
   "source": []
  }
 ],
 "metadata": {
  "kernelspec": {
   "display_name": "Python 3 (ipykernel)",
   "language": "python",
   "name": "python3"
  },
  "language_info": {
   "codemirror_mode": {
    "name": "ipython",
    "version": 3
   },
   "file_extension": ".py",
   "mimetype": "text/x-python",
   "name": "python",
   "nbconvert_exporter": "python",
   "pygments_lexer": "ipython3",
   "version": "3.9.7"
  }
 },
 "nbformat": 4,
 "nbformat_minor": 5
}
