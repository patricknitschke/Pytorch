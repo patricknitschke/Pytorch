{
 "cells": [
  {
   "cell_type": "code",
   "execution_count": 1,
   "id": "53ea8be7",
   "metadata": {},
   "outputs": [
    {
     "name": "stderr",
     "output_type": "stream",
     "text": [
      "2022-03-07 18:00:53.389014: I tensorflow/stream_executor/platform/default/dso_loader.cc:49] Successfully opened dynamic library libcudart.so.10.1\n",
      "/home/patricknit/anaconda3/envs/tf_gpu/lib/python3.9/site-packages/torch/cuda/__init__.py:80: UserWarning: CUDA initialization: The NVIDIA driver on your system is too old (found version 10010). Please update your GPU driver by downloading and installing a new version from the URL: http://www.nvidia.com/Download/index.aspx Alternatively, go to: https://pytorch.org to install a PyTorch version that has been compiled with your version of the CUDA driver. (Triggered internally at  ../c10/cuda/CUDAFunctions.cpp:112.)\n",
      "  return torch._C._cuda_getDeviceCount() > 0\n"
     ]
    }
   ],
   "source": [
    "import torch\n",
    "import torch.nn as nn\n",
    "import torch.nn.functional as F\n",
    "from torch.utils.data import DataLoader, Dataset\n",
    "from torch.optim import Adam\n",
    "\n",
    "import os\n",
    "import time\n",
    "import math\n",
    "import numpy as np\n",
    "import skimage.io as io\n",
    "from torchsummary import summary\n",
    "\n",
    "from di_dataset2 import DepthImageDataset, collate_batch"
   ]
  },
  {
   "cell_type": "code",
   "execution_count": 2,
   "id": "2848f0f5",
   "metadata": {},
   "outputs": [
    {
     "data": {
      "text/plain": [
       "device(type='cpu')"
      ]
     },
     "execution_count": 2,
     "metadata": {},
     "output_type": "execute_result"
    }
   ],
   "source": [
    "# Device configuration\n",
    "device = torch.device('cuda' if torch.cuda.is_available() else 'cpu')\n",
    "device"
   ]
  },
  {
   "cell_type": "markdown",
   "id": "a9c88205",
   "metadata": {},
   "source": [
    "# Hyperparams"
   ]
  },
  {
   "cell_type": "code",
   "execution_count": 3,
   "id": "a82a7290",
   "metadata": {},
   "outputs": [],
   "source": [
    "latent_dim = 64\n",
    "num_epochs = 250\n",
    "batch_size = 32\n",
    "learning_rate = 1e-3\n",
    "\n",
    "save_model = True\n",
    "load_model = False"
   ]
  },
  {
   "cell_type": "markdown",
   "id": "00f15247",
   "metadata": {},
   "source": [
    "# Load Dataset"
   ]
  },
  {
   "cell_type": "code",
   "execution_count": 4,
   "id": "0b1bb310",
   "metadata": {},
   "outputs": [],
   "source": [
    "tfrecord_folder='../../../rl_data/tfrecord'\n",
    "tfrecord_test_folder='../../../rl_data/tfrecord/test'"
   ]
  },
  {
   "cell_type": "code",
   "execution_count": 5,
   "id": "d82131cb",
   "metadata": {},
   "outputs": [
    {
     "name": "stdout",
     "output_type": "stream",
     "text": [
      "Loading tfrecords... \t['../../../rl_data/tfrecord/data163.tfrecords']\n",
      "WARNING:tensorflow:AutoGraph could not transform <bound method DepthImageDataset.read_tfrecord of <di_dataset2.DepthImageDataset object at 0x7f240ba80490>> and will run it as-is.\n",
      "Please report this to the TensorFlow team. When filing the bug, set the verbosity to 10 (on Linux, `export AUTOGRAPH_VERBOSITY=10`) and attach the full output.\n",
      "Cause: module 'gast' has no attribute 'Index'\n",
      "To silence this warning, decorate the function with @tf.autograph.experimental.do_not_convert\n",
      "WARNING: AutoGraph could not transform <bound method DepthImageDataset.read_tfrecord of <di_dataset2.DepthImageDataset object at 0x7f240ba80490>> and will run it as-is.\n",
      "Please report this to the TensorFlow team. When filing the bug, set the verbosity to 10 (on Linux, `export AUTOGRAPH_VERBOSITY=10`) and attach the full output.\n",
      "Cause: module 'gast' has no attribute 'Index'\n",
      "To silence this warning, decorate the function with @tf.autograph.experimental.do_not_convert\n"
     ]
    },
    {
     "name": "stderr",
     "output_type": "stream",
     "text": [
      "2022-03-07 18:00:54.137601: I tensorflow/compiler/jit/xla_cpu_device.cc:41] Not creating XLA devices, tf_xla_enable_xla_devices not set\n",
      "2022-03-07 18:00:54.138349: I tensorflow/stream_executor/platform/default/dso_loader.cc:49] Successfully opened dynamic library libcuda.so.1\n",
      "2022-03-07 18:00:54.139987: E tensorflow/stream_executor/cuda/cuda_driver.cc:328] failed call to cuInit: CUDA_ERROR_NO_DEVICE: no CUDA-capable device is detected\n",
      "2022-03-07 18:00:54.140004: I tensorflow/stream_executor/cuda/cuda_diagnostics.cc:156] kernel driver does not appear to be running on this host (patricknit-OptiPlex-7060): /proc/driver/nvidia/version does not exist\n",
      "2022-03-07 18:00:54.140189: I tensorflow/core/platform/cpu_feature_guard.cc:142] This TensorFlow binary is optimized with oneAPI Deep Neural Network Library (oneDNN) to use the following CPU instructions in performance-critical operations:  SSE4.1 SSE4.2 AVX AVX2 FMA\n",
      "To enable them in other operations, rebuild TensorFlow with the appropriate compiler flags.\n",
      "2022-03-07 18:00:54.140652: I tensorflow/compiler/jit/xla_gpu_device.cc:99] Not creating XLA devices, tf_xla_enable_xla_devices not set\n",
      "2022-03-07 18:00:54.174545: I tensorflow/compiler/mlir/mlir_graph_optimization_pass.cc:116] None of the MLIR optimization passes are enabled (registered 2)\n",
      "2022-03-07 18:00:54.193074: I tensorflow/core/platform/profile_utils/cpu_utils.cc:112] CPU Frequency: 3199980000 Hz\n"
     ]
    },
    {
     "name": "stdout",
     "output_type": "stream",
     "text": [
      "Iterating length... \tDone: 69\n",
      "Loading tfrecords... \t['../../../rl_data/tfrecord/test/data193.tfrecords']\n",
      "Iterating length... \tDone: 58\n"
     ]
    }
   ],
   "source": [
    "train_dataset = DepthImageDataset(tfrecord_folder=tfrecord_folder, batch_size=batch_size) # 176 tfrecords\n",
    "test_dataset = DepthImageDataset(tfrecord_folder=tfrecord_test_folder, batch_size=batch_size) # 20 tfrecords"
   ]
  },
  {
   "cell_type": "code",
   "execution_count": 6,
   "id": "91c2e4d4",
   "metadata": {},
   "outputs": [
    {
     "name": "stdout",
     "output_type": "stream",
     "text": [
      "69 58\n"
     ]
    },
    {
     "data": {
      "text/plain": [
       "2208"
      ]
     },
     "execution_count": 6,
     "metadata": {},
     "output_type": "execute_result"
    }
   ],
   "source": [
    "len_train_dataset = len(train_dataset)\n",
    "len_test_dataset = len(test_dataset)\n",
    "n_training_samples = len_train_dataset * 32 # 32 samples per batch\n",
    "print(len_train_dataset, len_test_dataset)"
   ]
  },
  {
   "cell_type": "code",
   "execution_count": 7,
   "id": "526ce03f",
   "metadata": {},
   "outputs": [],
   "source": [
    "train_loader = DataLoader(dataset=train_dataset, batch_size=1, collate_fn=collate_batch)\n",
    "test_loader = DataLoader(dataset=test_dataset, batch_size=1, collate_fn=collate_batch)"
   ]
  },
  {
   "cell_type": "code",
   "execution_count": 8,
   "id": "b06a2cc3",
   "metadata": {},
   "outputs": [
    {
     "name": "stdout",
     "output_type": "stream",
     "text": [
      "gotcha\n"
     ]
    },
    {
     "data": {
      "text/plain": [
       "torch.Size([32, 1, 270, 480])"
      ]
     },
     "execution_count": 8,
     "metadata": {},
     "output_type": "execute_result"
    }
   ],
   "source": [
    "dataiter = iter(train_loader)\n",
    "image_batch, *_ = dataiter.next() # image, height, width, depth\n",
    "image_batch.shape"
   ]
  },
  {
   "cell_type": "code",
   "execution_count": 9,
   "id": "f5eb2b73",
   "metadata": {},
   "outputs": [
    {
     "data": {
      "image/png": "[encoded data removed]",
      "text/plain": [
       "<Figure size 432x288 with 1 Axes>"
      ]
     },
     "metadata": {
      "needs_background": "light"
     },
     "output_type": "display_data"
    },
    {
     "data": {
      "image/png": "[encoded data removed]",
      "text/plain": [
       "<Figure size 432x288 with 1 Axes>"
      ]
     },
     "metadata": {
      "needs_background": "light"
     },
     "output_type": "display_data"
    },
    {
     "data": {
      "image/png": "[encoded data removed]",
      "text/plain": [
       "<Figure size 432x288 with 1 Axes>"
      ]
     },
     "metadata": {
      "needs_background": "light"
     },
     "output_type": "display_data"
    },
    {
     "data": {
      "image/png": "[encoded data removed]",
      "text/plain": [
       "<Figure size 432x288 with 1 Axes>"
      ]
     },
     "metadata": {
      "needs_background": "light"
     },
     "output_type": "display_data"
    },
    {
     "data": {
      "text/plain": [
       "torch.Size([1, 270, 480])"
      ]
     },
     "execution_count": 9,
     "metadata": {},
     "output_type": "execute_result"
    }
   ],
   "source": [
    "def imshow(image):\n",
    "    io.imshow(image.squeeze().numpy())\n",
    "    io.show()\n",
    "\n",
    "for image in image_batch[0:4]:\n",
    "    imshow(image)\n",
    "    \n",
    "image.shape"
   ]
  },
  {
   "cell_type": "code",
   "execution_count": 10,
   "id": "1ce9d190",
   "metadata": {},
   "outputs": [
    {
     "data": {
      "text/plain": [
       "(tensor(0.4794), tensor(0.1271))"
      ]
     },
     "execution_count": 10,
     "metadata": {},
     "output_type": "execute_result"
    }
   ],
   "source": [
    "image_batch.squeeze().mean(), image_batch.squeeze().var()"
   ]
  },
  {
   "cell_type": "markdown",
   "id": "6d97d632",
   "metadata": {},
   "source": [
    "# Define Variational Autoencoder\n",
    "\n",
    "Adapted from https://github.com/microsoft/AirSim-Drone-Racing-VAE-Imitation/blob/master/racing_models/cmvae.py"
   ]
  },
  {
   "cell_type": "markdown",
   "id": "ae9e6988",
   "metadata": {},
   "source": [
    "### Dronet\n",
    "ResNet8 as encoder."
   ]
  },
  {
   "cell_type": "code",
   "execution_count": 11,
   "id": "0e8d396e",
   "metadata": {},
   "outputs": [],
   "source": [
    "image_batch, *_ = dataiter.next()"
   ]
  },
  {
   "cell_type": "code",
   "execution_count": 12,
   "id": "5587be55",
   "metadata": {
    "scrolled": true
   },
   "outputs": [
    {
     "name": "stdout",
     "output_type": "stream",
     "text": [
      "[Dronet] Starting dronet\n",
      "[Dronet] Done with dronet\n",
      "----------------------------------------------------------------\n",
      "        Layer (type)               Output Shape         Param #\n",
      "================================================================\n",
      "            Conv2d-1         [-1, 32, 135, 240]             832\n",
      "            Conv2d-2          [-1, 32, 68, 120]          25,632\n",
      "       BatchNorm2d-3          [-1, 32, 68, 120]              64\n",
      "            Conv2d-4           [-1, 32, 34, 60]           9,248\n",
      "       BatchNorm2d-5           [-1, 32, 34, 60]              64\n",
      "            Conv2d-6           [-1, 32, 34, 60]           9,248\n",
      "            Conv2d-7           [-1, 32, 34, 60]           1,056\n",
      "       BatchNorm2d-8           [-1, 32, 34, 60]              64\n",
      "            Conv2d-9           [-1, 64, 17, 30]          18,496\n",
      "      BatchNorm2d-10           [-1, 64, 17, 30]             128\n",
      "           Conv2d-11           [-1, 64, 17, 30]          36,928\n",
      "           Conv2d-12           [-1, 64, 17, 30]           2,112\n",
      "      BatchNorm2d-13           [-1, 64, 17, 30]             128\n",
      "           Conv2d-14           [-1, 128, 9, 15]          73,856\n",
      "      BatchNorm2d-15           [-1, 128, 9, 15]             256\n",
      "           Conv2d-16           [-1, 128, 9, 15]         147,584\n",
      "           Conv2d-17           [-1, 128, 9, 15]           8,320\n",
      "           Linear-18                   [-1, 64]       1,105,984\n",
      "           Linear-19                   [-1, 32]           2,080\n",
      "           Linear-20                  [-1, 128]           4,224\n",
      "================================================================\n",
      "Total params: 1,446,304\n",
      "Trainable params: 1,446,304\n",
      "Non-trainable params: 0\n",
      "----------------------------------------------------------------\n",
      "Input size (MB): 0.49\n",
      "Forward/backward pass size (MB): 16.16\n",
      "Params size (MB): 5.52\n",
      "Estimated Total Size (MB): 22.17\n",
      "----------------------------------------------------------------\n"
     ]
    }
   ],
   "source": [
    "class Dronet(nn.Module):\n",
    "    def __init__(self, input_dim, num_outputs, include_top=True):\n",
    "        super(Dronet, self).__init__()\n",
    "        self.include_top = include_top\n",
    "        \n",
    "        print('[Dronet] Starting dronet')\n",
    "\n",
    "        self.max0 = nn.MaxPool2d(kernel_size=2, stride=2, return_indices=True)  # default pool_size='2', strides=2\n",
    "\n",
    "        self.bn0 = nn.BatchNorm2d(32)\n",
    "        self.bn1 = nn.BatchNorm2d(32)\n",
    "        self.bn2 = nn.BatchNorm2d(32)\n",
    "        self.bn3 = nn.BatchNorm2d(64)\n",
    "        self.bn4 = nn.BatchNorm2d(64)\n",
    "        self.bn5 = nn.BatchNorm2d(128)\n",
    "\n",
    "        self.conv0 = nn.Conv2d(input_dim, 32, kernel_size=5, stride=2, padding=2)\n",
    "        self.xavier_uniform_init(self.conv0)\n",
    "        \n",
    "        self.conv0_2 = nn.Conv2d(32, 32, kernel_size=5, stride=2, padding=2)\n",
    "\n",
    "        self.conv1 = nn.Conv2d(32, 32, kernel_size=3, stride=2, padding=1) # padding='same' \n",
    "        self.conv2 = nn.Conv2d(32, 32, kernel_size=3, stride=1, padding=1) # padding='same' # Todo: kernel_regularizer=tf.keras.regularizers.l2(1e-4)\n",
    "        self.conv3 = nn.Conv2d(32, 32, kernel_size=1, stride=2)\n",
    "        self.xavier_uniform_init(self.conv3)\n",
    "\n",
    "        self.conv4 = nn.Conv2d(32, 64, kernel_size=3, stride=2, padding=1) # padding='same' # Todo: kernel_regularizer=tf.keras.regularizers.l2(1e-4)\n",
    "        self.conv5 = nn.Conv2d(64, 64, kernel_size=3, stride=1, padding=1) # padding='same' # Todo: kernel_regularizer=tf.keras.regularizers.l2(1e-4)\n",
    "        self.conv6 = nn.Conv2d(32, 64, kernel_size=1, stride=2) # padding='same'\n",
    "        self.xavier_uniform_init(self.conv6)\n",
    "\n",
    "        self.conv7 = nn.Conv2d(64, 128, kernel_size=3, stride=2, padding=1) # padding='same' # Todo: kernel_regularizer=tf.keras.regularizers.l2(1e-4)\n",
    "        self.conv8 = nn.Conv2d(128, 128, kernel_size=3, stride=1, padding=1) # padding='same' # Todo: kernel_regularizer=tf.keras.regularizers.l2(1e-4)\n",
    "        self.conv9 = nn.Conv2d(64, 128, kernel_size=1, stride=2) # padding='same'\n",
    "        self.xavier_uniform_init(self.conv9)\n",
    "\n",
    "        self.dense0 = nn.Linear(9*15*128, 64) # Todo: check size\n",
    "        self.dense1 = nn.Linear(64, 32)\n",
    "        self.dense2 = nn.Linear(32, num_outputs)\n",
    "        self.dense3 = nn.Linear(9*15*128, num_outputs)\n",
    "\n",
    "        print('[Dronet] Done with dronet')\n",
    "    \n",
    "    \n",
    "    def xavier_uniform_init(self, m):\n",
    "        \"\"\"\n",
    "        Default initialisation in Keras is glorot_uniform == xavier_uniform in Pytorch\n",
    "\n",
    "        https://discuss.pytorch.org/t/crossentropyloss-expected-object-of-type-torch-longtensor/28683/6?u=ptrblck\n",
    "        https://stackoverflow.com/questions/49433936/how-to-initialize-weights-in-pytorch\n",
    "        \"\"\"\n",
    "        if isinstance(m, nn.Conv2d) or isinstance(m, nn.Linear):\n",
    "            nn.init.xavier_uniform_(m.weight, gain=nn.init.calculate_gain('linear')) # gain=nn.init.calculate_gain('relu')\n",
    "            nn.init.zeros_(m.bias)\n",
    "        return m\n",
    "\n",
    "    def forward(self, img):\n",
    "        # Input\n",
    "        \n",
    "        #print(img.shape)\n",
    "        #print(f\"- Before encoding, mean: {img.mean():.3f} var: {img.var():.3f}\")\n",
    "        x1 = self.conv0(img)\n",
    "        #print(\"x1:\", x1.shape)\n",
    "        #x1, indices = self.max0(x1)\n",
    "        x1 = self.conv0_2(x1)\n",
    "        #print(\"x1:\", x1.shape)\n",
    "\n",
    "        # First residual block\n",
    "        x2 = self.bn0(x1)\n",
    "        #print(\"x2:\", x2.shape)\n",
    "        # x2 = x1\n",
    "        x2 = torch.relu(x2)\n",
    "        #print(x2.shape)\n",
    "        x2 = self.conv1(x2)\n",
    "        #print(x2.shape)\n",
    "\n",
    "        x2 = self.bn1(x2)\n",
    "        #print(x2.shape)\n",
    "        x2 = torch.relu(x2)\n",
    "        #print(x2.shape)\n",
    "        x2 = self.conv2(x2)\n",
    "        #print(x2.shape)\n",
    "        \n",
    "        \n",
    "        x1 = self.conv3(x1)\n",
    "        #print(f\"x1: {x1.shape}, x2: {x2.shape}\") # 32, 34, 60\n",
    "        x3 = x1+x2\n",
    "        #print(\"x3:\", x3.shape)\n",
    "\n",
    "        # Second residual block\n",
    "        x4 = self.bn2(x3)\n",
    "        #print(\"x4:\", x4.shape)\n",
    "        # x4 = x3\n",
    "        x4 = torch.relu(x4)\n",
    "        x4 = self.conv4(x4)\n",
    "        #print(x4.shape)\n",
    "\n",
    "        x4 = self.bn3(x4)\n",
    "        #print(x4.shape)\n",
    "        x4 = torch.relu(x4)\n",
    "        x4 = self.conv5(x4)\n",
    "        #print(x4.shape)\n",
    "        \n",
    "        x3 = self.conv6(x3)\n",
    "        #print(f\"x3: {x3.shape}, x4: {x4.shape}\")\n",
    "        x5 = x3+x4 # 34, 60, 64\n",
    "\n",
    "        # Third residual block\n",
    "        x6 = self.bn4(x5)\n",
    "        # x6 = x5\n",
    "        x6 = torch.relu(x6)\n",
    "        x6 = self.conv7(x6)\n",
    "\n",
    "        x6 = self.bn5(x6)\n",
    "        x6 = torch.relu(x6)\n",
    "        x6 = self.conv8(x6)\n",
    "\n",
    "        x5 = self.conv9(x5)\n",
    "        #print(f\"x5: {x5.shape}, x6: {x6.shape}\")\n",
    "        x7 = x5+x6 # 17, 30, 128\n",
    "\n",
    "        x = x7.view(x7.size(0), -1)\n",
    "        #print(f\"x before linear: {x.shape}\")\n",
    "        #print(f\"- After encoding, mean: {x.mean():.3f} var: {x.var():.3f}\")\n",
    "\n",
    "        if self.include_top:\n",
    "            x = torch.relu(x)\n",
    "            # x = tf.keras.layers.Dropout(0.5)(x)\n",
    "            x = self.dense0(x)\n",
    "            x = self.dense1(x)\n",
    "            #gate_pose = self.dense2(x)\n",
    "            x_enc = self.dense2(x)\n",
    "            # phi_rel = self.dense_phi_rel(x)\n",
    "            # gate_pose = tf.concat([gate_pose, phi_rel], 1)\n",
    "            #print(f\"x_enc: {x.shape}\")\n",
    "            return x_enc\n",
    "        else:\n",
    "            x = self.dense3(x)\n",
    "            #print(f\"x_enc: {x.shape}\")\n",
    "            return x\n",
    "\n",
    "dronet = Dronet(input_dim=1, num_outputs=latent_dim*2, include_top=True)\n",
    "summary(dronet, input_size=(1, 270, 480), batch_size=-1, device=device.type)"
   ]
  },
  {
   "cell_type": "markdown",
   "id": "224f0812",
   "metadata": {},
   "source": [
    "### Decoder"
   ]
  },
  {
   "cell_type": "code",
   "execution_count": 13,
   "id": "642ed80c",
   "metadata": {
    "scrolled": false
   },
   "outputs": [
    {
     "name": "stdout",
     "output_type": "stream",
     "text": [
      "[ImgDecoder] Starting create_model\n",
      "[ImgDecoder] Done with create_model\n",
      "----------------------------------------------------------------\n",
      "        Layer (type)               Output Shape         Param #\n",
      "================================================================\n",
      "            Linear-1             [-1, 1, 17280]       1,123,200\n",
      "   ConvTranspose2d-2           [-1, 128, 9, 15]         147,584\n",
      "   ConvTranspose2d-3           [-1, 64, 17, 30]         204,864\n",
      "   ConvTranspose2d-4           [-1, 64, 34, 60]         147,520\n",
      "   ConvTranspose2d-5          [-1, 32, 68, 120]          73,760\n",
      "   ConvTranspose2d-6         [-1, 32, 135, 240]          25,632\n",
      "   ConvTranspose2d-7         [-1, 16, 270, 480]          18,448\n",
      "   ConvTranspose2d-8          [-1, 1, 270, 480]             401\n",
      "================================================================\n",
      "Total params: 1,741,409\n",
      "Trainable params: 1,741,409\n",
      "Non-trainable params: 0\n",
      "----------------------------------------------------------------\n",
      "Input size (MB): 0.00\n",
      "Forward/backward pass size (MB): 28.22\n",
      "Params size (MB): 6.64\n",
      "Estimated Total Size (MB): 34.86\n",
      "----------------------------------------------------------------\n"
     ]
    }
   ],
   "source": [
    "class ImgDecoder(nn.Module):\n",
    "    def __init__(self, input_dim=100, batch=32):\n",
    "        super(ImgDecoder, self).__init__()\n",
    "        print('[ImgDecoder] Starting create_model')\n",
    "        self.dense = nn.Linear(input_dim, 9*15*128)\n",
    "        \n",
    "        self.bn0 = nn.BatchNorm2d(128)\n",
    "        self.bn1 = nn.BatchNorm2d(32)\n",
    "        self.bn2 = nn.BatchNorm2d(32)\n",
    "        self.bn3 = nn.BatchNorm2d(64)\n",
    "        self.bn4 = nn.BatchNorm2d(64)\n",
    "        self.bn5 = nn.BatchNorm2d(128)\n",
    "        \n",
    "        self.unpool = nn.MaxUnpool2d(kernel_size=2, stride=2)\n",
    "\n",
    "        self.deconv1 = nn.ConvTranspose2d(128, 128, kernel_size=3, stride=1, padding=1)\n",
    "        self.deconv2 = nn.ConvTranspose2d(128, 64, kernel_size=5, stride=2, padding=(2,2), output_padding=(0,1), dilation=1)\n",
    "        self.deconv3 = nn.ConvTranspose2d(64, 64, kernel_size=6, stride=2, padding=(2,2), output_padding=(0,0), dilation=1)\n",
    "        self.deconv4 = nn.ConvTranspose2d(64, 32, kernel_size=6, stride=2, padding=(2,2), output_padding=(0,0), dilation=1)\n",
    "        self.deconv5 = nn.ConvTranspose2d(32, 32, kernel_size=5, stride=2, padding=(2,2), output_padding=(0,1), dilation=1)\n",
    "        self.deconv6 = nn.ConvTranspose2d(32, 16, kernel_size=6, stride=2, padding=(2,2), output_padding=(0,0))\n",
    "        self.deconv7 = nn.ConvTranspose2d(16, 1, kernel_size=5, stride=1, padding=2) # tanh activation or sigmoid\n",
    "\n",
    "        print('[ImgDecoder] Done with create_model')\n",
    "\n",
    "    def forward(self, z):\n",
    "        #print(\"z: \", z.shape)\n",
    "        x = self.dense(z)\n",
    "        #print(x.shape)\n",
    "        x = x.view(x.size(0), 128, 9, 15)\n",
    "        #print(f\"- Before deconv, mean: {x.mean():.3f} var: {x.var():.3f}\")\n",
    "        x = self.deconv1(x)\n",
    "        x = torch.relu(x)\n",
    "        #print(\"after deconv1\", x.shape)\n",
    "        x = self.deconv2(x)\n",
    "        x = torch.relu(x)\n",
    "        #print(\"after deconv2\", x.shape)\n",
    "        x = self.deconv3(x)\n",
    "        x = torch.relu(x)\n",
    "#         print(\"after deconv3\", x.shape)\n",
    "        x = self.deconv4(x)\n",
    "        x = torch.relu(x)\n",
    "#         print(\"after deconv4\", x.shape)\n",
    "        x = self.deconv5(x)\n",
    "        #print(\"indices\", indices.shape)\n",
    "        #x = self.unpool(x, indices, output_size=(x.size(0), 1, 135, 240))\n",
    "#         print(\"after deconv5\", x.shape)\n",
    "        x = torch.relu(x)\n",
    "        #print(\"after unpool\", x.shape)\n",
    "        x = self.deconv6(x)\n",
    "        x = torch.relu(x)\n",
    "#         print(\"after deconv6\", x.shape)\n",
    "        x = self.deconv7(x)\n",
    "        #print(f\"- After deconv 7, mean: {x.mean():.3f} var: {x.var():.3f}\")\n",
    "        x = torch.sigmoid(x)\n",
    "        #print(f\"- After sigmoid, mean: {x.mean():.3f} var: {x.var():.3f}\")\n",
    "        #print(\"after deconv7\", x.shape)\n",
    "        return x\n",
    "\n",
    "img_decoder = ImgDecoder(input_dim=latent_dim, batch=1)\n",
    "summary(img_decoder, (1,latent_dim))"
   ]
  },
  {
   "cell_type": "markdown",
   "id": "adc98b84",
   "metadata": {},
   "source": [
    "## VAE"
   ]
  },
  {
   "cell_type": "code",
   "execution_count": 14,
   "id": "997b68c2",
   "metadata": {},
   "outputs": [],
   "source": [
    "class Lambda(nn.Module):\n",
    "    def __init__(self, func):\n",
    "        super(Lambda, self).__init__()\n",
    "        self.func = func\n",
    "        \n",
    "    def forward(self, x):\n",
    "        return self.func(x)\n",
    "        \n",
    "\n",
    "class VAE(nn.Module):\n",
    "    def __init__(self, n_z):\n",
    "        super(VAE, self).__init__()\n",
    "        \n",
    "        # create the 3 base models:\n",
    "        self.q_img = Dronet(input_dim=1, num_outputs=n_z*2, include_top=True)\n",
    "        self.p_img = ImgDecoder(input_dim=n_z)\n",
    "        \n",
    "        # Create sampler\n",
    "        self.mean_params = Lambda(lambda x: x[:, :n_z])\n",
    "        self.logvar_params = Lambda(lambda x: x[:, n_z:])\n",
    "\n",
    "    def forward(self, x):\n",
    "        # Possible modes for reconstruction:\n",
    "        # img -> img\n",
    "\n",
    "        x = self.q_img(x)\n",
    "        \n",
    "        means = self.mean_params(x)\n",
    "        logvar = self.logvar_params(x)\n",
    "        stddev = torch.exp(0.5 * logvar)\n",
    "        eps = torch.randn_like(stddev)\n",
    "        z = means + eps * stddev\n",
    "        #print(z.shape)\n",
    "        #print(\"OK\")\n",
    "        img_recon = self.p_img(z)\n",
    "        \n",
    "        return img_recon, means, logvar, z\n",
    "    \n",
    "    def forward_test(self, x):\n",
    "        x = self.q_img(x)\n",
    "        \n",
    "        means = self.mean_params(x)\n",
    "        logvar = self.logvar_params(x)\n",
    "        stddev = torch.exp(0.5 * logvar)\n",
    "        eps = torch.zeros_like(stddev)\n",
    "        z = means + eps * stddev\n",
    "        #print(z.shape)\n",
    "        #print(\"OK\")\n",
    "        img_recon = self.p_img(z)\n",
    "        return img_recon, means, logvar, z\n",
    "        \n",
    "\n",
    "    def encode(self, x):\n",
    "        x = self.q_img(x)\n",
    "        means = self.mean_params(x)\n",
    "        stddev = torch.exp(0.5 * self.stddev_params(x))\n",
    "        eps = torch.randn_like(stddev)\n",
    "        z = means + eps * stddev\n",
    "        return z, means, stddev\n",
    "\n",
    "    def decode(self, z, mode):\n",
    "        # Possible modes for reconstruction:\n",
    "        # z -> img\n",
    "        img_recon = self.p_img(z)\n",
    "        return img_recon\n"
   ]
  },
  {
   "cell_type": "markdown",
   "id": "dadac3a2",
   "metadata": {},
   "source": [
    "### Define Model"
   ]
  },
  {
   "cell_type": "code",
   "execution_count": 15,
   "id": "4a9d8b94",
   "metadata": {
    "scrolled": true
   },
   "outputs": [
    {
     "name": "stdout",
     "output_type": "stream",
     "text": [
      "[Dronet] Starting dronet\n",
      "[Dronet] Done with dronet\n",
      "[ImgDecoder] Starting create_model\n",
      "[ImgDecoder] Done with create_model\n",
      "----------------------------------------------------------------\n",
      "        Layer (type)               Output Shape         Param #\n",
      "================================================================\n",
      "            Conv2d-1         [-1, 32, 135, 240]             832\n",
      "            Conv2d-2          [-1, 32, 68, 120]          25,632\n",
      "       BatchNorm2d-3          [-1, 32, 68, 120]              64\n",
      "            Conv2d-4           [-1, 32, 34, 60]           9,248\n",
      "       BatchNorm2d-5           [-1, 32, 34, 60]              64\n",
      "            Conv2d-6           [-1, 32, 34, 60]           9,248\n",
      "            Conv2d-7           [-1, 32, 34, 60]           1,056\n",
      "       BatchNorm2d-8           [-1, 32, 34, 60]              64\n",
      "            Conv2d-9           [-1, 64, 17, 30]          18,496\n",
      "      BatchNorm2d-10           [-1, 64, 17, 30]             128\n",
      "           Conv2d-11           [-1, 64, 17, 30]          36,928\n",
      "           Conv2d-12           [-1, 64, 17, 30]           2,112\n",
      "      BatchNorm2d-13           [-1, 64, 17, 30]             128\n",
      "           Conv2d-14           [-1, 128, 9, 15]          73,856\n",
      "      BatchNorm2d-15           [-1, 128, 9, 15]             256\n",
      "           Conv2d-16           [-1, 128, 9, 15]         147,584\n",
      "           Conv2d-17           [-1, 128, 9, 15]           8,320\n",
      "           Linear-18                   [-1, 64]       1,105,984\n",
      "           Linear-19                   [-1, 32]           2,080\n",
      "           Linear-20                  [-1, 128]           4,224\n",
      "           Dronet-21                  [-1, 128]               0\n",
      "           Lambda-22                   [-1, 64]               0\n",
      "           Lambda-23                   [-1, 64]               0\n",
      "           Linear-24                [-1, 17280]       1,123,200\n",
      "  ConvTranspose2d-25           [-1, 128, 9, 15]         147,584\n",
      "  ConvTranspose2d-26           [-1, 64, 17, 30]         204,864\n",
      "  ConvTranspose2d-27           [-1, 64, 34, 60]         147,520\n",
      "  ConvTranspose2d-28          [-1, 32, 68, 120]          73,760\n",
      "  ConvTranspose2d-29         [-1, 32, 135, 240]          25,632\n",
      "  ConvTranspose2d-30         [-1, 16, 270, 480]          18,448\n",
      "  ConvTranspose2d-31          [-1, 1, 270, 480]             401\n",
      "       ImgDecoder-32          [-1, 1, 270, 480]               0\n",
      "================================================================\n",
      "Total params: 3,187,713\n",
      "Trainable params: 3,187,713\n",
      "Non-trainable params: 0\n",
      "----------------------------------------------------------------\n",
      "Input size (MB): 0.49\n",
      "Forward/backward pass size (MB): 45.37\n",
      "Params size (MB): 12.16\n",
      "Estimated Total Size (MB): 58.02\n",
      "----------------------------------------------------------------\n"
     ]
    }
   ],
   "source": [
    "vae_model = VAE(n_z=latent_dim)\n",
    "\n",
    "if load_model:\n",
    "    vae_model.load_state_dict(torch.load(load_model_file))\n",
    "else:\n",
    "    vae_model.train()\n",
    "\n",
    "optimiser = torch.optim.Adam(vae_model.parameters(), lr=learning_rate)\n",
    "summary(vae_model, (1, 270, 480))"
   ]
  },
  {
   "cell_type": "markdown",
   "id": "6f69f90e",
   "metadata": {},
   "source": [
    "# Training"
   ]
  },
  {
   "cell_type": "code",
   "execution_count": 16,
   "id": "5515c863",
   "metadata": {},
   "outputs": [],
   "source": [
    "def depth_gain(x):\n",
    "    return 1/(x + 0.5) - 0.5\n",
    "\n",
    "def BCELoss(x, x_hat, mean, log_var):\n",
    "    reproduction_loss = nn.BCELoss(reduction='sum')(x_hat, x)\n",
    "    KLD      = 0.5 * torch.sum(1+ log_var - mean.pow(2) - log_var.exp())\n",
    "\n",
    "    return reproduction_loss - KLD\n",
    "\n",
    "def MSE(x, x_hat, mu, logvar):\n",
    "    #rep = (x_hat - x)**2\n",
    "    reproduction_loss = F.mse_loss(x_hat, x, reduction=\"sum\")\n",
    "    kl_divergence = 0.5 * torch.sum(1 + logvar - mu.pow(2) - logvar.exp())\n",
    "\n",
    "    return reproduction_loss - kl_divergence\n",
    "\n",
    "def weighted_MSE(x, x_hat, mu, logvar):\n",
    "    reproduction_loss_ref = F.mse_loss(x_hat, x, reduction=\"sum\")\n",
    "    \n",
    "    reproduction_loss = (depth_gain(x) * torch.square(x_hat - x)).sum()\n",
    "    kl_divergence = 0.5 * torch.sum(1 + logvar - mu.pow(2) - logvar.exp())\n",
    "    \n",
    "    #print(reproduction_loss, reproduction_loss_ref)\n",
    "    return reproduction_loss - kl_divergence"
   ]
  },
  {
   "cell_type": "code",
   "execution_count": null,
   "id": "d4552d13",
   "metadata": {
    "scrolled": false
   },
   "outputs": [
    {
     "name": "stdout",
     "output_type": "stream",
     "text": [
      "Loading tfrecords... \t['../../../rl_data/tfrecord/data100.tfrecords']\n",
      "Iterating length... \tDone: 63\n",
      "gotcha\n",
      "tensor(336488.6562, grad_fn=<SumBackward0>) tensor(442913.5312, grad_fn=<MseLossBackward0>)\n",
      "tensor(336515.8438, grad_fn=<SubBackward0>)\n",
      "tensor(378938.9688, grad_fn=<SumBackward0>) tensor(523496., grad_fn=<MseLossBackward0>)\n",
      "tensor(383961.4375, grad_fn=<SubBackward0>)\n",
      "tensor(354625.4375, grad_fn=<SumBackward0>) tensor(454984.6250, grad_fn=<MseLossBackward0>)\n",
      "tensor(354835.5625, grad_fn=<SubBackward0>)\n",
      "tensor(327252.6250, grad_fn=<SumBackward0>) tensor(496088.7500, grad_fn=<MseLossBackward0>)\n",
      "tensor(327697.5938, grad_fn=<SubBackward0>)\n",
      "tensor(156023.9375, grad_fn=<SumBackward0>) tensor(620768.1875, grad_fn=<MseLossBackward0>)\n",
      "tensor(273285.4688, grad_fn=<SubBackward0>)\n",
      "Epoch: 1/250, Step: 5/63, Avg loss: 10476.850, time: 21.62, Avg. per iter 4.22, Est. time left 244.49\n",
      "\n",
      "tensor(206489.1250, grad_fn=<SumBackward0>) tensor(429005.6562, grad_fn=<MseLossBackward0>)\n",
      "tensor(207017.2656, grad_fn=<SubBackward0>)\n",
      "tensor(167254.0781, grad_fn=<SumBackward0>) tensor(519876.7500, grad_fn=<MseLossBackward0>)\n",
      "tensor(167394.8594, grad_fn=<SubBackward0>)\n",
      "tensor(190287.6875, grad_fn=<SumBackward0>) tensor(728873.3125, grad_fn=<MseLossBackward0>)\n",
      "tensor(190354.4844, grad_fn=<SubBackward0>)\n",
      "tensor(169553.4219, grad_fn=<SumBackward0>) tensor(582062.6875, grad_fn=<MseLossBackward0>)\n",
      "tensor(169596.6094, grad_fn=<SubBackward0>)\n",
      "tensor(171981.6250, grad_fn=<SumBackward0>) tensor(678150.6250, grad_fn=<MseLossBackward0>)\n",
      "tensor(172044.2656, grad_fn=<SubBackward0>)\n",
      "Epoch: 1/250, Step: 10/63, Avg loss: 8070.948, time: 42.61, Avg. per iter 4.21, Est. time left 222.92\n",
      "\n",
      "tensor(172694.5938, grad_fn=<SumBackward0>) tensor(474917.1875, grad_fn=<MseLossBackward0>)\n",
      "tensor(172862.2344, grad_fn=<SubBackward0>)\n",
      "tensor(131213.1875, grad_fn=<SumBackward0>) tensor(479756.9062, grad_fn=<MseLossBackward0>)\n",
      "tensor(131946.0781, grad_fn=<SubBackward0>)\n",
      "tensor(149125.0156, grad_fn=<SumBackward0>) tensor(605768.3750, grad_fn=<MseLossBackward0>)\n",
      "tensor(151917.0938, grad_fn=<SubBackward0>)\n",
      "tensor(126173.7734, grad_fn=<SumBackward0>) tensor(463492.0625, grad_fn=<MseLossBackward0>)\n",
      "tensor(129772.7656, grad_fn=<SubBackward0>)\n",
      "tensor(129347.3203, grad_fn=<SumBackward0>) tensor(363386.6562, grad_fn=<MseLossBackward0>)\n",
      "tensor(132821.9062, grad_fn=<SubBackward0>)\n",
      "Epoch: 1/250, Step: 15/63, Avg loss: 6879.215, time: 63.58, Avg. per iter 4.20, Est. time left 201.67\n",
      "\n",
      "tensor(112986.8672, grad_fn=<SumBackward0>) tensor(407249.8125, grad_fn=<MseLossBackward0>)\n",
      "tensor(116341.3750, grad_fn=<SubBackward0>)\n",
      "tensor(133176.2031, grad_fn=<SumBackward0>) tensor(352219., grad_fn=<MseLossBackward0>)\n",
      "tensor(138843.1406, grad_fn=<SubBackward0>)\n",
      "tensor(110302.6797, grad_fn=<SumBackward0>) tensor(390326.6250, grad_fn=<MseLossBackward0>)\n",
      "tensor(125913.8750, grad_fn=<SubBackward0>)\n",
      "tensor(89573.3828, grad_fn=<SumBackward0>) tensor(293565.5625, grad_fn=<MseLossBackward0>)\n",
      "tensor(103899.3281, grad_fn=<SubBackward0>)\n",
      "tensor(121098.5312, grad_fn=<SumBackward0>) tensor(406095.7188, grad_fn=<MseLossBackward0>)\n",
      "tensor(126532.1797, grad_fn=<SubBackward0>)\n",
      "Epoch: 1/250, Step: 20/63, Avg loss: 6114.927, time: 84.25, Avg. per iter 4.18, Est. time left 179.93\n",
      "\n",
      "tensor(117971.6797, grad_fn=<SumBackward0>) tensor(447750.5625, grad_fn=<MseLossBackward0>)\n",
      "tensor(121128.8906, grad_fn=<SubBackward0>)\n",
      "tensor(118387.1328, grad_fn=<SumBackward0>) tensor(302181.2188, grad_fn=<MseLossBackward0>)\n",
      "tensor(120473.9219, grad_fn=<SubBackward0>)\n",
      "tensor(111714.3203, grad_fn=<SumBackward0>) tensor(331631.1875, grad_fn=<MseLossBackward0>)\n",
      "tensor(113586.1953, grad_fn=<SubBackward0>)\n",
      "tensor(97065.4375, grad_fn=<SumBackward0>) tensor(306161.0625, grad_fn=<MseLossBackward0>)\n",
      "tensor(99291.0234, grad_fn=<SubBackward0>)\n",
      "tensor(125074.5469, grad_fn=<SumBackward0>) tensor(468561.6875, grad_fn=<MseLossBackward0>)\n",
      "tensor(127350.6406, grad_fn=<SubBackward0>)\n",
      "Epoch: 1/250, Step: 25/63, Avg loss: 5619.229, time: 106.10, Avg. per iter 4.22, Est. time left 160.39\n",
      "\n",
      "tensor(121441.3672, grad_fn=<SumBackward0>) tensor(454504.5625, grad_fn=<MseLossBackward0>)\n",
      "tensor(122979.2422, grad_fn=<SubBackward0>)\n",
      "tensor(120683.2188, grad_fn=<SumBackward0>) tensor(337707.8125, grad_fn=<MseLossBackward0>)\n",
      "tensor(121993.0859, grad_fn=<SubBackward0>)\n",
      "tensor(116011.2109, grad_fn=<SumBackward0>) tensor(335976.0312, grad_fn=<MseLossBackward0>)\n",
      "tensor(117199.7109, grad_fn=<SubBackward0>)\n",
      "tensor(135136.9844, grad_fn=<SumBackward0>) tensor(561215., grad_fn=<MseLossBackward0>)\n",
      "tensor(137289.3438, grad_fn=<SubBackward0>)\n",
      "tensor(102136.5391, grad_fn=<SumBackward0>) tensor(377181.1250, grad_fn=<MseLossBackward0>)\n",
      "tensor(103882.1562, grad_fn=<SubBackward0>)\n",
      "Epoch: 1/250, Step: 30/63, Avg loss: 5311.173, time: 127.54, Avg. per iter 4.23, Est. time left 139.65\n",
      "\n",
      "tensor(105664.4219, grad_fn=<SumBackward0>) tensor(405382.1250, grad_fn=<MseLossBackward0>)\n",
      "tensor(107328.2891, grad_fn=<SubBackward0>)\n",
      "tensor(94044.2422, grad_fn=<SumBackward0>) tensor(367891.7500, grad_fn=<MseLossBackward0>)\n",
      "tensor(95625.5547, grad_fn=<SubBackward0>)\n",
      "tensor(102347.8906, grad_fn=<SumBackward0>) tensor(385603.3125, grad_fn=<MseLossBackward0>)\n",
      "tensor(104372.3516, grad_fn=<SubBackward0>)\n",
      "tensor(111933.3906, grad_fn=<SumBackward0>) tensor(328673.0625, grad_fn=<MseLossBackward0>)\n",
      "tensor(114043.8438, grad_fn=<SubBackward0>)\n",
      "tensor(94619.0312, grad_fn=<SumBackward0>) tensor(247243.0938, grad_fn=<MseLossBackward0>)\n",
      "tensor(97174.7031, grad_fn=<SubBackward0>)\n",
      "Epoch: 1/250, Step: 35/63, Avg loss: 5015.421, time: 149.13, Avg. per iter 4.24, Est. time left 118.83\n",
      "\n",
      "tensor(119351.5312, grad_fn=<SumBackward0>) tensor(417123.5000, grad_fn=<MseLossBackward0>)\n",
      "tensor(123480.0781, grad_fn=<SubBackward0>)\n",
      "tensor(114915.3828, grad_fn=<SumBackward0>) tensor(371650.3125, grad_fn=<MseLossBackward0>)\n",
      "tensor(118211.3203, grad_fn=<SubBackward0>)\n",
      "tensor(104956.3281, grad_fn=<SumBackward0>) tensor(362457.1875, grad_fn=<MseLossBackward0>)\n",
      "tensor(108458.3906, grad_fn=<SubBackward0>)\n",
      "tensor(85578.5938, grad_fn=<SumBackward0>) tensor(251576.9375, grad_fn=<MseLossBackward0>)\n",
      "tensor(88501.0625, grad_fn=<SubBackward0>)\n",
      "tensor(88818.2109, grad_fn=<SumBackward0>) tensor(275068.2500, grad_fn=<MseLossBackward0>)\n",
      "tensor(91407.9453, grad_fn=<SubBackward0>)\n"
     ]
    }
   ],
   "source": [
    "time_iteration = []\n",
    "# train_dataset = DepthImageDataset(tfrecord_folder=tfrecord_folder, batch_size=batch_size)\n",
    "# train_loader = DataLoader(dataset=train_dataset, batch_size=1, collate_fn=collate_batch)\n",
    "# train_loader = next(iter(train_loader))\n",
    "\n",
    "save_model_file = \"/home/patricknit/vae_models/vae_dronet_sigmoid_MSE_weighted\"\n",
    "load_model_file = \"/home/patricknit/vae_models/vae_dronet_sigmoid.pth\"\n",
    "\n",
    "for epoch in range(num_epochs):\n",
    "    overall_loss = 0\n",
    "    overall_elbo = 0\n",
    "    since = time.time()\n",
    "    \n",
    "    # Random file each time\n",
    "    train_dataset = DepthImageDataset(tfrecord_folder=tfrecord_folder, batch_size=batch_size)\n",
    "    train_loader = DataLoader(dataset=train_dataset, batch_size=1, collate_fn=collate_batch)\n",
    "    n_iterations = len(train_loader)\n",
    "    \n",
    "    for i, (image, *_) in enumerate(train_loader):\n",
    "        since_iter = time.time()\n",
    "\n",
    "        optimiser.zero_grad()\n",
    "\n",
    "        # VAE forward pass\n",
    "        x_hat, mu, logvar, z = vae_model(image)\n",
    "\n",
    "        # Loss\n",
    "        loss = weighted_MSE(image, x_hat, mu, logvar)\n",
    "        print(loss)\n",
    "\n",
    "        overall_loss += loss\n",
    "\n",
    "        # Update weights\n",
    "        \n",
    "        loss.backward()\n",
    "        optimiser.step()\n",
    "        \n",
    "        \n",
    "        time_iteration.append(time.time() - since_iter)\n",
    "        iter_time_mean = np.array(time_iteration).mean()\n",
    "        \n",
    "        if (i+1) % (5) == 0:\n",
    "            time_elapsed = time.time() - since\n",
    "            print(f\"Epoch: {epoch+1}/{num_epochs}, Step: {i+1}/{n_iterations}, Avg loss: {overall_loss/((i+1)*batch_size):.3f}, time: {time_elapsed:.2f}, Avg. per iter {iter_time_mean:.2f}, Est. time left {iter_time_mean*(n_iterations - (i+1)):.2f}\")\n",
    "            print()\n",
    "            \n",
    "        if (i+1) % (n_iterations-1) == 0:\n",
    "            imshow(image[0])\n",
    "            imshow(x_hat[0].detach())\n",
    "    \n",
    "    save_model_file_dir = save_model_file + f\"_{epoch+1}.pth\"\n",
    "    torch.save(vae_model.state_dict(), save_model_file_dir)\n",
    "            "
   ]
  },
  {
   "cell_type": "markdown",
   "id": "eb1e4c74",
   "metadata": {},
   "source": [
    "# Some results\n",
    "\n",
    "### BCE\n",
    "- 10 epochs, no batch norm: 60191.195\n",
    "\n",
    "### BCE with unpooling\n",
    "- 10 epochs, clear reconstruction but image indices carried through VAE. Faster training than BCE\n",
    "\n",
    "### ReLU + MSE loss\n",
    "- Avg loss: 2629.289, very poor reconstruction"
   ]
  },
  {
   "cell_type": "code",
   "execution_count": null,
   "id": "00d4a372",
   "metadata": {},
   "outputs": [],
   "source": [
    "# torch.save(vae_model.state_dict(), save_model_file)"
   ]
  },
  {
   "cell_type": "code",
   "execution_count": null,
   "id": "9fc42698",
   "metadata": {},
   "outputs": [],
   "source": [
    "# load_model=True\n",
    "# if load_model:\n",
    "#     vae_model.load_state_dict(torch.load(\"../../../vae_models/vae_dronet_sigmoid_BCE_riga_924.pth\"))\n",
    "#     vae_model.eval()\n",
    "# else:\n",
    "#     vae_model.train()"
   ]
  },
  {
   "cell_type": "markdown",
   "id": "57366eac",
   "metadata": {},
   "source": [
    "# Training Run 2"
   ]
  },
  {
   "cell_type": "code",
   "execution_count": null,
   "id": "42e5cc96",
   "metadata": {
    "scrolled": false
   },
   "outputs": [],
   "source": [
    "# vae_model = VAE(n_z=latent_dim)\n",
    "\n",
    "# if load_model:\n",
    "#     vae_model.load_state_dict(torch.load(load_model_file))\n",
    "#     vae_model.eval()\n",
    "# else:\n",
    "#     vae_model.train()\n",
    "\n",
    "# optimiser = torch.optim.Adam(vae_model.parameters(), lr=learning_rate)\n",
    "# summary(vae_model, (1, 270, 480))"
   ]
  },
  {
   "cell_type": "code",
   "execution_count": null,
   "id": "0c282a2e",
   "metadata": {
    "scrolled": true
   },
   "outputs": [],
   "source": [
    "# time_iteration = []\n",
    "# # train_dataset = DepthImageDataset(tfrecord_folder=tfrecord_folder, batch_size=batch_size)\n",
    "# # train_loader = DataLoader(dataset=train_dataset, batch_size=1, collate_fn=collate_batch)\n",
    "# # train_loader = next(iter(train_loader))\n",
    "\n",
    "# for epoch in range(150):\n",
    "#     overall_loss = 0\n",
    "#     overall_elbo = 0\n",
    "#     since = time.time()\n",
    "    \n",
    "#     train_dataset = DepthImageDataset(tfrecord_folder=tfrecord_folder, batch_size=batch_size)\n",
    "#     train_loader = DataLoader(dataset=train_dataset, batch_size=1, collate_fn=collate_batch)\n",
    "#     n_iterations = len(train_loader)\n",
    "    \n",
    "#     for i, (image, *_) in enumerate(train_loader):\n",
    "#         since_iter = time.time()\n",
    "\n",
    "#         optimiser.zero_grad()\n",
    "\n",
    "#         # VAE forward pass\n",
    "#         x_hat, mu, logvar, z = vae_model(image)\n",
    "\n",
    "#         # Loss\n",
    "#         loss = mse_loss(image, x_hat, mu, logvar)\n",
    "\n",
    "#         overall_loss += loss\n",
    "\n",
    "#         # Update weights\n",
    "        \n",
    "#         loss.backward()\n",
    "#         optimiser.step()\n",
    "        \n",
    "        \n",
    "#         time_iteration.append(time.time() - since_iter)\n",
    "#         iter_time_mean = np.array(time_iteration).mean()\n",
    "        \n",
    "#         if (i+1) % 5 == 0:\n",
    "#             time_elapsed = time.time() - since\n",
    "#             print(f\"Epoch: {epoch+1}/{num_epochs}, Step: {i+1}/{n_iterations}, Avg loss: {overall_loss/((i+1)*batch_size):.3f}, time: {time_elapsed:.2f}, Avg. per iter {iter_time_mean:.2f}, Est. time left {iter_time_mean*(n_iterations - (i+1)):.2f}\")\n",
    "#             print()\n",
    "#             save_model_file = f\"../../../vae_models/vae_resnet_drone_net_mse_{i+1}.pth\"\n",
    "#             torch.save(vae_model.state_dict(), save_model_file)\n",
    "            \n",
    "#         if (i+1) % 50 == 0:\n",
    "#             imshow(image[0])\n",
    "#             imshow(x_hat[0].detach())\n",
    "#             '"
   ]
  },
  {
   "cell_type": "markdown",
   "id": "f58eeaf8",
   "metadata": {},
   "source": [
    "# Evaluation"
   ]
  },
  {
   "cell_type": "code",
   "execution_count": null,
   "id": "73440ac3",
   "metadata": {
    "scrolled": false
   },
   "outputs": [],
   "source": [
    "vae_model.eval()\n",
    "\n",
    "# Visualise sample of images\n",
    "with torch.no_grad():\n",
    "    \n",
    "    images, *_ = next(iter(test_loader))\n",
    "\n",
    "    x_hat, *_ = vae_model.forward_test(images)\n",
    "\n",
    "    print(images.mean(), x_hat.mean())\n",
    "    print(images.var(), x_hat.var())\n",
    "    print(images.shape)\n",
    "    for idx in range(len(images)):\n",
    "        # show images\n",
    "        imshow(images[idx])\n",
    "        imshow(x_hat[idx])"
   ]
  },
  {
   "cell_type": "code",
   "execution_count": null,
   "id": "6c8acf03",
   "metadata": {
    "scrolled": true
   },
   "outputs": [],
   "source": [
    "train_dataset = DepthImageDataset(tfrecord_folder=tfrecord_folder, batch_size=batch_size)\n",
    "train_loader = DataLoader(dataset=train_dataset, batch_size=1, collate_fn=collate_batch)\n",
    "\n",
    "vae_model.eval()\n",
    "# Visualise sample of images\n",
    "\n",
    "with torch.no_grad():\n",
    "        \n",
    "    images, *_ = next(iter(train_loader)) # if dataset is shuffled every iter(), essentially test \n",
    "    # VAE forward pass\n",
    "    x_hat, *_ = vae_model.forward_test(images)\n",
    "\n",
    "    print(images.mean(), x_hat.mean())\n",
    "    print(images.var(), x_hat.var())\n",
    "    print(images.shape)\n",
    "    for idx in range(len(images)):\n",
    "        # show images\n",
    "        imshow(images[idx])\n",
    "        imshow(x_hat[idx])\n"
   ]
  }
 ],
 "metadata": {
  "kernelspec": {
   "display_name": "Python 3 (ipykernel)",
   "language": "python",
   "name": "python3"
  },
  "language_info": {
   "codemirror_mode": {
    "name": "ipython",
    "version": 3
   },
   "file_extension": ".py",
   "mimetype": "text/x-python",
   "name": "python",
   "nbconvert_exporter": "python",
   "pygments_lexer": "ipython3",
   "version": "3.9.7"
  }
 },
 "nbformat": 4,
 "nbformat_minor": 5
}
