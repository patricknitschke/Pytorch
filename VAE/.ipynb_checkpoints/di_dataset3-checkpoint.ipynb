{
 "cells": [
  {
   "cell_type": "code",
   "execution_count": 1,
   "id": "6e2cf0ad",
   "metadata": {},
   "outputs": [
    {
     "name": "stderr",
     "output_type": "stream",
     "text": [
      "2022-03-07 22:21:35.383227: W tensorflow/stream_executor/platform/default/dso_loader.cc:64] Could not load dynamic library 'libcudart.so.11.0'; dlerror: libcudart.so.11.0: cannot open shared object file: No such file or directory; LD_LIBRARY_PATH: /opt/ros/noetic/lib:/home/patricknit/.mujoco/mjpro150/bin\n",
      "2022-03-07 22:21:35.383245: I tensorflow/stream_executor/cuda/cudart_stub.cc:29] Ignore above cudart dlerror if you do not have a GPU set up on your machine.\n",
      "/home/patricknit/anaconda3/envs/tf_gpu/lib/python3.9/site-packages/torch/cuda/__init__.py:80: UserWarning: CUDA initialization: The NVIDIA driver on your system is too old (found version 10010). Please update your GPU driver by downloading and installing a new version from the URL: http://www.nvidia.com/Download/index.aspx Alternatively, go to: https://pytorch.org to install a PyTorch version that has been compiled with your version of the CUDA driver. (Triggered internally at  ../c10/cuda/CUDAFunctions.cpp:112.)\n",
      "  return torch._C._cuda_getDeviceCount() > 0\n"
     ]
    }
   ],
   "source": [
    "import sys\n",
    "import tensorflow as tf\n",
    "import torch\n",
    "import numpy as np\n",
    "import skimage.io as io\n",
    "import os\n",
    "\n",
    "from utilities import get_files_ending_with"
   ]
  },
  {
   "cell_type": "code",
   "execution_count": 2,
   "id": "8dde1be5",
   "metadata": {},
   "outputs": [],
   "source": [
    "sys.path.append('.')"
   ]
  },
  {
   "cell_type": "markdown",
   "id": "f8148d17",
   "metadata": {},
   "source": [
    "# Pytorch Dataset wrapper around tfrecords by Huan\n",
    "### Helper functions"
   ]
  },
  {
   "cell_type": "code",
   "execution_count": 3,
   "id": "d5e702f6",
   "metadata": {},
   "outputs": [],
   "source": [
    "device = torch.device(\"cuda\" if torch.cuda.is_available() else \"cpu\")\n",
    "def collate_batch(batch):\n",
    "    image = batch[0][0]\n",
    "    image_filtered = batch[0][1]\n",
    "    height = batch[0][2]\n",
    "    width = batch[0][3]\n",
    "    depth = batch[0][4]\n",
    "    \n",
    "    return torch.Tensor(np.array(image)).to(device), torch.Tensor(np.array(image_filtered)).to(device), torch.Tensor(np.array(height)).to(device), torch.Tensor(np.array(width)).to(device), torch.Tensor(np.array(depth)).to(device)"
   ]
  },
  {
   "cell_type": "markdown",
   "id": "1997df46",
   "metadata": {},
   "source": [
    "### Dataset"
   ]
  },
  {
   "cell_type": "code",
   "execution_count": 4,
   "id": "81bc416e",
   "metadata": {},
   "outputs": [],
   "source": [
    "class DepthImageDataset(torch.utils.data.IterableDataset):\n",
    "    def __init__(self, tfrecord_folder, batch_size=32, shuffle=True):\n",
    "        super(DepthImageDataset).__init__()\n",
    "        self.tfrecord_folder = tfrecord_folder\n",
    "        self.dataset, self.data_len = self.load_tfrecords(is_shuffle_and_repeat=shuffle, batch_size=batch_size)\n",
    "\n",
    "    def read_tfrecord(self, serialized_example):\n",
    "        feature_description = {\n",
    "            'image': tf.io.FixedLenFeature([], tf.string),\n",
    "            'image_filtered': tf.io.FixedLenFeature([], tf.string),\n",
    "            'height': tf.io.FixedLenFeature([], tf.int64),\n",
    "            'width': tf.io.FixedLenFeature([], tf.int64),\n",
    "            'depth': tf.io.FixedLenFeature([], tf.int64),\n",
    "        }\n",
    "        example = tf.io.parse_single_example(serialized_example, feature_description)\n",
    "\n",
    "        image = tf.cast(tf.io.parse_tensor(example['image'], out_type = tf.uint8), tf.float32) / 255.\n",
    "        image_filtered = tf.cast(tf.io.parse_tensor(example['image_filtered'], out_type = tf.uint8), tf.float32) / 255.\n",
    "        height = example['height']\n",
    "        width = example['width']\n",
    "        depth = example['depth']\n",
    "        \n",
    "        return image, image_filtered, height, width, depth\n",
    "\n",
    "    def load_tfrecords(self, is_shuffle_and_repeat=True, shuffle_buffer_size=5000, prefetch_buffer_size_multiplier=2, batch_size=32):\n",
    "        print('Loading tfrecords... ', end=\"\\t\")\n",
    "        tfrecord_fnames = get_files_ending_with(self.tfrecord_folder, '.tfrecords')\n",
    "        assert len(tfrecord_fnames) > 0\n",
    "        if is_shuffle_and_repeat:\n",
    "            np.random.shuffle(tfrecord_fnames)\n",
    "        else:\n",
    "            tfrecord_fnames = sorted(tfrecord_fnames) # 176 tfrecords for train, 20 for test\n",
    "\n",
    "        tfrecord_fnames = tfrecord_fnames[:1]\n",
    "        print(tfrecord_fnames)\n",
    "\n",
    "        dataset = tf.data.TFRecordDataset(tfrecord_fnames)\n",
    "        dataset = dataset.map(self.read_tfrecord, num_parallel_calls=tf.data.experimental.AUTOTUNE)\n",
    "        if is_shuffle_and_repeat: \n",
    "            dataset = dataset.shuffle(buffer_size=shuffle_buffer_size, reshuffle_each_iteration=True)\n",
    "        dataset = dataset.batch(batch_size)\n",
    "        dataset = dataset.prefetch(buffer_size=prefetch_buffer_size_multiplier * batch_size)\n",
    "\n",
    "        print('Iterating length... ', end=\"\\t\")\n",
    "        data_len = sum(1 for _ in dataset)\n",
    "        print('Done:', data_len)\n",
    "        \n",
    "        return dataset, data_len\n",
    "    \n",
    "    def __iter__(self):\n",
    "        print(\"gotcha\")\n",
    "        return self.dataset.__iter__()\n",
    "\n",
    "    def __len__(self):\n",
    "        return self.data_len"
   ]
  },
  {
   "cell_type": "code",
   "execution_count": 5,
   "id": "032c41ad",
   "metadata": {
    "scrolled": false
   },
   "outputs": [
    {
     "name": "stderr",
     "output_type": "stream",
     "text": [
      "2022-03-07 22:21:37.855749: E tensorflow/stream_executor/cuda/cuda_driver.cc:271] failed call to cuInit: CUDA_ERROR_NO_DEVICE: no CUDA-capable device is detected\n",
      "2022-03-07 22:21:37.855777: I tensorflow/stream_executor/cuda/cuda_diagnostics.cc:156] kernel driver does not appear to be running on this host (patricknit-OptiPlex-7060): /proc/driver/nvidia/version does not exist\n",
      "2022-03-07 22:21:37.856009: I tensorflow/core/platform/cpu_feature_guard.cc:151] This TensorFlow binary is optimized with oneAPI Deep Neural Network Library (oneDNN) to use the following CPU instructions in performance-critical operations:  AVX2 FMA\n",
      "To enable them in other operations, rebuild TensorFlow with the appropriate compiler flags.\n"
     ]
    },
    {
     "name": "stdout",
     "output_type": "stream",
     "text": [
      "Loading tfrecords... \t['/home/patricknit/rl_data/tfrecord_wfiltered/data2.tfrecords']\n",
      "Iterating length... \tDone: 69\n"
     ]
    }
   ],
   "source": [
    "dataset = DepthImageDataset('/home/patricknit/rl_data/tfrecord_wfiltered')\n",
    "loader = torch.utils.data.DataLoader(dataset, batch_size=1, collate_fn=collate_batch)"
   ]
  },
  {
   "cell_type": "markdown",
   "id": "2e75db1a",
   "metadata": {},
   "source": [
    "### Dataloader"
   ]
  },
  {
   "cell_type": "code",
   "execution_count": 7,
   "id": "998d279b",
   "metadata": {},
   "outputs": [
    {
     "name": "stdout",
     "output_type": "stream",
     "text": [
      "gotcha\n"
     ]
    },
    {
     "ename": "NameError",
     "evalue": "name 'data' is not defined",
     "output_type": "error",
     "traceback": [
      "\u001b[0;31m---------------------------------------------------------------------------\u001b[0m",
      "\u001b[0;31mNameError\u001b[0m                                 Traceback (most recent call last)",
      "Input \u001b[0;32mIn [7]\u001b[0m, in \u001b[0;36m<module>\u001b[0;34m\u001b[0m\n\u001b[1;32m      1\u001b[0m data_iter \u001b[38;5;241m=\u001b[39m \u001b[38;5;28miter\u001b[39m(loader)\n\u001b[1;32m      2\u001b[0m images, images_filtered, height, width, depth \u001b[38;5;241m=\u001b[39m data_iter\u001b[38;5;241m.\u001b[39mnext()\n\u001b[0;32m----> 3\u001b[0m \u001b[38;5;28;01mfor\u001b[39;00m el \u001b[38;5;129;01min\u001b[39;00m \u001b[43mdata\u001b[49m:\n\u001b[1;32m      4\u001b[0m     \u001b[38;5;28mprint\u001b[39m(el\u001b[38;5;241m.\u001b[39mshape)\n",
      "\u001b[0;31mNameError\u001b[0m: name 'data' is not defined"
     ]
    }
   ],
   "source": [
    "data_iter = iter(loader)\n",
    "images, images_filtered, height, width, depth = data_iter.next()\n",
    "for el in data:\n",
    "    print(el.shape)\n",
    "    "
   ]
  },
  {
   "cell_type": "code",
   "execution_count": null,
   "id": "adc76501",
   "metadata": {
    "scrolled": false
   },
   "outputs": [],
   "source": [
    "for i in range(32):\n",
    "    img_idx = i\n",
    "    image = images[img_idx]\n",
    "    filtered = images_filtered[img_idx]\n",
    "    \n",
    "    io.imshow(image.numpy().squeeze())\n",
    "    io.show()\n",
    "\n",
    "    io.imshow(filtered.numpy().squeeze())\n",
    "    io.show()"
   ]
  },
  {
   "cell_type": "code",
   "execution_count": null,
   "id": "6bb4b939",
   "metadata": {},
   "outputs": [],
   "source": [
    "image, height, width, depth = iter(data_iter).next()\n",
    "image.shape, height[0], width[0], depth[0]"
   ]
  },
  {
   "cell_type": "code",
   "execution_count": null,
   "id": "29724696",
   "metadata": {
    "scrolled": true
   },
   "outputs": [],
   "source": [
    "i = 0\n",
    "for image, height, width, depth in loader:\n",
    "    i += 1\n",
    "    if (i+1) % 50 == 0:\n",
    "        print(i+1, \":\", image.shape)\n",
    "len(loader)"
   ]
  },
  {
   "cell_type": "code",
   "execution_count": null,
   "id": "94f19017",
   "metadata": {},
   "outputs": [],
   "source": [
    "i = 0\n",
    "for image, height, width, depth in loader:\n",
    "    i += 1\n",
    "    if (i+1) % 2 == 0:\n",
    "        print(i+1, \":\", image.shape)\n",
    "len(loader)"
   ]
  },
  {
   "cell_type": "code",
   "execution_count": null,
   "id": "eb4b77b5",
   "metadata": {},
   "outputs": [],
   "source": []
  }
 ],
 "metadata": {
  "kernelspec": {
   "display_name": "Python 3 (ipykernel)",
   "language": "python",
   "name": "python3"
  },
  "language_info": {
   "codemirror_mode": {
    "name": "ipython",
    "version": 3
   },
   "file_extension": ".py",
   "mimetype": "text/x-python",
   "name": "python",
   "nbconvert_exporter": "python",
   "pygments_lexer": "ipython3",
   "version": "3.9.7"
  }
 },
 "nbformat": 4,
 "nbformat_minor": 5
}
