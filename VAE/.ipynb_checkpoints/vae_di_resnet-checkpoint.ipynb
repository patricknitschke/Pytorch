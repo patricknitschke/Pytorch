{
 "cells": [
  {
   "cell_type": "code",
   "execution_count": 1,
   "id": "53ea8be7",
   "metadata": {},
   "outputs": [],
   "source": [
    "import torch\n",
    "import torch.nn as nn\n",
    "import torch.nn.functional as F\n",
    "import torchvision\n",
    "from torch.utils.data import DataLoader, Dataset\n",
    "import torchvision.transforms as transforms\n",
    "from torch.optim import Adam\n",
    "import torchvision.transforms.functional as fn\n",
    "\n",
    "import os\n",
    "import time\n",
    "import math\n",
    "import numpy as np\n",
    "import matplotlib.pyplot as plt\n",
    "\n",
    "from di_dataset import DepthImageDataset\n",
    "\n",
    "from torch.utils.tensorboard import SummaryWriter"
   ]
  },
  {
   "cell_type": "code",
   "execution_count": 2,
   "id": "2848f0f5",
   "metadata": {},
   "outputs": [
    {
     "name": "stderr",
     "output_type": "stream",
     "text": [
      "2022-02-23 16:33:54.802306: I tensorflow/stream_executor/platform/default/dso_loader.cc:49] Successfully opened dynamic library libcudart.so.10.1\n"
     ]
    },
    {
     "name": "stdout",
     "output_type": "stream",
     "text": [
      "cpu\n"
     ]
    },
    {
     "name": "stderr",
     "output_type": "stream",
     "text": [
      "/home/patricknit/anaconda3/envs/tf_gpu/lib/python3.9/site-packages/torch/cuda/__init__.py:80: UserWarning: CUDA initialization: The NVIDIA driver on your system is too old (found version 10010). Please update your GPU driver by downloading and installing a new version from the URL: http://www.nvidia.com/Download/index.aspx Alternatively, go to: https://pytorch.org to install a PyTorch version that has been compiled with your version of the CUDA driver. (Triggered internally at  ../c10/cuda/CUDAFunctions.cpp:112.)\n",
      "  return torch._C._cuda_getDeviceCount() > 0\n"
     ]
    }
   ],
   "source": [
    "writer = SummaryWriter('runs/vae_cifar10')\n",
    "\n",
    "# Device configuration\n",
    "device = torch.device('cuda' if torch.cuda.is_available() else 'cpu')\n",
    "print(device)"
   ]
  },
  {
   "cell_type": "markdown",
   "id": "00f15247",
   "metadata": {},
   "source": [
    "# Load Dataset"
   ]
  },
  {
   "cell_type": "code",
   "execution_count": 3,
   "id": "96c30b23",
   "metadata": {},
   "outputs": [],
   "source": [
    "saves_folders = \"../../../rl_data\"\n",
    "load_paths = [os.path.join(saves_folders, saves_folder) for saves_folder in os.listdir(saves_folders)]"
   ]
  },
  {
   "cell_type": "code",
   "execution_count": 4,
   "id": "0b1bb310",
   "metadata": {},
   "outputs": [],
   "source": [
    "load_path = \"../../../rl_data/saves_3\""
   ]
  },
  {
   "cell_type": "code",
   "execution_count": 5,
   "id": "a82a7290",
   "metadata": {},
   "outputs": [],
   "source": [
    "# Hyperparams\n",
    "latent_dim = 5000 \n",
    "num_epochs = 10\n",
    "batch_size = 1\n",
    "learning_rate = 1e-3"
   ]
  },
  {
   "cell_type": "code",
   "execution_count": 6,
   "id": "d82131cb",
   "metadata": {},
   "outputs": [
    {
     "name": "stdout",
     "output_type": "stream",
     "text": [
      "Loading from ../../../rl_data/saves_3\n"
     ]
    },
    {
     "name": "stderr",
     "output_type": "stream",
     "text": [
      "100%|████████████████████████████████████████████████████████████████| 1/1 [00:00<00:00,  7.83it/s]\n"
     ]
    }
   ],
   "source": [
    "# Obtain train and test data\n",
    "dataset = DepthImageDataset(load_path=load_path)"
   ]
  },
  {
   "cell_type": "code",
   "execution_count": 7,
   "id": "91c2e4d4",
   "metadata": {},
   "outputs": [
    {
     "data": {
      "text/plain": [
       "(1, 1, 1, 1)"
      ]
     },
     "execution_count": 7,
     "metadata": {},
     "output_type": "execute_result"
    }
   ],
   "source": [
    "train_size = int(0.9 * len(dataset))\n",
    "test_size = len(dataset) - train_size\n",
    "train_dataset, test_dataset = torch.utils.data.random_split(dataset, [train_size, test_size])\n",
    "\n",
    "train_loader = DataLoader(dataset=train_dataset, batch_size=batch_size, num_workers=0)\n",
    "test_loader = DataLoader(dataset=test_dataset, batch_size=batch_size, num_workers=0)\n",
    "len(train_loader), len(test_loader), len(train_dataset), len(test_dataset)"
   ]
  },
  {
   "cell_type": "code",
   "execution_count": 8,
   "id": "f5eb2b73",
   "metadata": {},
   "outputs": [
    {
     "data": {
      "image/png": "[encoded data removed]",
      "text/plain": [
       "<Figure size 432x288 with 1 Axes>"
      ]
     },
     "metadata": {
      "needs_background": "light"
     },
     "output_type": "display_data"
    },
    {
     "name": "stdout",
     "output_type": "stream",
     "text": [
      "torch.Size([1, 272, 480])\n"
     ]
    }
   ],
   "source": [
    "dataiter = iter(train_loader)\n",
    "image_batch = dataiter.next()\n",
    "\n",
    "import torch.nn.functional as F\n",
    "\n",
    "\n",
    "def imshow(img):\n",
    "    npimg = img.numpy()\n",
    "    plt.imshow(np.transpose(npimg, (1, 2, 0)))\n",
    "    plt.show()\n",
    "\n",
    "for image in image_batch:\n",
    "    imshow(image)\n",
    "\n",
    "    \n",
    "print(image.shape)"
   ]
  },
  {
   "cell_type": "code",
   "execution_count": 9,
   "id": "1ce9d190",
   "metadata": {},
   "outputs": [
    {
     "data": {
      "text/plain": [
       "(tensor(0.2656), tensor(0.0110))"
      ]
     },
     "execution_count": 9,
     "metadata": {},
     "output_type": "execute_result"
    }
   ],
   "source": [
    "image_batch.squeeze().mean(), image_batch.squeeze().var()"
   ]
  },
  {
   "cell_type": "markdown",
   "id": "6d97d632",
   "metadata": {},
   "source": [
    "# Define Variational Autoencoder\n"
   ]
  },
  {
   "cell_type": "code",
   "execution_count": 10,
   "id": "7ee99b58",
   "metadata": {},
   "outputs": [],
   "source": [
    "class ResizeConv2d(nn.Module):\n",
    "\n",
    "    def __init__(self, in_channels, out_channels, kernel_size, scale_factor, mode='nearest'):\n",
    "        super().__init__()\n",
    "        self.scale_factor = scale_factor\n",
    "        self.mode = mode\n",
    "        self.conv = nn.Conv2d(in_channels, out_channels, kernel_size, stride=1, padding=1)\n",
    "\n",
    "    def forward(self, x):\n",
    "        x = F.interpolate(x, scale_factor=self.scale_factor, mode=self.mode)\n",
    "        x = self.conv(x)\n",
    "        return x\n",
    "\n",
    "class BasicBlockEnc(nn.Module):\n",
    "\n",
    "    def __init__(self, in_planes, stride=1):\n",
    "        super().__init__()\n",
    "\n",
    "        planes = in_planes*stride\n",
    "\n",
    "        self.conv1 = nn.Conv2d(in_planes, planes, kernel_size=3, stride=stride, padding=1, bias=False)\n",
    "        self.bn1 = nn.BatchNorm2d(planes)\n",
    "        self.conv2 = nn.Conv2d(planes, planes, kernel_size=3, stride=1, padding=1, bias=False)\n",
    "        self.bn2 = nn.BatchNorm2d(planes)\n",
    "\n",
    "        if stride == 1:\n",
    "            self.shortcut = nn.Sequential()\n",
    "        else:\n",
    "            self.shortcut = nn.Sequential(\n",
    "                nn.Conv2d(in_planes, planes, kernel_size=1, stride=stride, bias=False),\n",
    "                nn.BatchNorm2d(planes)\n",
    "            )\n",
    "\n",
    "    def forward(self, x):\n",
    "        out = torch.relu(self.bn1(self.conv1(x)))\n",
    "        out = self.bn2(self.conv2(out))\n",
    "        out += self.shortcut(x)\n",
    "        out = torch.relu(out)\n",
    "        return out\n",
    "\n",
    "class BasicBlockDec(nn.Module):\n",
    "\n",
    "    def __init__(self, in_planes, stride=1):\n",
    "        super().__init__()\n",
    "\n",
    "        planes = int(in_planes/stride)\n",
    "\n",
    "        self.conv2 = nn.Conv2d(in_planes, in_planes, kernel_size=3, stride=1, padding=1, bias=False)\n",
    "        self.bn2 = nn.BatchNorm2d(in_planes)\n",
    "        # self.bn1 could have been placed here, but that messes up the order of the layers when printing the class\n",
    "\n",
    "        if stride == 1:\n",
    "            self.conv1 = nn.Conv2d(in_planes, planes, kernel_size=3, stride=1, padding=1, bias=False)\n",
    "            self.bn1 = nn.BatchNorm2d(planes)\n",
    "            self.shortcut = nn.Sequential()\n",
    "        else:\n",
    "            self.conv1 = ResizeConv2d(in_planes, planes, kernel_size=3, scale_factor=stride)\n",
    "            self.bn1 = nn.BatchNorm2d(planes)\n",
    "            self.shortcut = nn.Sequential(\n",
    "                ResizeConv2d(in_planes, planes, kernel_size=3, scale_factor=stride),\n",
    "                nn.BatchNorm2d(planes)\n",
    "            )\n",
    "\n",
    "    def forward(self, x):\n",
    "        out = torch.relu(self.bn2(self.conv2(x)))\n",
    "        out = self.bn1(self.conv1(out))\n",
    "        out += self.shortcut(x)\n",
    "        out = torch.relu(out)\n",
    "        return out\n",
    "\n",
    "class ResNet18Enc(nn.Module):\n",
    "\n",
    "    def __init__(self, num_Blocks=[2,2,2,2], z_dim=10, nc=3):\n",
    "        super().__init__()\n",
    "        self.in_planes = 64\n",
    "        self.z_dim = z_dim\n",
    "        self.conv1 = nn.Conv2d(nc, 64, kernel_size=3, stride=2, padding=1, bias=False)\n",
    "        self.bn1 = nn.BatchNorm2d(64)\n",
    "        self.layer1 = self._make_layer(BasicBlockEnc, 64, num_Blocks[0], stride=1)\n",
    "        self.layer2 = self._make_layer(BasicBlockEnc, 128, num_Blocks[1], stride=2)\n",
    "        self.layer3 = self._make_layer(BasicBlockEnc, 256, num_Blocks[2], stride=2)\n",
    "        self.layer4 = self._make_layer(BasicBlockEnc, 512, num_Blocks[3], stride=2)\n",
    "        self.linear = nn.Linear(512, 2 * z_dim)\n",
    "\n",
    "    def _make_layer(self, BasicBlockEnc, planes, num_Blocks, stride):\n",
    "        strides = [stride] + [1]*(num_Blocks-1)\n",
    "        layers = []\n",
    "        for stride in strides:\n",
    "            layers += [BasicBlockEnc(self.in_planes, stride)]\n",
    "            self.in_planes = planes\n",
    "        return nn.Sequential(*layers)\n",
    "\n",
    "    def forward(self, x):\n",
    "        x = torch.relu(self.bn1(self.conv1(x)))\n",
    "        #print(x.shape)\n",
    "        x = self.layer1(x)\n",
    "        #print(x.shape)\n",
    "        x = self.layer2(x)\n",
    "        #print(x.shape)\n",
    "        x = self.layer3(x)\n",
    "        #print(x.shape)\n",
    "        x = self.layer4(x)\n",
    "        #print(f\"x_enc = {x.shape}\")\n",
    "        x = F.adaptive_avg_pool2d(x, 1)\n",
    "        #print(f\"x_enc = {x.shape}\")\n",
    "        x = x.view(x.size(0), -1)\n",
    "        x = self.linear(x)\n",
    "        mu = x[:, :self.z_dim]\n",
    "        logvar = x[:, self.z_dim:]\n",
    "        return mu, logvar\n",
    "\n",
    "class ResNet18Dec(nn.Module):\n",
    "\n",
    "    def __init__(self, num_Blocks=[2,2,2,2], z_dim=10, nc=3):\n",
    "        super().__init__()\n",
    "        self.in_planes = 512\n",
    "        self.nc = nc\n",
    "\n",
    "        self.linear = nn.Linear(z_dim, 512)\n",
    "\n",
    "        self.layer4 = self._make_layer(BasicBlockDec, 256, num_Blocks[3], stride=2)\n",
    "        self.layer3 = self._make_layer(BasicBlockDec, 128, num_Blocks[2], stride=2)\n",
    "        self.layer2 = self._make_layer(BasicBlockDec, 64, num_Blocks[1], stride=2)\n",
    "        self.layer1 = self._make_layer(BasicBlockDec, 64, num_Blocks[0], stride=1)\n",
    "        self.conv1 = ResizeConv2d(64, nc, kernel_size=3, scale_factor=2)\n",
    "\n",
    "    def _make_layer(self, BasicBlockDec, planes, num_Blocks, stride):\n",
    "        strides = [stride] + [1]*(num_Blocks-1)\n",
    "        layers = []\n",
    "        for stride in reversed(strides):\n",
    "            layers += [BasicBlockDec(self.in_planes, stride)]\n",
    "        self.in_planes = planes\n",
    "        return nn.Sequential(*layers)\n",
    "\n",
    "    def forward(self, z):\n",
    "        x = self.linear(z)\n",
    "        x = x.view(z.size(0), 512, 1, 1)\n",
    "        #print(\"x before interpoloate:\", x.shape)\n",
    "        #x = F.interpolate(x, size=[17, 30], mode='bilinear', align_corners=True)\n",
    "        x = F.interpolate(x, size=[17, 30], mode='nearest')\n",
    "        #print(x.shape)\n",
    "        x = self.layer4(x)\n",
    "        #print(x.shape)\n",
    "        x = self.layer3(x)\n",
    "        #print(x.shape)\n",
    "        x = self.layer2(x)\n",
    "        #print(x.shape)\n",
    "        x = self.layer1(x)\n",
    "        #print(\"fix layer 1\")\n",
    "        #print(x.shape)\n",
    "        x = torch.sigmoid(self.conv1(x))\n",
    "        x = x.view(x.size(0), self.nc, 272, 480)\n",
    "        #print(x.shape)\n",
    "        return x\n",
    "\n",
    "class VAE(nn.Module):\n",
    "\n",
    "    def __init__(self, z_dim, nc=1):\n",
    "        super().__init__()\n",
    "        self.encoder = ResNet18Enc(z_dim=z_dim, nc=nc)\n",
    "        self.decoder = ResNet18Dec(z_dim=z_dim, nc=nc)\n",
    "        \n",
    "        # for the gaussian likelihood\n",
    "        self.log_scale = nn.Parameter(torch.Tensor([0.0]))\n",
    "        \n",
    "    def forward(self, x):\n",
    "        mean, logvar = self.encoder(x)\n",
    "        z = self.reparameterize(mean, logvar)\n",
    "        #print(f\"z_dim = {z.shape}\")\n",
    "        x_hat = self.decoder(z)\n",
    "\n",
    "        return mean, logvar, x_hat\n",
    "    \n",
    "    @staticmethod\n",
    "    def reparameterize(mean, logvar):\n",
    "        std = torch.exp(logvar / 2) # in log-space, sqrt is divide by two\n",
    "        epsilon = torch.randn_like(std)\n",
    "        return epsilon * std + mean\n",
    "\n"
   ]
  },
  {
   "cell_type": "markdown",
   "id": "6f69f90e",
   "metadata": {},
   "source": [
    "# Training"
   ]
  },
  {
   "cell_type": "code",
   "execution_count": 11,
   "id": "5515c863",
   "metadata": {},
   "outputs": [],
   "source": [
    "def loss_function(x, x_hat, mean, log_var):\n",
    "    reproduction_loss = nn.BCELoss(reduction='sum')(x_hat, x)\n",
    "    KLD      = 0.5 * torch.sum(1+ log_var - mean.pow(2) - log_var.exp())\n",
    "\n",
    "    return reproduction_loss - KLD"
   ]
  },
  {
   "cell_type": "code",
   "execution_count": 12,
   "id": "d7c03eaf",
   "metadata": {},
   "outputs": [
    {
     "data": {
      "text/plain": [
       "(1, 1)"
      ]
     },
     "execution_count": 12,
     "metadata": {},
     "output_type": "execute_result"
    }
   ],
   "source": [
    "n_training_samples = len(train_dataset)\n",
    "n_iterations = math.ceil(n_training_samples/batch_size)\n",
    "n_training_samples, n_iterations"
   ]
  },
  {
   "cell_type": "code",
   "execution_count": 13,
   "id": "8d12de8f",
   "metadata": {},
   "outputs": [
    {
     "name": "stdout",
     "output_type": "stream",
     "text": [
      "epoch: 1/100, step: 1/1, Avg loss: 105691.109, time: 2.228\n",
      "epoch: 2/100, step: 1/1, Avg loss: 97985.523, time: 2.245\n",
      "epoch: 3/100, step: 1/1, Avg loss: 77911.672, time: 2.279\n",
      "epoch: 4/100, step: 1/1, Avg loss: 77827.664, time: 2.035\n",
      "epoch: 5/100, step: 1/1, Avg loss: 77037.172, time: 1.830\n",
      "epoch: 6/100, step: 1/1, Avg loss: 76363.180, time: 1.824\n",
      "epoch: 7/100, step: 1/1, Avg loss: 75906.844, time: 1.214\n",
      "epoch: 8/100, step: 1/1, Avg loss: 75669.812, time: 0.908\n",
      "epoch: 9/100, step: 1/1, Avg loss: 75568.648, time: 0.946\n",
      "epoch: 10/100, step: 1/1, Avg loss: 75368.953, time: 0.896\n",
      "epoch: 11/100, step: 1/1, Avg loss: 75302.992, time: 0.930\n",
      "epoch: 12/100, step: 1/1, Avg loss: 75154.672, time: 1.005\n",
      "epoch: 13/100, step: 1/1, Avg loss: 75076.141, time: 0.937\n",
      "epoch: 14/100, step: 1/1, Avg loss: 74950.719, time: 0.988\n",
      "epoch: 15/100, step: 1/1, Avg loss: 74860.734, time: 1.012\n",
      "epoch: 16/100, step: 1/1, Avg loss: 74821.516, time: 0.963\n",
      "epoch: 17/100, step: 1/1, Avg loss: 74777.602, time: 1.047\n",
      "epoch: 18/100, step: 1/1, Avg loss: 74725.500, time: 0.952\n",
      "epoch: 19/100, step: 1/1, Avg loss: 74678.812, time: 0.896\n",
      "epoch: 20/100, step: 1/1, Avg loss: 74659.828, time: 0.948\n",
      "epoch: 21/100, step: 1/1, Avg loss: 74573.656, time: 0.963\n",
      "epoch: 22/100, step: 1/1, Avg loss: 74555.164, time: 1.125\n",
      "epoch: 23/100, step: 1/1, Avg loss: 74477.023, time: 0.922\n",
      "epoch: 24/100, step: 1/1, Avg loss: 74448.852, time: 1.003\n",
      "epoch: 25/100, step: 1/1, Avg loss: 74427.562, time: 1.349\n",
      "epoch: 26/100, step: 1/1, Avg loss: 74379.180, time: 1.331\n",
      "epoch: 27/100, step: 1/1, Avg loss: 74375.211, time: 1.423\n",
      "epoch: 28/100, step: 1/1, Avg loss: 74377.172, time: 1.363\n",
      "epoch: 29/100, step: 1/1, Avg loss: 74286.391, time: 1.344\n",
      "epoch: 30/100, step: 1/1, Avg loss: 74302.266, time: 2.068\n",
      "epoch: 31/100, step: 1/1, Avg loss: 74246.727, time: 2.463\n",
      "epoch: 32/100, step: 1/1, Avg loss: 74219.031, time: 1.189\n",
      "epoch: 33/100, step: 1/1, Avg loss: 74182.219, time: 1.057\n",
      "epoch: 34/100, step: 1/1, Avg loss: 74245.461, time: 1.395\n",
      "epoch: 35/100, step: 1/1, Avg loss: 74147.148, time: 1.346\n",
      "epoch: 36/100, step: 1/1, Avg loss: 74228.930, time: 1.372\n",
      "epoch: 37/100, step: 1/1, Avg loss: 74203.703, time: 1.202\n",
      "epoch: 38/100, step: 1/1, Avg loss: 74174.805, time: 1.170\n",
      "epoch: 39/100, step: 1/1, Avg loss: 74140.016, time: 1.459\n",
      "epoch: 40/100, step: 1/1, Avg loss: 74149.094, time: 1.908\n",
      "epoch: 41/100, step: 1/1, Avg loss: 74093.188, time: 1.944\n",
      "epoch: 42/100, step: 1/1, Avg loss: 74047.992, time: 1.791\n",
      "epoch: 43/100, step: 1/1, Avg loss: 74040.195, time: 2.084\n",
      "epoch: 44/100, step: 1/1, Avg loss: 74088.789, time: 2.074\n",
      "epoch: 45/100, step: 1/1, Avg loss: 74018.992, time: 1.907\n",
      "epoch: 46/100, step: 1/1, Avg loss: 73999.656, time: 1.903\n",
      "epoch: 47/100, step: 1/1, Avg loss: 73975.695, time: 1.984\n",
      "epoch: 48/100, step: 1/1, Avg loss: 73979.961, time: 1.900\n",
      "epoch: 49/100, step: 1/1, Avg loss: 73936.938, time: 1.924\n",
      "epoch: 50/100, step: 1/1, Avg loss: 73927.648, time: 2.120\n",
      "epoch: 51/100, step: 1/1, Avg loss: 73892.164, time: 1.896\n",
      "epoch: 52/100, step: 1/1, Avg loss: 73904.570, time: 2.213\n",
      "epoch: 53/100, step: 1/1, Avg loss: 73872.422, time: 2.027\n",
      "epoch: 54/100, step: 1/1, Avg loss: 73835.320, time: 1.881\n",
      "epoch: 55/100, step: 1/1, Avg loss: 73858.016, time: 1.946\n",
      "epoch: 56/100, step: 1/1, Avg loss: 74227.469, time: 1.903\n",
      "epoch: 57/100, step: 1/1, Avg loss: 73953.891, time: 1.838\n",
      "epoch: 58/100, step: 1/1, Avg loss: 74031.977, time: 0.951\n",
      "epoch: 59/100, step: 1/1, Avg loss: 73978.148, time: 0.877\n",
      "epoch: 60/100, step: 1/1, Avg loss: 73938.758, time: 0.877\n",
      "epoch: 61/100, step: 1/1, Avg loss: 73939.352, time: 0.878\n",
      "epoch: 62/100, step: 1/1, Avg loss: 73904.391, time: 0.916\n",
      "epoch: 63/100, step: 1/1, Avg loss: 73899.297, time: 0.873\n",
      "epoch: 64/100, step: 1/1, Avg loss: 73865.516, time: 0.877\n",
      "epoch: 65/100, step: 1/1, Avg loss: 73886.422, time: 0.895\n",
      "epoch: 66/100, step: 1/1, Avg loss: 73864.297, time: 0.878\n",
      "epoch: 67/100, step: 1/1, Avg loss: 73852.953, time: 0.876\n",
      "epoch: 68/100, step: 1/1, Avg loss: 73844.047, time: 0.879\n",
      "epoch: 69/100, step: 1/1, Avg loss: 73815.758, time: 0.878\n",
      "epoch: 70/100, step: 1/1, Avg loss: 73833.836, time: 0.885\n",
      "epoch: 71/100, step: 1/1, Avg loss: 73852.195, time: 0.881\n",
      "epoch: 72/100, step: 1/1, Avg loss: 73790.805, time: 0.870\n",
      "epoch: 73/100, step: 1/1, Avg loss: 73782.938, time: 0.880\n",
      "epoch: 74/100, step: 1/1, Avg loss: 73798.242, time: 0.879\n",
      "epoch: 75/100, step: 1/1, Avg loss: 73779.258, time: 0.879\n",
      "epoch: 76/100, step: 1/1, Avg loss: 73768.312, time: 0.890\n",
      "epoch: 77/100, step: 1/1, Avg loss: 73777.383, time: 0.874\n",
      "epoch: 78/100, step: 1/1, Avg loss: 73732.898, time: 0.880\n",
      "epoch: 79/100, step: 1/1, Avg loss: 73756.289, time: 0.872\n",
      "epoch: 80/100, step: 1/1, Avg loss: 73722.164, time: 0.902\n",
      "epoch: 81/100, step: 1/1, Avg loss: 73703.078, time: 0.885\n",
      "epoch: 82/100, step: 1/1, Avg loss: 73717.305, time: 0.875\n",
      "epoch: 83/100, step: 1/1, Avg loss: 73754.086, time: 0.891\n",
      "epoch: 84/100, step: 1/1, Avg loss: 73869.742, time: 0.901\n",
      "epoch: 85/100, step: 1/1, Avg loss: 73803.328, time: 0.877\n",
      "epoch: 86/100, step: 1/1, Avg loss: 73867.336, time: 0.890\n",
      "epoch: 87/100, step: 1/1, Avg loss: 73888.055, time: 0.887\n",
      "epoch: 88/100, step: 1/1, Avg loss: 73857.672, time: 0.875\n",
      "epoch: 89/100, step: 1/1, Avg loss: 73856.703, time: 0.877\n",
      "epoch: 90/100, step: 1/1, Avg loss: 73824.391, time: 0.887\n",
      "epoch: 91/100, step: 1/1, Avg loss: 73819.352, time: 0.883\n",
      "epoch: 92/100, step: 1/1, Avg loss: 73806.484, time: 0.884\n",
      "epoch: 93/100, step: 1/1, Avg loss: 73775.359, time: 0.904\n",
      "epoch: 94/100, step: 1/1, Avg loss: 73758.156, time: 0.884\n",
      "epoch: 95/100, step: 1/1, Avg loss: 73763.039, time: 0.885\n",
      "epoch: 96/100, step: 1/1, Avg loss: 73713.992, time: 0.899\n",
      "epoch: 97/100, step: 1/1, Avg loss: 73713.188, time: 0.894\n",
      "epoch: 98/100, step: 1/1, Avg loss: 73678.078, time: 0.891\n",
      "epoch: 99/100, step: 1/1, Avg loss: 73666.328, time: 0.888\n",
      "epoch: 100/100, step: 1/1, Avg loss: 73661.016, time: 0.884\n"
     ]
    }
   ],
   "source": [
    "vae_model = VAE(z_dim=latent_dim)\n",
    "optimiser = torch.optim.Adam(vae_model.parameters(), lr=learning_rate)\n",
    "for epoch in range(num_epochs):\n",
    "    overall_loss = 0\n",
    "    overall_elbo = 0\n",
    "    since = time.time()\n",
    "    for i, image in enumerate(train_loader):\n",
    "\n",
    "        optimiser.zero_grad()\n",
    "\n",
    "        # VAE forward pass\n",
    "        mu, logvar, x_hat = vae_model(image)\n",
    "\n",
    "        # Loss\n",
    "        loss = loss_function(image, x_hat, mu, logvar)\n",
    "\n",
    "        overall_loss += loss\n",
    "\n",
    "        # Update weights\n",
    "        \n",
    "        loss.backward()\n",
    "        optimiser.step()\n",
    "\n",
    "        if (i+1) % 1 == 0:\n",
    "            time_elapsed = time.time() - since\n",
    "            print(f\"epoch: {epoch+1}/{num_epochs}, step: {i+1}/{n_iterations}, Avg loss: {overall_loss/((i+1)*batch_size):.3f}, time: {time_elapsed:.3f}\")\n"
   ]
  },
  {
   "cell_type": "markdown",
   "id": "552da3b1",
   "metadata": {},
   "source": [
    "# Evaluate\n",
    "\n",
    "## Results with BCE"
   ]
  },
  {
   "cell_type": "code",
   "execution_count": 14,
   "id": "73440ac3",
   "metadata": {},
   "outputs": [
    {
     "name": "stdout",
     "output_type": "stream",
     "text": [
      "tensor(0.2656) tensor(0.1624)\n",
      "tensor(0.0110) tensor(0.0003)\n",
      "torch.Size([1, 1, 272, 480])\n"
     ]
    },
    {
     "data": {
      "image/png": "[encoded data removed]",
      "text/plain": [
       "<Figure size 432x288 with 1 Axes>"
      ]
     },
     "metadata": {
      "needs_background": "light"
     },
     "output_type": "display_data"
    },
    {
     "data": {
      "image/png": "[encoded data removed]",
      "text/plain": [
       "<Figure size 432x288 with 1 Axes>"
      ]
     },
     "metadata": {
      "needs_background": "light"
     },
     "output_type": "display_data"
    }
   ],
   "source": [
    "vae_model.eval()\n",
    "# Visualise sample of images\n",
    "\n",
    "with torch.no_grad():\n",
    "    for images in test_loader:\n",
    "        # VAE forward pass\n",
    "        _, _, x_hat = vae_model(images)\n",
    "\n",
    "        print(images.mean(), x_hat.mean())\n",
    "        print(images.var(), x_hat.var())\n",
    "        print(images.shape)\n",
    "        for idx in range(len(images)):\n",
    "            # show images\n",
    "            imshow(images[idx])\n",
    "            imshow(x_hat[idx])\n",
    "\n",
    "        # write to tensorboard\n",
    "        # writer.add_image('four_cifar10_images', inv_normalize(img_grid))\n"
   ]
  },
  {
   "cell_type": "code",
   "execution_count": 15,
   "id": "5fa5dbb6",
   "metadata": {},
   "outputs": [
    {
     "name": "stdout",
     "output_type": "stream",
     "text": [
      "tensor(0.2656) tensor(0.1594)\n",
      "tensor(0.0110) tensor(0.0008)\n",
      "torch.Size([1, 1, 272, 480])\n"
     ]
    },
    {
     "data": {
      "image/png": "[encoded data removed]",
      "text/plain": [
       "<Figure size 432x288 with 1 Axes>"
      ]
     },
     "metadata": {
      "needs_background": "light"
     },
     "output_type": "display_data"
    },
    {
     "data": {
      "image/png": "[encoded data removed]",
      "text/plain": [
       "<Figure size 432x288 with 1 Axes>"
      ]
     },
     "metadata": {
      "needs_background": "light"
     },
     "output_type": "display_data"
    }
   ],
   "source": [
    "vae_model.eval()\n",
    "# Visualise sample of images\n",
    "\n",
    "with torch.no_grad():\n",
    "    for images in train_loader:\n",
    "        # VAE forward pass\n",
    "        _, _, x_hat = vae_model(images)\n",
    "\n",
    "        print(images.mean(), x_hat.mean())\n",
    "        print(images.var(), x_hat.var())\n",
    "        print(images.shape)\n",
    "        for idx in range(len(images)):\n",
    "            # show images\n",
    "            imshow(images[idx])\n",
    "            imshow(x_hat[idx])\n",
    "\n",
    "        # write to tensorboard\n",
    "        # writer.add_image('four_cifar10_images', inv_normalize(img_grid))\n"
   ]
  }
 ],
 "metadata": {
  "kernelspec": {
   "display_name": "Python 3 (ipykernel)",
   "language": "python",
   "name": "python3"
  },
  "language_info": {
   "codemirror_mode": {
    "name": "ipython",
    "version": 3
   },
   "file_extension": ".py",
   "mimetype": "text/x-python",
   "name": "python",
   "nbconvert_exporter": "python",
   "pygments_lexer": "ipython3",
   "version": "3.9.7"
  }
 },
 "nbformat": 4,
 "nbformat_minor": 5
}
