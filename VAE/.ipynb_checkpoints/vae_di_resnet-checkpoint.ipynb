{
 "cells": [
  {
   "cell_type": "code",
   "execution_count": 1,
   "id": "53ea8be7",
   "metadata": {},
   "outputs": [
    {
     "name": "stderr",
     "output_type": "stream",
     "text": [
      "2022-02-25 18:59:18.521345: I tensorflow/stream_executor/platform/default/dso_loader.cc:49] Successfully opened dynamic library libcudart.so.10.1\n",
      "/home/patricknit/anaconda3/envs/tf_gpu/lib/python3.9/site-packages/torch/cuda/__init__.py:80: UserWarning: CUDA initialization: The NVIDIA driver on your system is too old (found version 10010). Please update your GPU driver by downloading and installing a new version from the URL: http://www.nvidia.com/Download/index.aspx Alternatively, go to: https://pytorch.org to install a PyTorch version that has been compiled with your version of the CUDA driver. (Triggered internally at  ../c10/cuda/CUDAFunctions.cpp:112.)\n",
      "  return torch._C._cuda_getDeviceCount() > 0\n"
     ]
    }
   ],
   "source": [
    "import torch\n",
    "import torch.nn as nn\n",
    "import torch.nn.functional as F\n",
    "import torchvision\n",
    "from torch.utils.data import DataLoader, Dataset\n",
    "import torchvision.transforms as transforms\n",
    "from torch.optim import Adam\n",
    "import torchvision.transforms.functional as fn\n",
    "\n",
    "import os\n",
    "import time\n",
    "import math\n",
    "import numpy as np\n",
    "import matplotlib.pyplot as plt\n",
    "import skimage.io as io\n",
    "\n",
    "from di_dataset2 import DepthImageDataset, collate_batch\n",
    "\n",
    "from torch.utils.tensorboard import SummaryWriter"
   ]
  },
  {
   "cell_type": "code",
   "execution_count": 2,
   "id": "2848f0f5",
   "metadata": {},
   "outputs": [
    {
     "name": "stdout",
     "output_type": "stream",
     "text": [
      "cpu\n"
     ]
    }
   ],
   "source": [
    "writer = SummaryWriter('runs/vae_cifar10')\n",
    "\n",
    "# Device configuration\n",
    "device = torch.device('cuda' if torch.cuda.is_available() else 'cpu')\n",
    "print(device)"
   ]
  },
  {
   "cell_type": "markdown",
   "id": "a9c88205",
   "metadata": {},
   "source": [
    "# Hyperparams"
   ]
  },
  {
   "cell_type": "code",
   "execution_count": 3,
   "id": "a82a7290",
   "metadata": {},
   "outputs": [],
   "source": [
    "latent_dim = 200\n",
    "num_epochs = 100\n",
    "batch_size = 32\n",
    "learning_rate = 1e-3\n",
    "\n",
    "save_model = True\n",
    "load_model = False\n",
    "\n",
    "save_model_file = \"../../../vae_models/vae_resnet_full.pth\"\n",
    "load_model_file = \"../../../vae_models/vae_resnet.pth\""
   ]
  },
  {
   "cell_type": "markdown",
   "id": "00f15247",
   "metadata": {},
   "source": [
    "# Load Dataset"
   ]
  },
  {
   "cell_type": "code",
   "execution_count": 4,
   "id": "96c30b23",
   "metadata": {},
   "outputs": [],
   "source": [
    "# saves_folders = \"../../../rl_data\"\n",
    "# load_paths = [os.path.join(saves_folders, saves_folder) for saves_folder in os.listdir(saves_folders)]\n",
    "# load_path = \"../../../rl_data/saves_2\"\n",
    "\n",
    "# # Obtain train and test data\n",
    "# dataset = DepthImageDataset(load_path=load_path)\n",
    "\n",
    "# train_size = int(0.9 * len(dataset))\n",
    "# test_size = len(dataset) - train_size\n",
    "# train_dataset, test_dataset = torch.utils.data.random_split(dataset, [train_size, test_size])\n",
    "\n",
    "# train_loader = DataLoader(dataset=train_dataset, batch_size=batch_size, num_workers=0)\n",
    "# test_loader = DataLoader(dataset=test_dataset, batch_size=batch_size, num_workers=0)\n",
    "# len(train_loader), len(test_loader), len(train_dataset), len(test_dataset)"
   ]
  },
  {
   "cell_type": "code",
   "execution_count": 5,
   "id": "0b1bb310",
   "metadata": {},
   "outputs": [],
   "source": [
    "tfrecord_folder='../../../rl_data/tfrecord'\n",
    "tfrecord_test_folder='../../../rl_data/tfrecord/test'"
   ]
  },
  {
   "cell_type": "code",
   "execution_count": 6,
   "id": "d82131cb",
   "metadata": {},
   "outputs": [
    {
     "name": "stdout",
     "output_type": "stream",
     "text": [
      "Loading tfrecords...\n",
      "WARNING:tensorflow:AutoGraph could not transform <bound method DepthImageDataset.read_tfrecord of <di_dataset2.DepthImageDataset object at 0x7fb124891460>> and will run it as-is.\n",
      "Please report this to the TensorFlow team. When filing the bug, set the verbosity to 10 (on Linux, `export AUTOGRAPH_VERBOSITY=10`) and attach the full output.\n",
      "Cause: module 'gast' has no attribute 'Index'\n",
      "To silence this warning, decorate the function with @tf.autograph.experimental.do_not_convert\n",
      "WARNING: AutoGraph could not transform <bound method DepthImageDataset.read_tfrecord of <di_dataset2.DepthImageDataset object at 0x7fb124891460>> and will run it as-is.\n",
      "Please report this to the TensorFlow team. When filing the bug, set the verbosity to 10 (on Linux, `export AUTOGRAPH_VERBOSITY=10`) and attach the full output.\n",
      "Cause: module 'gast' has no attribute 'Index'\n",
      "To silence this warning, decorate the function with @tf.autograph.experimental.do_not_convert\n",
      "Done.\n",
      "Loading tfrecords...\n",
      "Done.\n"
     ]
    },
    {
     "name": "stderr",
     "output_type": "stream",
     "text": [
      "2022-02-25 18:59:19.320275: I tensorflow/compiler/jit/xla_cpu_device.cc:41] Not creating XLA devices, tf_xla_enable_xla_devices not set\n",
      "2022-02-25 18:59:19.321027: I tensorflow/stream_executor/platform/default/dso_loader.cc:49] Successfully opened dynamic library libcuda.so.1\n",
      "2022-02-25 18:59:19.322640: E tensorflow/stream_executor/cuda/cuda_driver.cc:328] failed call to cuInit: CUDA_ERROR_NO_DEVICE: no CUDA-capable device is detected\n",
      "2022-02-25 18:59:19.322651: I tensorflow/stream_executor/cuda/cuda_diagnostics.cc:156] kernel driver does not appear to be running on this host (patricknit-OptiPlex-7060): /proc/driver/nvidia/version does not exist\n",
      "2022-02-25 18:59:19.322824: I tensorflow/core/platform/cpu_feature_guard.cc:142] This TensorFlow binary is optimized with oneAPI Deep Neural Network Library (oneDNN) to use the following CPU instructions in performance-critical operations:  SSE4.1 SSE4.2 AVX AVX2 FMA\n",
      "To enable them in other operations, rebuild TensorFlow with the appropriate compiler flags.\n",
      "2022-02-25 18:59:19.323366: I tensorflow/compiler/jit/xla_gpu_device.cc:99] Not creating XLA devices, tf_xla_enable_xla_devices not set\n"
     ]
    }
   ],
   "source": [
    "train_dataset = DepthImageDataset(tfrecord_folder=tfrecord_folder, batch_size=batch_size) # 176 tfrecords\n",
    "test_dataset = DepthImageDataset(tfrecord_folder=tfrecord_test_folder, batch_size=batch_size) # 20 tfrecords"
   ]
  },
  {
   "cell_type": "code",
   "execution_count": 7,
   "id": "91c2e4d4",
   "metadata": {},
   "outputs": [
    {
     "data": {
      "text/plain": [
       "(65, 80)"
      ]
     },
     "execution_count": 7,
     "metadata": {},
     "output_type": "execute_result"
    }
   ],
   "source": [
    "# len_train_dataset = sum(1 for _ in train_dataset) # 11223 batches (of 32), 1 file has 65\n",
    "# len_test_dataset = sum(1 for _ in test_dataset) # 1305 batches (of 32), 1 file has 80\n",
    "# len_train_dataset, len_test_dataset = 11223, 1305\n",
    "len_train_dataset, len_test_dataset = (65, 80)\n",
    "len_train_dataset, len_test_dataset "
   ]
  },
  {
   "cell_type": "code",
   "execution_count": 8,
   "id": "526ce03f",
   "metadata": {},
   "outputs": [],
   "source": [
    "train_loader = DataLoader(dataset=train_dataset, batch_size=1, collate_fn=collate_batch)\n",
    "test_loader = DataLoader(dataset=test_dataset, batch_size=1, collate_fn=collate_batch)"
   ]
  },
  {
   "cell_type": "code",
   "execution_count": 9,
   "id": "b06a2cc3",
   "metadata": {},
   "outputs": [
    {
     "name": "stderr",
     "output_type": "stream",
     "text": [
      "2022-02-25 18:59:19.406228: I tensorflow/compiler/mlir/mlir_graph_optimization_pass.cc:116] None of the MLIR optimization passes are enabled (registered 2)\n",
      "2022-02-25 18:59:19.429063: I tensorflow/core/platform/profile_utils/cpu_utils.cc:112] CPU Frequency: 3199980000 Hz\n"
     ]
    },
    {
     "data": {
      "text/plain": [
       "torch.Size([32, 1, 270, 480])"
      ]
     },
     "execution_count": 9,
     "metadata": {},
     "output_type": "execute_result"
    }
   ],
   "source": [
    "dataiter = iter(train_loader)\n",
    "image_batch, *_ = dataiter.next() # image, height, width, depth\n",
    "image_batch.shape"
   ]
  },
  {
   "cell_type": "code",
   "execution_count": 10,
   "id": "f5eb2b73",
   "metadata": {},
   "outputs": [
    {
     "data": {
      "image/png": "[encoded data removed]",
      "text/plain": [
       "<Figure size 432x288 with 1 Axes>"
      ]
     },
     "metadata": {
      "needs_background": "light"
     },
     "output_type": "display_data"
    },
    {
     "data": {
      "image/png": "[encoded data removed]",
      "text/plain": [
       "<Figure size 432x288 with 1 Axes>"
      ]
     },
     "metadata": {
      "needs_background": "light"
     },
     "output_type": "display_data"
    },
    {
     "data": {
      "image/png": "[encoded data removed]",
      "text/plain": [
       "<Figure size 432x288 with 1 Axes>"
      ]
     },
     "metadata": {
      "needs_background": "light"
     },
     "output_type": "display_data"
    },
    {
     "data": {
      "image/png": "[encoded data removed]",
      "text/plain": [
       "<Figure size 432x288 with 1 Axes>"
      ]
     },
     "metadata": {
      "needs_background": "light"
     },
     "output_type": "display_data"
    },
    {
     "data": {
      "text/plain": [
       "torch.Size([1, 270, 480])"
      ]
     },
     "execution_count": 10,
     "metadata": {},
     "output_type": "execute_result"
    }
   ],
   "source": [
    "def imshow(image):\n",
    "    io.imshow(image.squeeze().numpy())\n",
    "    io.show()\n",
    "\n",
    "for image in image_batch[0:4]:\n",
    "    imshow(image)\n",
    "    \n",
    "image.shape"
   ]
  },
  {
   "cell_type": "code",
   "execution_count": 11,
   "id": "1ce9d190",
   "metadata": {},
   "outputs": [
    {
     "data": {
      "text/plain": [
       "(tensor(0.4355), tensor(0.1088))"
      ]
     },
     "execution_count": 11,
     "metadata": {},
     "output_type": "execute_result"
    }
   ],
   "source": [
    "image_batch.squeeze().mean(), image_batch.squeeze().var()"
   ]
  },
  {
   "cell_type": "markdown",
   "id": "6d97d632",
   "metadata": {},
   "source": [
    "# Define Variational Autoencoder\n",
    "\n",
    "Adapted from https://github.com/julianstastny/VAE-ResNet18-PyTorch"
   ]
  },
  {
   "cell_type": "code",
   "execution_count": 12,
   "id": "5587be55",
   "metadata": {},
   "outputs": [],
   "source": [
    "class ResizeConv2d(nn.Module):\n",
    "\n",
    "    def __init__(self, in_channels, out_channels, kernel_size, scale_factor, mode='nearest'):\n",
    "        super().__init__()\n",
    "        self.scale_factor = scale_factor\n",
    "        self.mode = mode\n",
    "        self.conv = nn.Conv2d(in_channels, out_channels, kernel_size, stride=1, padding=1)\n",
    "\n",
    "    def forward(self, x):\n",
    "        x = F.interpolate(x, scale_factor=self.scale_factor, mode=self.mode)\n",
    "        x = self.conv(x)\n",
    "        return x\n",
    "\n",
    "class BasicBlockEnc(nn.Module):\n",
    "\n",
    "    def __init__(self, in_planes, stride=1):\n",
    "        super().__init__()\n",
    "\n",
    "        planes = in_planes*stride\n",
    "\n",
    "        self.conv1 = nn.Conv2d(in_planes, planes, kernel_size=3, stride=stride, padding=1, bias=False)\n",
    "        self.bn1 = nn.BatchNorm2d(planes)\n",
    "        self.conv2 = nn.Conv2d(planes, planes, kernel_size=3, stride=1, padding=1, bias=False)\n",
    "        self.bn2 = nn.BatchNorm2d(planes)\n",
    "\n",
    "        if stride == 1:\n",
    "            self.shortcut = nn.Sequential()\n",
    "        else:\n",
    "            self.shortcut = nn.Sequential(\n",
    "                nn.Conv2d(in_planes, planes, kernel_size=1, stride=stride, bias=False),\n",
    "                nn.BatchNorm2d(planes)\n",
    "            )\n",
    "\n",
    "    def forward(self, x):\n",
    "        out = torch.relu(self.bn1(self.conv1(x)))\n",
    "        out = self.bn2(self.conv2(out))\n",
    "        out += self.shortcut(x)\n",
    "        out = torch.relu(out)\n",
    "        return out\n",
    "\n",
    "class BasicBlockDec(nn.Module):\n",
    "\n",
    "    def __init__(self, in_planes, stride=1):\n",
    "        super().__init__()\n",
    "\n",
    "        planes = int(in_planes/stride)\n",
    "\n",
    "        self.conv2 = nn.Conv2d(in_planes, in_planes, kernel_size=3, stride=1, padding=1, bias=False)\n",
    "        self.bn2 = nn.BatchNorm2d(in_planes)\n",
    "        # self.bn1 could have been placed here, but that messes up the order of the layers when printing the class\n",
    "\n",
    "        if stride == 1:\n",
    "            self.conv1 = nn.Conv2d(in_planes, planes, kernel_size=3, stride=1, padding=1, bias=False)\n",
    "            self.bn1 = nn.BatchNorm2d(planes)\n",
    "            self.shortcut = nn.Sequential()\n",
    "        else:\n",
    "            self.conv1 = ResizeConv2d(in_planes, planes, kernel_size=3, scale_factor=stride)\n",
    "            self.bn1 = nn.BatchNorm2d(planes)\n",
    "            self.shortcut = nn.Sequential(\n",
    "                ResizeConv2d(in_planes, planes, kernel_size=3, scale_factor=stride),\n",
    "                nn.BatchNorm2d(planes)\n",
    "            )\n",
    "\n",
    "    def forward(self, x):\n",
    "        out = torch.relu(self.bn2(self.conv2(x)))\n",
    "        out = self.bn1(self.conv1(out))\n",
    "        out += self.shortcut(x)\n",
    "        out = torch.relu(out)\n",
    "        return out\n",
    "\n",
    "class ResNet18Enc(nn.Module):\n",
    "\n",
    "    def __init__(self, num_Blocks=[2,2,2,2], z_dim=10, nc=3):\n",
    "        super().__init__()\n",
    "        self.in_planes = 64\n",
    "        self.z_dim = z_dim\n",
    "        self.conv1 = nn.Conv2d(nc, 64, kernel_size=3, stride=2, padding=1, bias=False)\n",
    "        self.bn1 = nn.BatchNorm2d(64)\n",
    "        self.layer1 = self._make_layer(BasicBlockEnc, 64, num_Blocks[0], stride=1)\n",
    "        self.layer2 = self._make_layer(BasicBlockEnc, 128, num_Blocks[1], stride=2)\n",
    "        self.layer3 = self._make_layer(BasicBlockEnc, 256, num_Blocks[2], stride=2)\n",
    "        self.layer4 = self._make_layer(BasicBlockEnc, 512, num_Blocks[3], stride=2)\n",
    "        self.linear = nn.Linear(512*4*7, 2 * z_dim)\n",
    "\n",
    "    def _make_layer(self, BasicBlockEnc, planes, num_Blocks, stride):\n",
    "        strides = [stride] + [1]*(num_Blocks-1)\n",
    "        layers = []\n",
    "        for stride in strides:\n",
    "            layers += [BasicBlockEnc(self.in_planes, stride)]\n",
    "            self.in_planes = planes\n",
    "        return nn.Sequential(*layers)\n",
    "\n",
    "    def forward(self, x):\n",
    "        x = torch.relu(self.bn1(self.conv1(x)))\n",
    "        #print(x.shape)\n",
    "        x = self.layer1(x)\n",
    "        #print(x.shape)\n",
    "        x = self.layer2(x)\n",
    "        #print(x.shape)\n",
    "        x = self.layer3(x)\n",
    "        #print(x.shape)\n",
    "        x = self.layer4(x)\n",
    "        #print(f\"x_enc = {x.shape}\")\n",
    "        x = F.adaptive_avg_pool2d(x, (4,7))\n",
    "        #print(f\"x_enc = {x.shape}\")\n",
    "        x = x.view(x.size(0), -1)\n",
    "        #print(f\"x_enc = {x.shape}\")\n",
    "        x = self.linear(x)\n",
    "        mu = x[:, :self.z_dim]\n",
    "        logvar = x[:, self.z_dim:]\n",
    "        return mu, logvar\n",
    "\n",
    "class ResNet18Dec(nn.Module):\n",
    "\n",
    "    def __init__(self, num_Blocks=[2,2,2,2], z_dim=10, nc=3):\n",
    "        super().__init__()\n",
    "        self.in_planes = 512\n",
    "        self.nc = nc\n",
    "\n",
    "        self.linear = nn.Linear(z_dim, 512*4*7)\n",
    "\n",
    "        self.layer4 = self._make_layer(BasicBlockDec, 256, num_Blocks[3], stride=2)\n",
    "        self.layer3 = self._make_layer(BasicBlockDec, 128, num_Blocks[2], stride=2)\n",
    "        self.layer2 = self._make_layer(BasicBlockDec, 64, num_Blocks[1], stride=2)\n",
    "        self.layer1 = self._make_layer(BasicBlockDec, 64, num_Blocks[0], stride=1)\n",
    "        self.conv1 = ResizeConv2d(64, nc, kernel_size=3, scale_factor=2)\n",
    "\n",
    "    def _make_layer(self, BasicBlockDec, planes, num_Blocks, stride):\n",
    "        strides = [stride] + [1]*(num_Blocks-1)\n",
    "        layers = []\n",
    "        for stride in reversed(strides):\n",
    "            layers += [BasicBlockDec(self.in_planes, stride)]\n",
    "        self.in_planes = planes\n",
    "        return nn.Sequential(*layers)\n",
    "\n",
    "    def forward(self, z):\n",
    "        x = self.linear(z)\n",
    "        x = x.view(z.size(0), 512, 4, 7)\n",
    "        #print(\"x before interpoloate:\", x.shape)\n",
    "        #x = F.interpolate(x, size=[17, 30], mode='bilinear', align_corners=True)\n",
    "        x = F.interpolate(x, size=[17, 30], mode='nearest')\n",
    "        #print(x.shape)\n",
    "        x = self.layer4(x)\n",
    "        #print(x.shape)\n",
    "        x = self.layer3(x)\n",
    "        #print(x.shape)\n",
    "        x = self.layer2(x)\n",
    "        #print(x.shape)\n",
    "        x = self.layer1(x)\n",
    "        #print(\"fix layer 1\")\n",
    "        #print(x.shape)\n",
    "        x = torch.sigmoid(self.conv1(x))\n",
    "        x = x.view(x.size(0), self.nc, 272, 480)\n",
    "        x = x[:,:,:270,:]\n",
    "        #print(x.shape)\n",
    "        return x\n",
    "\n",
    "class VAE(nn.Module):\n",
    "\n",
    "    def __init__(self, z_dim, nc=1):\n",
    "        super().__init__()\n",
    "        self.encoder = ResNet18Enc(z_dim=z_dim, nc=nc)\n",
    "        self.decoder = ResNet18Dec(z_dim=z_dim, nc=nc)\n",
    "    \n",
    "        \n",
    "    def forward(self, x):\n",
    "        mean, logvar = self.encoder(x)\n",
    "        z = self.reparameterize(mean, logvar)\n",
    "        #print(f\"z_dim = {z.shape}\")\n",
    "        x_hat = self.decoder(z)\n",
    "\n",
    "        return mean, logvar, x_hat\n",
    "    \n",
    "    @staticmethod\n",
    "    def reparameterize(mean, logvar):\n",
    "        std = torch.exp(logvar / 2) # in log-space, sqrt is divide by two\n",
    "        epsilon = torch.randn_like(std)\n",
    "        return epsilon * std + mean\n",
    "\n"
   ]
  },
  {
   "cell_type": "markdown",
   "id": "dadac3a2",
   "metadata": {},
   "source": [
    "### Define Model"
   ]
  },
  {
   "cell_type": "code",
   "execution_count": 13,
   "id": "4a9d8b94",
   "metadata": {},
   "outputs": [],
   "source": [
    "vae_model = VAE(z_dim=latent_dim)\n",
    "\n",
    "if load_model:\n",
    "    vae_model.load_state_dict(torch.load(load_model_file))\n",
    "    vae_model.eval()\n",
    "else:\n",
    "    vae_model.train()\n",
    "\n",
    "optimiser = torch.optim.Adam(vae_model.parameters(), lr=learning_rate)"
   ]
  },
  {
   "cell_type": "code",
   "execution_count": 14,
   "id": "747a10e4",
   "metadata": {
    "scrolled": true
   },
   "outputs": [
    {
     "name": "stdout",
     "output_type": "stream",
     "text": [
      "----------------------------------------------------------------\n",
      "        Layer (type)               Output Shape         Param #\n",
      "================================================================\n",
      "            Conv2d-1         [-1, 64, 136, 240]             576\n",
      "       BatchNorm2d-2         [-1, 64, 136, 240]             128\n",
      "            Conv2d-3         [-1, 64, 136, 240]          36,864\n",
      "       BatchNorm2d-4         [-1, 64, 136, 240]             128\n",
      "            Conv2d-5         [-1, 64, 136, 240]          36,864\n",
      "       BatchNorm2d-6         [-1, 64, 136, 240]             128\n",
      "     BasicBlockEnc-7         [-1, 64, 136, 240]               0\n",
      "            Conv2d-8         [-1, 64, 136, 240]          36,864\n",
      "       BatchNorm2d-9         [-1, 64, 136, 240]             128\n",
      "           Conv2d-10         [-1, 64, 136, 240]          36,864\n",
      "      BatchNorm2d-11         [-1, 64, 136, 240]             128\n",
      "    BasicBlockEnc-12         [-1, 64, 136, 240]               0\n",
      "           Conv2d-13         [-1, 128, 68, 120]          73,728\n",
      "      BatchNorm2d-14         [-1, 128, 68, 120]             256\n",
      "           Conv2d-15         [-1, 128, 68, 120]         147,456\n",
      "      BatchNorm2d-16         [-1, 128, 68, 120]             256\n",
      "           Conv2d-17         [-1, 128, 68, 120]           8,192\n",
      "      BatchNorm2d-18         [-1, 128, 68, 120]             256\n",
      "    BasicBlockEnc-19         [-1, 128, 68, 120]               0\n",
      "           Conv2d-20         [-1, 128, 68, 120]         147,456\n",
      "      BatchNorm2d-21         [-1, 128, 68, 120]             256\n",
      "           Conv2d-22         [-1, 128, 68, 120]         147,456\n",
      "      BatchNorm2d-23         [-1, 128, 68, 120]             256\n",
      "    BasicBlockEnc-24         [-1, 128, 68, 120]               0\n",
      "           Conv2d-25          [-1, 256, 34, 60]         294,912\n",
      "      BatchNorm2d-26          [-1, 256, 34, 60]             512\n",
      "           Conv2d-27          [-1, 256, 34, 60]         589,824\n",
      "      BatchNorm2d-28          [-1, 256, 34, 60]             512\n",
      "           Conv2d-29          [-1, 256, 34, 60]          32,768\n",
      "      BatchNorm2d-30          [-1, 256, 34, 60]             512\n",
      "    BasicBlockEnc-31          [-1, 256, 34, 60]               0\n",
      "           Conv2d-32          [-1, 256, 34, 60]         589,824\n",
      "      BatchNorm2d-33          [-1, 256, 34, 60]             512\n",
      "           Conv2d-34          [-1, 256, 34, 60]         589,824\n",
      "      BatchNorm2d-35          [-1, 256, 34, 60]             512\n",
      "    BasicBlockEnc-36          [-1, 256, 34, 60]               0\n",
      "           Conv2d-37          [-1, 512, 17, 30]       1,179,648\n",
      "      BatchNorm2d-38          [-1, 512, 17, 30]           1,024\n",
      "           Conv2d-39          [-1, 512, 17, 30]       2,359,296\n",
      "      BatchNorm2d-40          [-1, 512, 17, 30]           1,024\n",
      "           Conv2d-41          [-1, 512, 17, 30]         131,072\n",
      "      BatchNorm2d-42          [-1, 512, 17, 30]           1,024\n",
      "    BasicBlockEnc-43          [-1, 512, 17, 30]               0\n",
      "           Conv2d-44          [-1, 512, 17, 30]       2,359,296\n",
      "      BatchNorm2d-45          [-1, 512, 17, 30]           1,024\n",
      "           Conv2d-46          [-1, 512, 17, 30]       2,359,296\n",
      "      BatchNorm2d-47          [-1, 512, 17, 30]           1,024\n",
      "    BasicBlockEnc-48          [-1, 512, 17, 30]               0\n",
      "           Linear-49                  [-1, 400]       5,734,800\n",
      "      ResNet18Enc-50     [[-1, 200], [-1, 200]]               0\n",
      "           Linear-51                [-1, 14336]       2,881,536\n",
      "           Conv2d-52          [-1, 512, 17, 30]       2,359,296\n",
      "      BatchNorm2d-53          [-1, 512, 17, 30]           1,024\n",
      "           Conv2d-54          [-1, 512, 17, 30]       2,359,296\n",
      "      BatchNorm2d-55          [-1, 512, 17, 30]           1,024\n",
      "    BasicBlockDec-56          [-1, 512, 17, 30]               0\n",
      "           Conv2d-57          [-1, 512, 17, 30]       2,359,296\n",
      "      BatchNorm2d-58          [-1, 512, 17, 30]           1,024\n",
      "           Conv2d-59          [-1, 256, 34, 60]       1,179,904\n",
      "     ResizeConv2d-60          [-1, 256, 34, 60]               0\n",
      "      BatchNorm2d-61          [-1, 256, 34, 60]             512\n",
      "           Conv2d-62          [-1, 256, 34, 60]       1,179,904\n",
      "     ResizeConv2d-63          [-1, 256, 34, 60]               0\n",
      "      BatchNorm2d-64          [-1, 256, 34, 60]             512\n",
      "    BasicBlockDec-65          [-1, 256, 34, 60]               0\n",
      "           Conv2d-66          [-1, 256, 34, 60]         589,824\n",
      "      BatchNorm2d-67          [-1, 256, 34, 60]             512\n",
      "           Conv2d-68          [-1, 256, 34, 60]         589,824\n",
      "      BatchNorm2d-69          [-1, 256, 34, 60]             512\n",
      "    BasicBlockDec-70          [-1, 256, 34, 60]               0\n",
      "           Conv2d-71          [-1, 256, 34, 60]         589,824\n",
      "      BatchNorm2d-72          [-1, 256, 34, 60]             512\n",
      "           Conv2d-73         [-1, 128, 68, 120]         295,040\n",
      "     ResizeConv2d-74         [-1, 128, 68, 120]               0\n",
      "      BatchNorm2d-75         [-1, 128, 68, 120]             256\n",
      "           Conv2d-76         [-1, 128, 68, 120]         295,040\n",
      "     ResizeConv2d-77         [-1, 128, 68, 120]               0\n",
      "      BatchNorm2d-78         [-1, 128, 68, 120]             256\n",
      "    BasicBlockDec-79         [-1, 128, 68, 120]               0\n",
      "           Conv2d-80         [-1, 128, 68, 120]         147,456\n",
      "      BatchNorm2d-81         [-1, 128, 68, 120]             256\n",
      "           Conv2d-82         [-1, 128, 68, 120]         147,456\n",
      "      BatchNorm2d-83         [-1, 128, 68, 120]             256\n",
      "    BasicBlockDec-84         [-1, 128, 68, 120]               0\n",
      "           Conv2d-85         [-1, 128, 68, 120]         147,456\n",
      "      BatchNorm2d-86         [-1, 128, 68, 120]             256\n",
      "           Conv2d-87         [-1, 64, 136, 240]          73,792\n",
      "     ResizeConv2d-88         [-1, 64, 136, 240]               0\n",
      "      BatchNorm2d-89         [-1, 64, 136, 240]             128\n",
      "           Conv2d-90         [-1, 64, 136, 240]          73,792\n",
      "     ResizeConv2d-91         [-1, 64, 136, 240]               0\n",
      "      BatchNorm2d-92         [-1, 64, 136, 240]             128\n",
      "    BasicBlockDec-93         [-1, 64, 136, 240]               0\n",
      "           Conv2d-94         [-1, 64, 136, 240]          36,864\n",
      "      BatchNorm2d-95         [-1, 64, 136, 240]             128\n",
      "           Conv2d-96         [-1, 64, 136, 240]          36,864\n",
      "      BatchNorm2d-97         [-1, 64, 136, 240]             128\n",
      "    BasicBlockDec-98         [-1, 64, 136, 240]               0\n",
      "           Conv2d-99         [-1, 64, 136, 240]          36,864\n",
      "     BatchNorm2d-100         [-1, 64, 136, 240]             128\n",
      "          Conv2d-101         [-1, 64, 136, 240]          36,864\n",
      "     BatchNorm2d-102         [-1, 64, 136, 240]             128\n",
      "   BasicBlockDec-103         [-1, 64, 136, 240]               0\n",
      "          Conv2d-104          [-1, 1, 272, 480]             577\n",
      "    ResizeConv2d-105          [-1, 1, 272, 480]               0\n",
      "     ResNet18Dec-106          [-1, 1, 270, 480]               0\n",
      "================================================================\n",
      "Total params: 32,326,929\n",
      "Trainable params: 32,326,929\n",
      "Non-trainable params: 0\n",
      "----------------------------------------------------------------\n",
      "Input size (MB): 0.50\n",
      "Forward/backward pass size (MB): 813.61\n",
      "Params size (MB): 123.32\n",
      "Estimated Total Size (MB): 937.42\n",
      "----------------------------------------------------------------\n"
     ]
    }
   ],
   "source": [
    "from torchsummary import summary\n",
    "summary(vae_model, (1, 272, 480))"
   ]
  },
  {
   "cell_type": "markdown",
   "id": "6f69f90e",
   "metadata": {},
   "source": [
    "# Training"
   ]
  },
  {
   "cell_type": "code",
   "execution_count": 15,
   "id": "5515c863",
   "metadata": {},
   "outputs": [],
   "source": [
    "def loss_function(x, x_hat, mean, log_var):\n",
    "    reproduction_loss = nn.BCELoss(reduction='sum')(x_hat, x)\n",
    "    KLD      = 0.5 * torch.sum(1+ log_var - mean.pow(2) - log_var.exp())\n",
    "\n",
    "    return reproduction_loss - KLD"
   ]
  },
  {
   "cell_type": "code",
   "execution_count": 16,
   "id": "d7c03eaf",
   "metadata": {},
   "outputs": [
    {
     "data": {
      "text/plain": [
       "(2080, 65)"
      ]
     },
     "execution_count": 16,
     "metadata": {},
     "output_type": "execute_result"
    }
   ],
   "source": [
    "n_training_samples = len_train_dataset * 32 # 32 samples per batch\n",
    "n_iterations = len_train_dataset\n",
    "n_training_samples, n_iterations"
   ]
  },
  {
   "cell_type": "code",
   "execution_count": null,
   "id": "d4552d13",
   "metadata": {
    "scrolled": false
   },
   "outputs": [
    {
     "name": "stdout",
     "output_type": "stream",
     "text": [
      "Epoch: 1/100, Step: 1/65, Avg loss: 98269.641, time: 27.57, Avg. per iter 27.57, Est. time left 1764.26\n",
      "Epoch: 1/100, Step: 2/65, Avg loss: 171230494720.000, time: 55.36, Avg. per iter 27.68, Est. time left 1743.69\n",
      "Epoch: 1/100, Step: 3/65, Avg loss: 114153693184.000, time: 83.97, Avg. per iter 27.99, Est. time left 1735.31\n",
      "Epoch: 1/100, Step: 4/65, Avg loss: 85615296512.000, time: 112.19, Avg. per iter 28.04, Est. time left 1710.74\n",
      "Epoch: 1/100, Step: 5/65, Avg loss: 68492255232.000, time: 141.41, Avg. per iter 28.28, Est. time left 1696.78\n",
      "Epoch: 1/100, Step: 6/65, Avg loss: 57076895744.000, time: 170.55, Avg. per iter 28.42, Est. time left 1676.94\n",
      "Epoch: 1/100, Step: 7/65, Avg loss: 48923070464.000, time: 200.34, Avg. per iter 28.62, Est. time left 1659.84\n"
     ]
    }
   ],
   "source": [
    "time_iteration = []\n",
    "for epoch in range(num_epochs):\n",
    "    overall_loss = 0\n",
    "    overall_elbo = 0\n",
    "    since = time.time()\n",
    "    for i, (image, *_) in enumerate(train_loader):\n",
    "        since_iter = time.time()\n",
    "\n",
    "        optimiser.zero_grad()\n",
    "\n",
    "        # VAE forward pass\n",
    "        mu, logvar, x_hat = vae_model(image)\n",
    "\n",
    "        # Loss\n",
    "        loss = loss_function(image, x_hat, mu, logvar)\n",
    "\n",
    "        overall_loss += loss\n",
    "\n",
    "        # Update weights\n",
    "        \n",
    "        loss.backward()\n",
    "        optimiser.step()\n",
    "        \n",
    "        \n",
    "        time_iteration.append(time.time() - since_iter)\n",
    "        iter_time_mean = np.array(time_iteration).mean()\n",
    "        \n",
    "        if (i+1) % 1 == 0:\n",
    "            time_elapsed = time.time() - since\n",
    "            print(f\"Epoch: {epoch+1}/{num_epochs}, Step: {i+1}/{n_iterations}, Avg loss: {overall_loss/((i+1)*batch_size):.3f}, time: {time_elapsed:.2f}, Avg. per iter {iter_time_mean:.2f}, Est. time left {iter_time_mean*(n_iterations - (i+1)):.2f}\")\n",
    "        \n",
    "    if (i+1) % 10 == 0:\n",
    "        imshow(image[0])\n",
    "        imshow(x_hat[0].detach())\n",
    "            "
   ]
  },
  {
   "cell_type": "code",
   "execution_count": null,
   "id": "00d4a372",
   "metadata": {},
   "outputs": [],
   "source": [
    "if save_model:\n",
    "    torch.save(vae_model.state_dict(), save_model_file)"
   ]
  },
  {
   "cell_type": "markdown",
   "id": "f58eeaf8",
   "metadata": {},
   "source": [
    "# Evaluation"
   ]
  },
  {
   "cell_type": "code",
   "execution_count": null,
   "id": "73440ac3",
   "metadata": {
    "scrolled": false
   },
   "outputs": [],
   "source": [
    "vae_model.eval()\n",
    "\n",
    "# Visualise sample of images\n",
    "with torch.no_grad():\n",
    "#     for images, *_ in test_loader:\n",
    "#         # VAE forward pass\n",
    "#         _, _, x_hat = vae_model(images)\n",
    "\n",
    "#         print(images.mean(), x_hat.mean())\n",
    "#         print(images.var(), x_hat.var())\n",
    "#         print(images.shape)\n",
    "#         for idx in range(len(images)):\n",
    "#             # show images\n",
    "#             imshow(images[idx])\n",
    "#             imshow(x_hat[idx])\n",
    "\n",
    "    images, *_ = next(iter(test_loader))\n",
    "    # VAE forward pass\n",
    "    _, _, x_hat = vae_model(images)\n",
    "\n",
    "    print(images.mean(), x_hat.mean())\n",
    "    print(images.var(), x_hat.var())\n",
    "    print(images.shape)\n",
    "    for idx in range(len(images)):\n",
    "        # show images\n",
    "        imshow(images[idx])\n",
    "        imshow(x_hat[idx])"
   ]
  },
  {
   "cell_type": "code",
   "execution_count": null,
   "id": "6c8acf03",
   "metadata": {
    "scrolled": false
   },
   "outputs": [],
   "source": [
    "vae_model.eval()\n",
    "# Visualise sample of images\n",
    "\n",
    "with torch.no_grad():\n",
    "#     for (images, *_) in train_loader:\n",
    "#         # VAE forward pass\n",
    "#         _, _, x_hat = vae_model(images)\n",
    "\n",
    "#         print(images.mean(), x_hat.mean())\n",
    "#         print(images.var(), x_hat.var())\n",
    "#         print(images.shape)\n",
    "#         for idx in range(len(images)):\n",
    "#             # show images\n",
    "#             imshow(images[idx])\n",
    "#             imshow(x_hat[idx])\n",
    "        \n",
    "    images, *_ = next(iter(train_loader))\n",
    "    # VAE forward pass\n",
    "    _, _, x_hat = vae_model(images)\n",
    "\n",
    "    print(images.mean(), x_hat.mean())\n",
    "    print(images.var(), x_hat.var())\n",
    "    print(images.shape)\n",
    "    for idx in range(len(images)):\n",
    "        # show images\n",
    "        imshow(images[idx])\n",
    "        imshow(x_hat[idx])\n"
   ]
  }
 ],
 "metadata": {
  "kernelspec": {
   "display_name": "Python 3 (ipykernel)",
   "language": "python",
   "name": "python3"
  },
  "language_info": {
   "codemirror_mode": {
    "name": "ipython",
    "version": 3
   },
   "file_extension": ".py",
   "mimetype": "text/x-python",
   "name": "python",
   "nbconvert_exporter": "python",
   "pygments_lexer": "ipython3",
   "version": "3.9.7"
  }
 },
 "nbformat": 4,
 "nbformat_minor": 5
}
