{
 "cells": [
  {
   "cell_type": "code",
   "execution_count": 1,
   "id": "53ea8be7",
   "metadata": {},
   "outputs": [],
   "source": [
    "import torch\n",
    "import torch.nn as nn\n",
    "import torch.nn.functional as F\n",
    "import torchvision\n",
    "from torch.utils.data import DataLoader, Dataset\n",
    "import torchvision.transforms as transforms\n",
    "from torch.optim import Adam\n",
    "import torchvision.transforms.functional as fn\n",
    "\n",
    "import os\n",
    "import time\n",
    "import math\n",
    "import numpy as np\n",
    "import matplotlib.pyplot as plt\n",
    "\n",
    "from di_dataset import DepthImageDataset\n",
    "\n",
    "from torch.utils.tensorboard import SummaryWriter"
   ]
  },
  {
   "cell_type": "code",
   "execution_count": 2,
   "id": "2848f0f5",
   "metadata": {},
   "outputs": [
    {
     "name": "stderr",
     "output_type": "stream",
     "text": [
      "2022-02-23 18:23:43.967154: I tensorflow/stream_executor/platform/default/dso_loader.cc:49] Successfully opened dynamic library libcudart.so.10.1\n"
     ]
    },
    {
     "name": "stdout",
     "output_type": "stream",
     "text": [
      "cpu\n"
     ]
    },
    {
     "name": "stderr",
     "output_type": "stream",
     "text": [
      "/home/patricknit/anaconda3/envs/tf_gpu/lib/python3.9/site-packages/torch/cuda/__init__.py:80: UserWarning: CUDA initialization: The NVIDIA driver on your system is too old (found version 10010). Please update your GPU driver by downloading and installing a new version from the URL: http://www.nvidia.com/Download/index.aspx Alternatively, go to: https://pytorch.org to install a PyTorch version that has been compiled with your version of the CUDA driver. (Triggered internally at  ../c10/cuda/CUDAFunctions.cpp:112.)\n",
      "  return torch._C._cuda_getDeviceCount() > 0\n"
     ]
    }
   ],
   "source": [
    "writer = SummaryWriter('runs/vae_cifar10')\n",
    "\n",
    "# Device configuration\n",
    "device = torch.device('cuda' if torch.cuda.is_available() else 'cpu')\n",
    "print(device)"
   ]
  },
  {
   "cell_type": "markdown",
   "id": "00f15247",
   "metadata": {},
   "source": [
    "# Load Dataset"
   ]
  },
  {
   "cell_type": "code",
   "execution_count": 3,
   "id": "96c30b23",
   "metadata": {},
   "outputs": [],
   "source": [
    "saves_folders = \"../../../rl_data\"\n",
    "load_paths = [os.path.join(saves_folders, saves_folder) for saves_folder in os.listdir(saves_folders)]"
   ]
  },
  {
   "cell_type": "code",
   "execution_count": 4,
   "id": "0b1bb310",
   "metadata": {},
   "outputs": [],
   "source": [
    "load_path = \"../../../rl_data/saves_2\""
   ]
  },
  {
   "cell_type": "code",
   "execution_count": 5,
   "id": "a82a7290",
   "metadata": {},
   "outputs": [],
   "source": [
    "# Hyperparams\n",
    "latent_dim = 1000\n",
    "num_epochs = 120\n",
    "batch_size = 1\n",
    "learning_rate = 1e-4"
   ]
  },
  {
   "cell_type": "code",
   "execution_count": 6,
   "id": "d82131cb",
   "metadata": {},
   "outputs": [
    {
     "name": "stdout",
     "output_type": "stream",
     "text": [
      "Loading from ../../../rl_data/saves_2\n"
     ]
    },
    {
     "name": "stderr",
     "output_type": "stream",
     "text": [
      "100%|█████████████████████████████████████████████████████████████████████| 1/1 [00:00<00:00, 13.89it/s]\n"
     ]
    }
   ],
   "source": [
    "# Obtain train and test data\n",
    "dataset = DepthImageDataset(load_path=load_path)"
   ]
  },
  {
   "cell_type": "code",
   "execution_count": 7,
   "id": "91c2e4d4",
   "metadata": {},
   "outputs": [
    {
     "data": {
      "text/plain": [
       "(1, 1, 1, 1)"
      ]
     },
     "execution_count": 7,
     "metadata": {},
     "output_type": "execute_result"
    }
   ],
   "source": [
    "train_size = int(0.9 * len(dataset))\n",
    "test_size = len(dataset) - train_size\n",
    "train_dataset, test_dataset = torch.utils.data.random_split(dataset, [train_size, test_size])\n",
    "\n",
    "train_loader = DataLoader(dataset=train_dataset, batch_size=batch_size, num_workers=0)\n",
    "test_loader = DataLoader(dataset=test_dataset, batch_size=batch_size, num_workers=0)\n",
    "len(train_loader), len(test_loader), len(train_dataset), len(test_dataset)"
   ]
  },
  {
   "cell_type": "code",
   "execution_count": 8,
   "id": "f5eb2b73",
   "metadata": {},
   "outputs": [
    {
     "data": {
      "image/png": "[encoded data removed]",
      "text/plain": [
       "<Figure size 432x288 with 1 Axes>"
      ]
     },
     "metadata": {
      "needs_background": "light"
     },
     "output_type": "display_data"
    },
    {
     "name": "stdout",
     "output_type": "stream",
     "text": [
      "torch.Size([1, 272, 480])\n"
     ]
    }
   ],
   "source": [
    "dataiter = iter(train_loader)\n",
    "image_batch = dataiter.next()\n",
    "\n",
    "import torch.nn.functional as F\n",
    "\n",
    "\n",
    "def imshow(img):\n",
    "    npimg = img.numpy()\n",
    "    plt.imshow(np.transpose(npimg, (1, 2, 0)))\n",
    "    plt.show()\n",
    "\n",
    "for image in image_batch:\n",
    "    imshow(image)\n",
    "\n",
    "    \n",
    "print(image.shape)"
   ]
  },
  {
   "cell_type": "code",
   "execution_count": 9,
   "id": "1ce9d190",
   "metadata": {},
   "outputs": [
    {
     "data": {
      "text/plain": [
       "(tensor(0.7420), tensor(0.0769))"
      ]
     },
     "execution_count": 9,
     "metadata": {},
     "output_type": "execute_result"
    }
   ],
   "source": [
    "image_batch.squeeze().mean(), image_batch.squeeze().var()"
   ]
  },
  {
   "cell_type": "markdown",
   "id": "6d97d632",
   "metadata": {},
   "source": [
    "# Define Variational Autoencoder\n",
    "\n",
    "### Taken from https://github.com/julianstastny/VAE-ResNet18-PyTorch"
   ]
  },
  {
   "cell_type": "code",
   "execution_count": 10,
   "id": "193d26d8",
   "metadata": {},
   "outputs": [],
   "source": [
    "class ResizeConv2d(nn.Module):\n",
    "\n",
    "    def __init__(self, in_channels, out_channels, kernel_size, scale_factor, mode='nearest'):\n",
    "        super().__init__()\n",
    "        self.scale_factor = scale_factor\n",
    "        self.mode = mode\n",
    "        self.conv = nn.Conv2d(in_channels, out_channels, kernel_size, stride=1, padding=1)\n",
    "\n",
    "    def forward(self, x):\n",
    "        x = F.interpolate(x, scale_factor=self.scale_factor, mode=self.mode)\n",
    "        x = self.conv(x)\n",
    "        return x\n",
    "\n",
    "class BasicBlockEnc(nn.Module):\n",
    "\n",
    "    def __init__(self, in_planes, stride=1):\n",
    "        super().__init__()\n",
    "\n",
    "        planes = in_planes*stride\n",
    "\n",
    "        self.conv1 = nn.Conv2d(in_planes, planes, kernel_size=3, stride=stride, padding=1, bias=False)\n",
    "        self.bn1 = nn.BatchNorm2d(planes)\n",
    "        self.conv2 = nn.Conv2d(planes, planes, kernel_size=3, stride=1, padding=1, bias=False)\n",
    "        self.bn2 = nn.BatchNorm2d(planes)\n",
    "\n",
    "        if stride == 1:\n",
    "            self.shortcut = nn.Sequential()\n",
    "        else:\n",
    "            self.shortcut = nn.Sequential(\n",
    "                nn.Conv2d(in_planes, planes, kernel_size=1, stride=stride, bias=False),\n",
    "                nn.BatchNorm2d(planes)\n",
    "            )\n",
    "\n",
    "    def forward(self, x):\n",
    "        out = torch.relu(self.bn1(self.conv1(x)))\n",
    "        out = self.bn2(self.conv2(out))\n",
    "        out += self.shortcut(x)\n",
    "        out = torch.relu(out)\n",
    "        return out\n",
    "\n",
    "class BasicBlockDec(nn.Module):\n",
    "\n",
    "    def __init__(self, in_planes, stride=1):\n",
    "        super().__init__()\n",
    "\n",
    "        planes = int(in_planes/stride)\n",
    "\n",
    "        self.conv2 = nn.Conv2d(in_planes, in_planes, kernel_size=3, stride=1, padding=1, bias=False)\n",
    "        self.bn2 = nn.BatchNorm2d(in_planes)\n",
    "        # self.bn1 could have been placed here, but that messes up the order of the layers when printing the class\n",
    "\n",
    "        if stride == 1:\n",
    "            self.conv1 = nn.Conv2d(in_planes, planes, kernel_size=3, stride=1, padding=1, bias=False)\n",
    "            self.bn1 = nn.BatchNorm2d(planes)\n",
    "            self.shortcut = nn.Sequential()\n",
    "        else:\n",
    "            self.conv1 = ResizeConv2d(in_planes, planes, kernel_size=3, scale_factor=stride)\n",
    "            self.bn1 = nn.BatchNorm2d(planes)\n",
    "            self.shortcut = nn.Sequential(\n",
    "                ResizeConv2d(in_planes, planes, kernel_size=3, scale_factor=stride),\n",
    "                nn.BatchNorm2d(planes)\n",
    "            )\n",
    "\n",
    "    def forward(self, x):\n",
    "        out = torch.relu(self.bn2(self.conv2(x)))\n",
    "        out = self.bn1(self.conv1(out))\n",
    "        out += self.shortcut(x)\n",
    "        out = torch.relu(out)\n",
    "        return out\n",
    "\n",
    "class ResNet18Enc(nn.Module):\n",
    "\n",
    "    def __init__(self, num_Blocks=[2,2,2,2], z_dim=10, nc=3):\n",
    "        super().__init__()\n",
    "        self.in_planes = 64\n",
    "        self.z_dim = z_dim\n",
    "        self.conv1 = nn.Conv2d(nc, 64, kernel_size=3, stride=2, padding=1, bias=False)\n",
    "        self.bn1 = nn.BatchNorm2d(64)\n",
    "        self.layer1 = self._make_layer(BasicBlockEnc, 64, num_Blocks[0], stride=1)\n",
    "        self.layer2 = self._make_layer(BasicBlockEnc, 128, num_Blocks[1], stride=2)\n",
    "        self.layer3 = self._make_layer(BasicBlockEnc, 256, num_Blocks[2], stride=2)\n",
    "        self.layer4 = self._make_layer(BasicBlockEnc, 512, num_Blocks[3], stride=2)\n",
    "        self.linear = nn.Linear(512*8*15, 2 * z_dim)\n",
    "\n",
    "    def _make_layer(self, BasicBlockEnc, planes, num_Blocks, stride):\n",
    "        strides = [stride] + [1]*(num_Blocks-1)\n",
    "        layers = []\n",
    "        for stride in strides:\n",
    "            layers += [BasicBlockEnc(self.in_planes, stride)]\n",
    "            self.in_planes = planes\n",
    "        return nn.Sequential(*layers)\n",
    "\n",
    "    def forward(self, x):\n",
    "        x = torch.relu(self.bn1(self.conv1(x)))\n",
    "        #print(x.shape)\n",
    "        x = self.layer1(x)\n",
    "        #print(x.shape)\n",
    "        x = self.layer2(x)\n",
    "        #print(x.shape)\n",
    "        x = self.layer3(x)\n",
    "        #print(x.shape)\n",
    "        x = self.layer4(x)\n",
    "        #print(f\"x_enc = {x.shape}\")\n",
    "        x = F.adaptive_avg_pool2d(x, (8,15))\n",
    "        #print(f\"x_enc = {x.shape}\")\n",
    "        x = x.view(x.size(0), -1)\n",
    "        #print(f\"x_enc = {x.shape}\")\n",
    "        x = self.linear(x)\n",
    "        mu = x[:, :self.z_dim]\n",
    "        logvar = x[:, self.z_dim:]\n",
    "        return mu, logvar\n",
    "\n",
    "class ResNet18Dec(nn.Module):\n",
    "\n",
    "    def __init__(self, num_Blocks=[2,2,2,2], z_dim=10, nc=3):\n",
    "        super().__init__()\n",
    "        self.in_planes = 512\n",
    "        self.nc = nc\n",
    "\n",
    "        self.linear = nn.Linear(z_dim, 512*8*15)\n",
    "\n",
    "        self.layer4 = self._make_layer(BasicBlockDec, 256, num_Blocks[3], stride=2)\n",
    "        self.layer3 = self._make_layer(BasicBlockDec, 128, num_Blocks[2], stride=2)\n",
    "        self.layer2 = self._make_layer(BasicBlockDec, 64, num_Blocks[1], stride=2)\n",
    "        self.layer1 = self._make_layer(BasicBlockDec, 64, num_Blocks[0], stride=1)\n",
    "        self.conv1 = ResizeConv2d(64, nc, kernel_size=3, scale_factor=2)\n",
    "\n",
    "    def _make_layer(self, BasicBlockDec, planes, num_Blocks, stride):\n",
    "        strides = [stride] + [1]*(num_Blocks-1)\n",
    "        layers = []\n",
    "        for stride in reversed(strides):\n",
    "            layers += [BasicBlockDec(self.in_planes, stride)]\n",
    "        self.in_planes = planes\n",
    "        return nn.Sequential(*layers)\n",
    "\n",
    "    def forward(self, z):\n",
    "        x = self.linear(z)\n",
    "        x = x.view(z.size(0), 512, 8, 15)\n",
    "        #print(\"x before interpoloate:\", x.shape)\n",
    "        #x = F.interpolate(x, size=[17, 30], mode='bilinear', align_corners=True)\n",
    "        x = F.interpolate(x, size=[17, 30], mode='nearest')\n",
    "        #print(x.shape)\n",
    "        x = self.layer4(x)\n",
    "        #print(x.shape)\n",
    "        x = self.layer3(x)\n",
    "        #print(x.shape)\n",
    "        x = self.layer2(x)\n",
    "        #print(x.shape)\n",
    "        x = self.layer1(x)\n",
    "        #print(\"fix layer 1\")\n",
    "        #print(x.shape)\n",
    "        x = torch.sigmoid(self.conv1(x))\n",
    "        x = x.view(x.size(0), self.nc, 272, 480)\n",
    "        #print(x.shape)\n",
    "        return x\n",
    "\n",
    "class VAE(nn.Module):\n",
    "\n",
    "    def __init__(self, z_dim, nc=1):\n",
    "        super().__init__()\n",
    "        self.encoder = ResNet18Enc(z_dim=z_dim, nc=nc)\n",
    "        self.decoder = ResNet18Dec(z_dim=z_dim, nc=nc)\n",
    "    \n",
    "        \n",
    "    def forward(self, x):\n",
    "        mean, logvar = self.encoder(x)\n",
    "        z = self.reparameterize(mean, logvar)\n",
    "        #print(f\"z_dim = {z.shape}\")\n",
    "        x_hat = self.decoder(z)\n",
    "\n",
    "        return mean, logvar, x_hat\n",
    "    \n",
    "    @staticmethod\n",
    "    def reparameterize(mean, logvar):\n",
    "        std = torch.exp(logvar / 2) # in log-space, sqrt is divide by two\n",
    "        epsilon = torch.randn_like(std)\n",
    "        return epsilon * std + mean\n",
    "\n"
   ]
  },
  {
   "cell_type": "markdown",
   "id": "6f69f90e",
   "metadata": {},
   "source": [
    "# Training"
   ]
  },
  {
   "cell_type": "code",
   "execution_count": 11,
   "id": "5515c863",
   "metadata": {},
   "outputs": [],
   "source": [
    "def loss_function(x, x_hat, mean, log_var):\n",
    "    reproduction_loss = nn.BCELoss(reduction='sum')(x_hat, x)\n",
    "    KLD      = 0.5 * torch.sum(1+ log_var - mean.pow(2) - log_var.exp())\n",
    "\n",
    "    return reproduction_loss - KLD"
   ]
  },
  {
   "cell_type": "code",
   "execution_count": 12,
   "id": "d7c03eaf",
   "metadata": {},
   "outputs": [
    {
     "data": {
      "text/plain": [
       "(1, 1)"
      ]
     },
     "execution_count": 12,
     "metadata": {},
     "output_type": "execute_result"
    }
   ],
   "source": [
    "n_training_samples = len(train_dataset)\n",
    "n_iterations = math.ceil(n_training_samples/batch_size)\n",
    "n_training_samples, n_iterations"
   ]
  },
  {
   "cell_type": "code",
   "execution_count": 13,
   "id": "a7db78cd",
   "metadata": {},
   "outputs": [],
   "source": [
    "vae_model = VAE(z_dim=latent_dim)\n",
    "optimiser = torch.optim.Adam(vae_model.parameters(), lr=learning_rate)"
   ]
  },
  {
   "cell_type": "code",
   "execution_count": null,
   "id": "ba25e938",
   "metadata": {
    "scrolled": false
   },
   "outputs": [
    {
     "name": "stdout",
     "output_type": "stream",
     "text": [
      "x_enc = torch.Size([1, 512, 17, 30])\n",
      "x_enc = torch.Size([1, 512, 8, 15])\n",
      "x_enc = torch.Size([1, 61440])\n",
      "epoch: 1/120, step: 1/1, Avg loss: 92421.336, time: 1.554\n",
      "x_enc = torch.Size([1, 512, 17, 30])\n",
      "x_enc = torch.Size([1, 512, 8, 15])\n",
      "x_enc = torch.Size([1, 61440])\n",
      "epoch: 2/120, step: 1/1, Avg loss: 146244.453, time: 1.813\n",
      "x_enc = torch.Size([1, 512, 17, 30])\n",
      "x_enc = torch.Size([1, 512, 8, 15])\n",
      "x_enc = torch.Size([1, 61440])\n",
      "epoch: 3/120, step: 1/1, Avg loss: 147108.891, time: 1.876\n",
      "x_enc = torch.Size([1, 512, 17, 30])\n",
      "x_enc = torch.Size([1, 512, 8, 15])\n",
      "x_enc = torch.Size([1, 61440])\n",
      "epoch: 4/120, step: 1/1, Avg loss: 103667.945, time: 1.747\n",
      "x_enc = torch.Size([1, 512, 17, 30])\n",
      "x_enc = torch.Size([1, 512, 8, 15])\n",
      "x_enc = torch.Size([1, 61440])\n",
      "epoch: 5/120, step: 1/1, Avg loss: 91544.820, time: 1.811\n",
      "x_enc = torch.Size([1, 512, 17, 30])\n",
      "x_enc = torch.Size([1, 512, 8, 15])\n",
      "x_enc = torch.Size([1, 61440])\n",
      "epoch: 6/120, step: 1/1, Avg loss: 82281.609, time: 1.867\n",
      "x_enc = torch.Size([1, 512, 17, 30])\n",
      "x_enc = torch.Size([1, 512, 8, 15])\n",
      "x_enc = torch.Size([1, 61440])\n",
      "epoch: 7/120, step: 1/1, Avg loss: 74290.094, time: 1.919\n",
      "x_enc = torch.Size([1, 512, 17, 30])\n",
      "x_enc = torch.Size([1, 512, 8, 15])\n",
      "x_enc = torch.Size([1, 61440])\n",
      "epoch: 8/120, step: 1/1, Avg loss: 67634.086, time: 1.813\n",
      "x_enc = torch.Size([1, 512, 17, 30])\n",
      "x_enc = torch.Size([1, 512, 8, 15])\n",
      "x_enc = torch.Size([1, 61440])\n",
      "epoch: 9/120, step: 1/1, Avg loss: 62528.602, time: 1.805\n",
      "x_enc = torch.Size([1, 512, 17, 30])\n",
      "x_enc = torch.Size([1, 512, 8, 15])\n",
      "x_enc = torch.Size([1, 61440])\n",
      "epoch: 10/120, step: 1/1, Avg loss: 58663.172, time: 1.726\n",
      "x_enc = torch.Size([1, 512, 17, 30])\n",
      "x_enc = torch.Size([1, 512, 8, 15])\n",
      "x_enc = torch.Size([1, 61440])\n",
      "epoch: 11/120, step: 1/1, Avg loss: 55922.629, time: 1.730\n",
      "x_enc = torch.Size([1, 512, 17, 30])\n",
      "x_enc = torch.Size([1, 512, 8, 15])\n",
      "x_enc = torch.Size([1, 61440])\n",
      "epoch: 12/120, step: 1/1, Avg loss: 54194.828, time: 1.792\n",
      "x_enc = torch.Size([1, 512, 17, 30])\n",
      "x_enc = torch.Size([1, 512, 8, 15])\n",
      "x_enc = torch.Size([1, 61440])\n",
      "epoch: 13/120, step: 1/1, Avg loss: 52954.941, time: 1.780\n",
      "x_enc = torch.Size([1, 512, 17, 30])\n",
      "x_enc = torch.Size([1, 512, 8, 15])\n",
      "x_enc = torch.Size([1, 61440])\n",
      "epoch: 14/120, step: 1/1, Avg loss: 52433.922, time: 1.718\n",
      "x_enc = torch.Size([1, 512, 17, 30])\n",
      "x_enc = torch.Size([1, 512, 8, 15])\n",
      "x_enc = torch.Size([1, 61440])\n",
      "epoch: 15/120, step: 1/1, Avg loss: 51968.797, time: 1.799\n",
      "x_enc = torch.Size([1, 512, 17, 30])\n",
      "x_enc = torch.Size([1, 512, 8, 15])\n",
      "x_enc = torch.Size([1, 61440])\n",
      "epoch: 16/120, step: 1/1, Avg loss: 51179.449, time: 1.772\n",
      "x_enc = torch.Size([1, 512, 17, 30])\n",
      "x_enc = torch.Size([1, 512, 8, 15])\n",
      "x_enc = torch.Size([1, 61440])\n",
      "epoch: 17/120, step: 1/1, Avg loss: 50856.930, time: 1.742\n",
      "x_enc = torch.Size([1, 512, 17, 30])\n",
      "x_enc = torch.Size([1, 512, 8, 15])\n",
      "x_enc = torch.Size([1, 61440])\n",
      "epoch: 18/120, step: 1/1, Avg loss: 50533.176, time: 1.682\n",
      "x_enc = torch.Size([1, 512, 17, 30])\n",
      "x_enc = torch.Size([1, 512, 8, 15])\n",
      "x_enc = torch.Size([1, 61440])\n",
      "epoch: 19/120, step: 1/1, Avg loss: 50354.312, time: 1.681\n",
      "x_enc = torch.Size([1, 512, 17, 30])\n",
      "x_enc = torch.Size([1, 512, 8, 15])\n",
      "x_enc = torch.Size([1, 61440])\n",
      "epoch: 20/120, step: 1/1, Avg loss: 50079.426, time: 1.671\n",
      "x_enc = torch.Size([1, 512, 17, 30])\n",
      "x_enc = torch.Size([1, 512, 8, 15])\n",
      "x_enc = torch.Size([1, 61440])\n",
      "epoch: 21/120, step: 1/1, Avg loss: 49771.492, time: 1.664\n",
      "x_enc = torch.Size([1, 512, 17, 30])\n",
      "x_enc = torch.Size([1, 512, 8, 15])\n",
      "x_enc = torch.Size([1, 61440])\n",
      "epoch: 22/120, step: 1/1, Avg loss: 49477.594, time: 1.682\n",
      "x_enc = torch.Size([1, 512, 17, 30])\n",
      "x_enc = torch.Size([1, 512, 8, 15])\n",
      "x_enc = torch.Size([1, 61440])\n",
      "epoch: 23/120, step: 1/1, Avg loss: 49283.145, time: 1.672\n",
      "x_enc = torch.Size([1, 512, 17, 30])\n",
      "x_enc = torch.Size([1, 512, 8, 15])\n",
      "x_enc = torch.Size([1, 61440])\n"
     ]
    }
   ],
   "source": [
    "for epoch in range(num_epochs):\n",
    "    overall_loss = 0\n",
    "    overall_elbo = 0\n",
    "    since = time.time()\n",
    "    for i, image in enumerate(train_loader):\n",
    "\n",
    "        optimiser.zero_grad()\n",
    "\n",
    "        # VAE forward pass\n",
    "        mu, logvar, x_hat = vae_model(image)\n",
    "\n",
    "        # Loss\n",
    "        loss = loss_function(image, x_hat, mu, logvar)\n",
    "\n",
    "        overall_loss += loss\n",
    "\n",
    "        # Update weights\n",
    "        \n",
    "        loss.backward()\n",
    "        optimiser.step()\n",
    "\n",
    "        if (i+1) % 1 == 0:\n",
    "            time_elapsed = time.time() - since\n",
    "            print(f\"epoch: {epoch+1}/{num_epochs}, step: {i+1}/{n_iterations}, Avg loss: {overall_loss/((i+1)*batch_size):.3f}, time: {time_elapsed:.3f}\")\n"
   ]
  },
  {
   "cell_type": "code",
   "execution_count": null,
   "id": "96ed211c",
   "metadata": {
    "scrolled": true
   },
   "outputs": [],
   "source": [
    "from torchsummary import summary\n",
    "summary(vae_model, (1, 272, 480))"
   ]
  },
  {
   "cell_type": "markdown",
   "id": "364cfdb1",
   "metadata": {},
   "source": [
    "# Evaluation"
   ]
  },
  {
   "cell_type": "code",
   "execution_count": null,
   "id": "73440ac3",
   "metadata": {},
   "outputs": [],
   "source": [
    "# 46086.105\n",
    "vae_model.eval()\n",
    "# Visualise sample of images\n",
    "\n",
    "with torch.no_grad():\n",
    "    for images in test_loader:\n",
    "        # VAE forward pass\n",
    "        _, _, x_hat = vae_model(images)\n",
    "\n",
    "        print(images.mean(), x_hat.mean())\n",
    "        print(images.var(), x_hat.var())\n",
    "        print(images.shape)\n",
    "        for idx in range(len(images)):\n",
    "            # show images\n",
    "            imshow(images[idx])\n",
    "            imshow(x_hat[idx])\n",
    "\n",
    "        # write to tensorboard\n",
    "        # writer.add_image('four_cifar10_images', inv_normalize(img_grid))\n"
   ]
  },
  {
   "cell_type": "code",
   "execution_count": null,
   "id": "e7318409",
   "metadata": {},
   "outputs": [],
   "source": []
  },
  {
   "cell_type": "code",
   "execution_count": null,
   "id": "56ef7acb",
   "metadata": {},
   "outputs": [],
   "source": []
  },
  {
   "cell_type": "code",
   "execution_count": null,
   "id": "983febee",
   "metadata": {},
   "outputs": [],
   "source": []
  },
  {
   "cell_type": "code",
   "execution_count": null,
   "id": "ccb9ac6f",
   "metadata": {},
   "outputs": [],
   "source": []
  },
  {
   "cell_type": "code",
   "execution_count": null,
   "id": "4f812150",
   "metadata": {},
   "outputs": [],
   "source": [
    "vae_model.eval()\n",
    "# Visualise sample of images\n",
    "\n",
    "with torch.no_grad():\n",
    "    for images in train_loader:\n",
    "        # VAE forward pass\n",
    "        _, _, x_hat = vae_model(images)\n",
    "\n",
    "        print(images.mean(), x_hat.mean())\n",
    "        print(images.var(), x_hat.var())\n",
    "        print(images.shape)\n",
    "        for idx in range(len(images)):\n",
    "            # show images\n",
    "            imshow(images[idx])\n",
    "            imshow(x_hat[idx])\n",
    "\n",
    "        # write to tensorboard\n",
    "        # writer.add_image('four_cifar10_images', inv_normalize(img_grid))\n"
   ]
  },
  {
   "cell_type": "code",
   "execution_count": null,
   "id": "c1d90528",
   "metadata": {},
   "outputs": [],
   "source": []
  }
 ],
 "metadata": {
  "kernelspec": {
   "display_name": "Python 3 (ipykernel)",
   "language": "python",
   "name": "python3"
  },
  "language_info": {
   "codemirror_mode": {
    "name": "ipython",
    "version": 3
   },
   "file_extension": ".py",
   "mimetype": "text/x-python",
   "name": "python",
   "nbconvert_exporter": "python",
   "pygments_lexer": "ipython3",
   "version": "3.9.7"
  }
 },
 "nbformat": 4,
 "nbformat_minor": 5
}
