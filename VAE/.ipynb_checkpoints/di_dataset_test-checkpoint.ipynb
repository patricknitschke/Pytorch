{
 "cells": [
  {
   "cell_type": "code",
   "execution_count": 32,
   "id": "2f833e23",
   "metadata": {},
   "outputs": [],
   "source": [
    "import torch\n",
    "import torch.nn as nn\n",
    "import torch.nn.functional as F\n",
    "from torch.utils.data import DataLoader, Dataset\n",
    "from torch.optim import Adam\n",
    "from torchsummary import summary\n",
    "import tensorflow as tf\n",
    "import numpy as np\n",
    "import skimage.io as io\n",
    "\n",
    "import os\n",
    "import sys"
   ]
  },
  {
   "cell_type": "markdown",
   "id": "875b3505",
   "metadata": {},
   "source": [
    "# Depth Image Dataset"
   ]
  },
  {
   "cell_type": "code",
   "execution_count": 33,
   "id": "bb281435",
   "metadata": {},
   "outputs": [],
   "source": [
    "load_path = \"../../../rl_data/tfrecord\""
   ]
  },
  {
   "cell_type": "code",
   "execution_count": 34,
   "id": "66651a7e",
   "metadata": {},
   "outputs": [],
   "source": [
    "sys.path.append('.')\n",
    "\n",
    "def get_files_ending_with(folder_or_folders, ext):\n",
    "    if isinstance(folder_or_folders, str):\n",
    "        folder = folder_or_folders\n",
    "        assert os.path.exists(folder)\n",
    "\n",
    "        fnames = []\n",
    "        for fname in os.listdir(folder):\n",
    "            if fname.endswith(ext):       \n",
    "                fnames.append(os.path.join(folder, fname))\n",
    "        return sorted(fnames)\n",
    "    else:\n",
    "        assert hasattr(folder_or_folders, '__iter__')\n",
    "        print('folder_or_folders:', folder_or_folders)\n",
    "        return list(itertools.chain(*[get_files_ending_with(folder, ext) for folder in folder_or_folders]))\n",
    "\n",
    "\n",
    "device = torch.device(\"cuda\" if torch.cuda.is_available() else \"cpu\")\n",
    "def collate_batch(batch):\n",
    "    # image, actions, robot_state, collision_label, info_label, height, width, depth, action_horizon = [], [], [], [], [], [], [], [], []\n",
    "    # for _image, _actions, _robot_state, _collision_label, _info_label, _height, _width, _depth, _action_horizon in batch:\n",
    "    #     image.append(_image.numpy())\n",
    "    #     actions.append(_actions.numpy())\n",
    "    #     robot_state.append(_robot_state.numpy())\n",
    "    #     collision_label.append(_collision_label.numpy())\n",
    "    #     info_label.append(_info_label.numpy())\n",
    "    #     height.append(_height.numpy())\n",
    "    #     width.append(_width.numpy())\n",
    "    #     depth.append(_depth.numpy())\n",
    "    #     action_horizon.append(_action_horizon.numpy())\n",
    "    # print('batch[0]:', batch[0])\n",
    "    image = batch[0][0]\n",
    "    height = batch[0][1]\n",
    "    width = batch[0][2]\n",
    "    depth = batch[0][3]\n",
    "    \n",
    "    return torch.Tensor(np.array(image)).to(device), torch.Tensor(np.array(height)).to(device), torch.Tensor(np.array(width)).to(device), torch.Tensor(np.array(depth)).to(device)\n",
    "\n",
    "\n",
    "class DepthImageDataset(torch.utils.data.IterableDataset):\n",
    "    def __init__(self, tfrecord_folder, batch_size=32, shuffle=True):\n",
    "        super(DepthImageDataset).__init__()\n",
    "        self.tfrecord_folder = tfrecord_folder\n",
    "        self.dataset, self.data_len = self.load_tfrecords(is_shuffle_and_repeat=shuffle, batch_size=batch_size)\n",
    "\n",
    "    def read_tfrecord(self, serialized_example):\n",
    "        feature_description = {\n",
    "            'image': tf.io.FixedLenFeature([], tf.string),\n",
    "            'height': tf.io.FixedLenFeature([], tf.int64),\n",
    "            'width': tf.io.FixedLenFeature([], tf.int64),\n",
    "            'depth': tf.io.FixedLenFeature([], tf.int64),\n",
    "        }\n",
    "        example = tf.io.parse_single_example(serialized_example, feature_description)\n",
    "\n",
    "        image = tf.transpose(tf.cast(tf.io.parse_tensor(example['image'], out_type = tf.uint8), tf.float32),  perm=[2, 0, 1]) / 256\n",
    "        height = example['height']\n",
    "        width = example['width']\n",
    "        depth = example['depth']\n",
    "        return image, height, width, depth\n",
    "\n",
    "    def load_tfrecords(self, is_shuffle_and_repeat=True, shuffle_buffer_size=5000, prefetch_buffer_size_multiplier=2, batch_size=32):\n",
    "        print('Loading tfrecords...')\n",
    "        tfrecord_fnames = get_files_ending_with(self.tfrecord_folder, '.tfrecords')\n",
    "        assert len(tfrecord_fnames) > 0\n",
    "        if is_shuffle_and_repeat:\n",
    "            np.random.shuffle(tfrecord_fnames)\n",
    "        else:\n",
    "            tfrecord_fnames = sorted(tfrecord_fnames) # 176 tfrecords for train, 20 for test\n",
    "\n",
    "        tfrecord_fnames = tfrecord_fnames[:1]\n",
    "        print(tfrecord_fnames)\n",
    "\n",
    "        dataset = tf.data.TFRecordDataset(tfrecord_fnames)\n",
    "        dataset = dataset.map(self.read_tfrecord, num_parallel_calls=tf.data.experimental.AUTOTUNE)\n",
    "        if is_shuffle_and_repeat: \n",
    "            dataset = dataset.shuffle(buffer_size=shuffle_buffer_size, reshuffle_each_iteration=True)\n",
    "        dataset = dataset.batch(batch_size)\n",
    "        dataset = dataset.prefetch(buffer_size=prefetch_buffer_size_multiplier * batch_size)\n",
    "\n",
    "        print('Iterating length...')\n",
    "        data_len = sum(1 for _ in dataset)\n",
    "        print('Done.')\n",
    "        \n",
    "        return dataset, data_len\n",
    "    \n",
    "    def __iter__(self):\n",
    "        print(\"gotcha\")\n",
    "        return self.dataset.__iter__()\n",
    "\n",
    "    def __len__(self):\n",
    "        return self.data_len\n"
   ]
  },
  {
   "cell_type": "code",
   "execution_count": 35,
   "id": "c1288cad",
   "metadata": {},
   "outputs": [
    {
     "name": "stdout",
     "output_type": "stream",
     "text": [
      "Loading tfrecords...\n",
      "['../../../rl_data/tfrecord/data49.tfrecords']\n",
      "WARNING:tensorflow:AutoGraph could not transform <bound method DepthImageDataset.read_tfrecord of <__main__.DepthImageDataset object at 0x7f01e86df340>> and will run it as-is.\n",
      "Please report this to the TensorFlow team. When filing the bug, set the verbosity to 10 (on Linux, `export AUTOGRAPH_VERBOSITY=10`) and attach the full output.\n",
      "Cause: module 'gast' has no attribute 'Index'\n",
      "To silence this warning, decorate the function with @tf.autograph.experimental.do_not_convert\n",
      "WARNING: AutoGraph could not transform <bound method DepthImageDataset.read_tfrecord of <__main__.DepthImageDataset object at 0x7f01e86df340>> and will run it as-is.\n",
      "Please report this to the TensorFlow team. When filing the bug, set the verbosity to 10 (on Linux, `export AUTOGRAPH_VERBOSITY=10`) and attach the full output.\n",
      "Cause: module 'gast' has no attribute 'Index'\n",
      "To silence this warning, decorate the function with @tf.autograph.experimental.do_not_convert\n",
      "Iterating length...\n",
      "Done.\n"
     ]
    }
   ],
   "source": [
    "dataset = DepthImageDataset(load_path)"
   ]
  },
  {
   "cell_type": "markdown",
   "id": "9f04a1db",
   "metadata": {},
   "source": [
    "# Dataloader"
   ]
  },
  {
   "cell_type": "code",
   "execution_count": 36,
   "id": "6d6ea375",
   "metadata": {},
   "outputs": [
    {
     "name": "stdout",
     "output_type": "stream",
     "text": [
      "gotcha\n"
     ]
    }
   ],
   "source": [
    "data_loader = torch.utils.data.DataLoader(dataset, batch_size=1, collate_fn=collate_batch)\n",
    "image, *_ = next(iter(loader))"
   ]
  },
  {
   "cell_type": "code",
   "execution_count": 37,
   "id": "fb9a28c8",
   "metadata": {},
   "outputs": [
    {
     "data": {
      "text/plain": [
       "(65, 65)"
      ]
     },
     "execution_count": 37,
     "metadata": {},
     "output_type": "execute_result"
    }
   ],
   "source": [
    "len(dataset), len(data_loader)"
   ]
  },
  {
   "cell_type": "markdown",
   "id": "2f432dbe",
   "metadata": {},
   "source": [
    "# Model"
   ]
  },
  {
   "cell_type": "code",
   "execution_count": 38,
   "id": "980044ca",
   "metadata": {},
   "outputs": [],
   "source": [
    "class Dronet(nn.Module):\n",
    "    def __init__(self, input_dim, num_outputs, include_top=True):\n",
    "        super(Dronet, self).__init__()\n",
    "        self.include_top = include_top\n",
    "        \n",
    "        print('[Dronet] Starting dronet')\n",
    "\n",
    "        self.max0 = nn.MaxPool2d(kernel_size=2, stride=2, return_indices=True)  # default pool_size='2', strides=2\n",
    "\n",
    "        self.bn0 = nn.BatchNorm2d(32)\n",
    "        self.bn1 = nn.BatchNorm2d(32)\n",
    "        self.bn2 = nn.BatchNorm2d(32)\n",
    "        self.bn3 = nn.BatchNorm2d(64)\n",
    "        self.bn4 = nn.BatchNorm2d(64)\n",
    "        self.bn5 = nn.BatchNorm2d(128)\n",
    "\n",
    "        self.conv0 = nn.Conv2d(input_dim, 32, kernel_size=5, stride=2, padding=2)\n",
    "        self.xavier_uniform_init(self.conv0)\n",
    "        \n",
    "        self.conv0_2 = nn.Conv2d(32, 32, kernel_size=5, stride=2, padding=2)\n",
    "\n",
    "        self.conv1 = nn.Conv2d(32, 32, kernel_size=3, stride=2, padding=1) # padding='same' \n",
    "        self.conv2 = nn.Conv2d(32, 32, kernel_size=3, stride=1, padding=1) # padding='same' # Todo: kernel_regularizer=tf.keras.regularizers.l2(1e-4)\n",
    "        self.conv3 = nn.Conv2d(32, 32, kernel_size=1, stride=2)\n",
    "        self.xavier_uniform_init(self.conv3)\n",
    "\n",
    "        self.conv4 = nn.Conv2d(32, 64, kernel_size=3, stride=2, padding=1) # padding='same' # Todo: kernel_regularizer=tf.keras.regularizers.l2(1e-4)\n",
    "        self.conv5 = nn.Conv2d(64, 64, kernel_size=3, stride=1, padding=1) # padding='same' # Todo: kernel_regularizer=tf.keras.regularizers.l2(1e-4)\n",
    "        self.conv6 = nn.Conv2d(32, 64, kernel_size=1, stride=2) # padding='same'\n",
    "        self.xavier_uniform_init(self.conv6)\n",
    "\n",
    "        self.conv7 = nn.Conv2d(64, 128, kernel_size=3, stride=2, padding=1) # padding='same' # Todo: kernel_regularizer=tf.keras.regularizers.l2(1e-4)\n",
    "        self.conv8 = nn.Conv2d(128, 128, kernel_size=3, stride=1, padding=1) # padding='same' # Todo: kernel_regularizer=tf.keras.regularizers.l2(1e-4)\n",
    "        self.conv9 = nn.Conv2d(64, 128, kernel_size=1, stride=2) # padding='same'\n",
    "        self.xavier_uniform_init(self.conv9)\n",
    "\n",
    "        self.dense0 = nn.Linear(9*15*128, 64) # Todo: check size\n",
    "        self.dense1 = nn.Linear(64, 32)\n",
    "        self.dense2 = nn.Linear(32, num_outputs)\n",
    "        self.dense3 = nn.Linear(9*15*128, num_outputs)\n",
    "\n",
    "        print('[Dronet] Done with dronet')\n",
    "    \n",
    "    \n",
    "    def xavier_uniform_init(self, m):\n",
    "        \"\"\"\n",
    "        Default initialisation in Keras is glorot_uniform == xavier_uniform in Pytorch\n",
    "\n",
    "        https://discuss.pytorch.org/t/crossentropyloss-expected-object-of-type-torch-longtensor/28683/6?u=ptrblck\n",
    "        https://stackoverflow.com/questions/49433936/how-to-initialize-weights-in-pytorch\n",
    "        \"\"\"\n",
    "        if isinstance(m, nn.Conv2d) or isinstance(m, nn.Linear):\n",
    "            nn.init.xavier_uniform_(m.weight, gain=nn.init.calculate_gain('linear')) # gain=nn.init.calculate_gain('relu')\n",
    "            nn.init.zeros_(m.bias)\n",
    "        return m\n",
    "\n",
    "    def forward(self, img):\n",
    "        # Input\n",
    "        \n",
    "        #print(img.shape)\n",
    "        print(f\"- Before encoding, mean: {img.mean():.3f} var: {img.var():.3f}\")\n",
    "        x1 = self.conv0(img)\n",
    "        #print(\"x1:\", x1.shape)\n",
    "        #x1, indices = self.max0(x1)\n",
    "        x1 = self.conv0_2(x1)\n",
    "        #print(\"x1:\", x1.shape)\n",
    "\n",
    "        # First residual block\n",
    "        x2 = self.bn0(x1)\n",
    "        #print(\"x2:\", x2.shape)\n",
    "        # x2 = x1\n",
    "        x2 = torch.relu(x2)\n",
    "        #print(x2.shape)\n",
    "        x2 = self.conv1(x2)\n",
    "        #print(x2.shape)\n",
    "\n",
    "        x2 = self.bn1(x2)\n",
    "        #print(x2.shape)\n",
    "        x2 = torch.relu(x2)\n",
    "        #print(x2.shape)\n",
    "        x2 = self.conv2(x2)\n",
    "        #print(x2.shape)\n",
    "        \n",
    "        \n",
    "        x1 = self.conv3(x1)\n",
    "        #print(f\"x1: {x1.shape}, x2: {x2.shape}\") # 32, 34, 60\n",
    "        x3 = x1+x2\n",
    "        #print(\"x3:\", x3.shape)\n",
    "\n",
    "        # Second residual block\n",
    "        x4 = self.bn2(x3)\n",
    "        #print(\"x4:\", x4.shape)\n",
    "        # x4 = x3\n",
    "        x4 = torch.relu(x4)\n",
    "        x4 = self.conv4(x4)\n",
    "        #print(x4.shape)\n",
    "\n",
    "        x4 = self.bn3(x4)\n",
    "        #print(x4.shape)\n",
    "        x4 = torch.relu(x4)\n",
    "        x4 = self.conv5(x4)\n",
    "        #print(x4.shape)\n",
    "        \n",
    "        x3 = self.conv6(x3)\n",
    "        #print(f\"x3: {x3.shape}, x4: {x4.shape}\")\n",
    "        x5 = x3+x4 # 34, 60, 64\n",
    "\n",
    "        # Third residual block\n",
    "        x6 = self.bn4(x5)\n",
    "        # x6 = x5\n",
    "        x6 = torch.relu(x6)\n",
    "        x6 = self.conv7(x6)\n",
    "\n",
    "        x6 = self.bn5(x6)\n",
    "        x6 = torch.relu(x6)\n",
    "        x6 = self.conv8(x6)\n",
    "\n",
    "        x5 = self.conv9(x5)\n",
    "        #print(f\"x5: {x5.shape}, x6: {x6.shape}\")\n",
    "        x7 = x5+x6 # 17, 30, 128\n",
    "\n",
    "        x = x7.view(x7.size(0), -1)\n",
    "        #print(f\"x before linear: {x.shape}\")\n",
    "        #print(f\"- After encoding, mean: {x.mean():.3f} var: {x.var():.3f}\")\n",
    "\n",
    "        if self.include_top:\n",
    "            x = torch.relu(x)\n",
    "            # x = tf.keras.layers.Dropout(0.5)(x)\n",
    "            x = self.dense0(x)\n",
    "            x = self.dense1(x)\n",
    "            #gate_pose = self.dense2(x)\n",
    "            x_enc = self.dense2(x)\n",
    "            # phi_rel = self.dense_phi_rel(x)\n",
    "            # gate_pose = tf.concat([gate_pose, phi_rel], 1)\n",
    "            #print(f\"x_enc: {x.shape}\")\n",
    "            return x_enc\n",
    "        else:\n",
    "            x = self.dense3(x)\n",
    "            #print(f\"x_enc: {x.shape}\")\n",
    "            return x\n",
    "\n",
    "\n",
    "class ImgDecoder(nn.Module):\n",
    "    def __init__(self, input_dim=100, batch=32):\n",
    "        super(ImgDecoder, self).__init__()\n",
    "        print('[ImgDecoder] Starting create_model')\n",
    "        self.dense = nn.Linear(input_dim, 9*15*128)\n",
    "        \n",
    "        self.bn0 = nn.BatchNorm2d(128)\n",
    "        self.bn1 = nn.BatchNorm2d(32)\n",
    "        self.bn2 = nn.BatchNorm2d(32)\n",
    "        self.bn3 = nn.BatchNorm2d(64)\n",
    "        self.bn4 = nn.BatchNorm2d(64)\n",
    "        self.bn5 = nn.BatchNorm2d(128)\n",
    "        \n",
    "        self.unpool = nn.MaxUnpool2d(kernel_size=2, stride=2)\n",
    "\n",
    "        self.deconv1 = nn.ConvTranspose2d(128, 128, kernel_size=3, stride=1, padding=1)\n",
    "        self.deconv2 = nn.ConvTranspose2d(128, 64, kernel_size=5, stride=2, padding=(2,2), output_padding=(0,1), dilation=1)\n",
    "        self.deconv3 = nn.ConvTranspose2d(64, 64, kernel_size=6, stride=2, padding=(2,2), output_padding=(0,0), dilation=1)\n",
    "        self.deconv4 = nn.ConvTranspose2d(64, 32, kernel_size=6, stride=2, padding=(2,2), output_padding=(0,0), dilation=1)\n",
    "        self.deconv5 = nn.ConvTranspose2d(32, 32, kernel_size=5, stride=2, padding=(2,2), output_padding=(0,1), dilation=1)\n",
    "        self.deconv6 = nn.ConvTranspose2d(32, 16, kernel_size=6, stride=2, padding=(2,2), output_padding=(0,0))\n",
    "        self.deconv7 = nn.ConvTranspose2d(16, 1, kernel_size=5, stride=1, padding=2) # tanh activation or sigmoid\n",
    "\n",
    "        print('[ImgDecoder] Done with create_model')\n",
    "\n",
    "    def forward(self, z):\n",
    "        #print(\"z: \", z.shape)\n",
    "        x = self.dense(z)\n",
    "        #print(x.shape)\n",
    "        x = x.view(x.size(0), 128, 9, 15)\n",
    "        #print(f\"- Before deconv, mean: {x.mean():.3f} var: {x.var():.3f}\")\n",
    "        x = self.deconv1(x)\n",
    "        x = torch.relu(x)\n",
    "        #print(\"after deconv1\", x.shape)\n",
    "        x = self.deconv2(x)\n",
    "        x = torch.relu(x)\n",
    "        #print(\"after deconv2\", x.shape)\n",
    "        x = self.deconv3(x)\n",
    "        x = torch.relu(x)\n",
    "#         print(\"after deconv3\", x.shape)\n",
    "        x = self.deconv4(x)\n",
    "        x = torch.relu(x)\n",
    "#         print(\"after deconv4\", x.shape)\n",
    "        x = self.deconv5(x)\n",
    "        #print(\"indices\", indices.shape)\n",
    "        #x = self.unpool(x, indices, output_size=(x.size(0), 1, 135, 240))\n",
    "#         print(\"after deconv5\", x.shape)\n",
    "        x = torch.relu(x)\n",
    "        #print(\"after unpool\", x.shape)\n",
    "        x = self.deconv6(x)\n",
    "        x = torch.relu(x)\n",
    "#         print(\"after deconv6\", x.shape)\n",
    "        x = self.deconv7(x)\n",
    "        print(f\"- After deconv 7, mean: {x.mean():.3f} var: {x.var():.3f}\")\n",
    "        x = torch.sigmoid(x)\n",
    "        print(f\"- After sigmoid, mean: {x.mean():.3f} var: {x.var():.3f}\")\n",
    "        #print(\"after deconv7\", x.shape)\n",
    "        return x\n",
    "\n",
    "\n",
    "class Lambda(nn.Module):\n",
    "    def __init__(self, func):\n",
    "        super(Lambda, self).__init__()\n",
    "        self.func = func\n",
    "        \n",
    "    def forward(self, x):\n",
    "        return self.func(x)\n",
    "        \n",
    "\n",
    "class VAE(nn.Module):\n",
    "    def __init__(self, n_z):\n",
    "        super(VAE, self).__init__()\n",
    "        \n",
    "        # create the 3 base models:\n",
    "        self.q_img = Dronet(input_dim=1, num_outputs=n_z*2, include_top=True)\n",
    "        self.p_img = ImgDecoder(input_dim=n_z)\n",
    "        \n",
    "        # Create sampler\n",
    "        self.mean_params = Lambda(lambda x: x[:, :n_z])\n",
    "        self.logvar_params = Lambda(lambda x: x[:, n_z:])\n",
    "\n",
    "    def forward(self, x):\n",
    "        # Possible modes for reconstruction:\n",
    "        # img -> img\n",
    "\n",
    "        x = self.q_img(x)\n",
    "        \n",
    "        means = self.mean_params(x)\n",
    "        logvar = self.logvar_params(x)\n",
    "        stddev = torch.exp(0.5 * logvar)\n",
    "        eps = torch.randn_like(stddev)\n",
    "        z = means + eps * stddev\n",
    "        #print(z.shape)\n",
    "        #print(\"OK\")\n",
    "        img_recon = self.p_img(z)\n",
    "        \n",
    "        return img_recon, means, logvar, z\n",
    "    \n",
    "    def forward_test(self, x):\n",
    "        x = self.q_img(x)\n",
    "        \n",
    "        means = self.mean_params(x)\n",
    "        logvar = self.logvar_params(x)\n",
    "        stddev = torch.exp(0.5 * logvar)\n",
    "        eps = torch.zeros_like(stddev)\n",
    "        z = means + eps * stddev\n",
    "        #print(z.shape)\n",
    "        #print(\"OK\")\n",
    "        img_recon = self.p_img(z)\n",
    "        return img_recon, means, logvar, z\n",
    "        \n",
    "\n",
    "    def encode(self, x):\n",
    "        x = self.q_img(x)\n",
    "        means = self.mean_params(x)\n",
    "        stddev = torch.exp(0.5 * self.stddev_params(x))\n",
    "        eps = torch.randn_like(stddev)\n",
    "        z = means + eps * stddev\n",
    "        return z, means, stddev\n",
    "\n",
    "    def decode(self, z, mode):\n",
    "        # Possible modes for reconstruction:\n",
    "        # z -> img\n",
    "        img_recon = self.p_img(z)\n",
    "        return img_recon\n"
   ]
  },
  {
   "cell_type": "code",
   "execution_count": 39,
   "id": "62175ece",
   "metadata": {},
   "outputs": [
    {
     "name": "stdout",
     "output_type": "stream",
     "text": [
      "[Dronet] Starting dronet\n",
      "[Dronet] Done with dronet\n",
      "[ImgDecoder] Starting create_model\n",
      "[ImgDecoder] Done with create_model\n",
      "- Before encoding, mean: 0.501 var: 0.083\n",
      "- After deconv 7, mean: 0.070 var: 0.022\n",
      "- After sigmoid, mean: 0.518 var: 0.001\n",
      "----------------------------------------------------------------\n",
      "        Layer (type)               Output Shape         Param #\n",
      "================================================================\n",
      "            Conv2d-1         [-1, 32, 135, 240]             832\n",
      "            Conv2d-2          [-1, 32, 68, 120]          25,632\n",
      "       BatchNorm2d-3          [-1, 32, 68, 120]              64\n",
      "            Conv2d-4           [-1, 32, 34, 60]           9,248\n",
      "       BatchNorm2d-5           [-1, 32, 34, 60]              64\n",
      "            Conv2d-6           [-1, 32, 34, 60]           9,248\n",
      "            Conv2d-7           [-1, 32, 34, 60]           1,056\n",
      "       BatchNorm2d-8           [-1, 32, 34, 60]              64\n",
      "            Conv2d-9           [-1, 64, 17, 30]          18,496\n",
      "      BatchNorm2d-10           [-1, 64, 17, 30]             128\n",
      "           Conv2d-11           [-1, 64, 17, 30]          36,928\n",
      "           Conv2d-12           [-1, 64, 17, 30]           2,112\n",
      "      BatchNorm2d-13           [-1, 64, 17, 30]             128\n",
      "           Conv2d-14           [-1, 128, 9, 15]          73,856\n",
      "      BatchNorm2d-15           [-1, 128, 9, 15]             256\n",
      "           Conv2d-16           [-1, 128, 9, 15]         147,584\n",
      "           Conv2d-17           [-1, 128, 9, 15]           8,320\n",
      "           Linear-18                   [-1, 64]       1,105,984\n",
      "           Linear-19                   [-1, 32]           2,080\n",
      "           Linear-20                  [-1, 128]           4,224\n",
      "           Dronet-21                  [-1, 128]               0\n",
      "           Lambda-22                   [-1, 64]               0\n",
      "           Lambda-23                   [-1, 64]               0\n",
      "           Linear-24                [-1, 17280]       1,123,200\n",
      "  ConvTranspose2d-25           [-1, 128, 9, 15]         147,584\n",
      "  ConvTranspose2d-26           [-1, 64, 17, 30]         204,864\n",
      "  ConvTranspose2d-27           [-1, 64, 34, 60]         147,520\n",
      "  ConvTranspose2d-28          [-1, 32, 68, 120]          73,760\n",
      "  ConvTranspose2d-29         [-1, 32, 135, 240]          25,632\n",
      "  ConvTranspose2d-30         [-1, 16, 270, 480]          18,448\n",
      "  ConvTranspose2d-31          [-1, 1, 270, 480]             401\n",
      "       ImgDecoder-32          [-1, 1, 270, 480]               0\n",
      "================================================================\n",
      "Total params: 3,187,713\n",
      "Trainable params: 3,187,713\n",
      "Non-trainable params: 0\n",
      "----------------------------------------------------------------\n",
      "Input size (MB): 0.49\n",
      "Forward/backward pass size (MB): 45.37\n",
      "Params size (MB): 12.16\n",
      "Estimated Total Size (MB): 58.02\n",
      "----------------------------------------------------------------\n"
     ]
    }
   ],
   "source": [
    "vae_model = VAE(n_z=64)\n",
    "\n",
    "load_model = True\n",
    "if load_model:\n",
    "    vae_model.load_state_dict(torch.load(\"../../../vae_models/vae_dronet_nopool_75.pth\"))\n",
    "    vae_model.eval()\n",
    "else:\n",
    "    vae_model.train()\n",
    "\n",
    "optimiser = torch.optim.Adam(vae_model.parameters(), lr=1e-3)\n",
    "summary(vae_model, (1, 270, 480))"
   ]
  },
  {
   "cell_type": "markdown",
   "id": "edcaec23",
   "metadata": {},
   "source": [
    "# Test"
   ]
  },
  {
   "cell_type": "code",
   "execution_count": 22,
   "id": "11aefc59",
   "metadata": {},
   "outputs": [
    {
     "name": "stdout",
     "output_type": "stream",
     "text": [
      "gotcha\n",
      "torch.Size([32, 1, 270, 480])\n",
      "torch.Size([1, 270, 480])\n"
     ]
    },
    {
     "data": {
      "image/png": "[encoded data removed]",
      "text/plain": [
       "<Figure size 432x288 with 1 Axes>"
      ]
     },
     "metadata": {
      "needs_background": "light"
     },
     "output_type": "display_data"
    },
    {
     "data": {
      "image/png": "[encoded data removed]",
      "text/plain": [
       "<Figure size 432x288 with 1 Axes>"
      ]
     },
     "metadata": {
      "needs_background": "light"
     },
     "output_type": "display_data"
    }
   ],
   "source": [
    "dataiter = iter(data_loader)\n",
    "images, *_ = dataiter.next()\n",
    "print(images.shape)\n",
    "\n",
    "image = images[1]\n",
    "image2 = images[2]\n",
    "print(image.shape)\n",
    "\n",
    "\n",
    "def imshow(img):\n",
    "    npimg = img.numpy()\n",
    "    plt.imshow(np.transpose(npimg, (1, 2, 0)))\n",
    "    plt.show()\n",
    "\n",
    "imshow(image)\n",
    "imshow(image2)"
   ]
  },
  {
   "cell_type": "code",
   "execution_count": 65,
   "id": "9ac5dfd8",
   "metadata": {},
   "outputs": [
    {
     "name": "stdout",
     "output_type": "stream",
     "text": [
      "- Before encoding, mean: 0.512 var: 0.123\n",
      "- After deconv 7, mean: 0.534 var: 7.475\n",
      "- After sigmoid, mean: 0.514 var: 0.116\n"
     ]
    }
   ],
   "source": [
    "vae_model.eval()\n",
    "with torch.no_grad():\n",
    "    img_recon, means, logvar, z = vae_model(image)"
   ]
  },
  {
   "cell_type": "code",
   "execution_count": 66,
   "id": "0fdb7333",
   "metadata": {},
   "outputs": [
    {
     "data": {
      "image/png": "[encoded data removed]",
      "text/plain": [
       "<Figure size 432x288 with 1 Axes>"
      ]
     },
     "metadata": {
      "needs_background": "light"
     },
     "output_type": "display_data"
    },
    {
     "data": {
      "image/png": "[encoded data removed]",
      "text/plain": [
       "<Figure size 432x288 with 1 Axes>"
      ]
     },
     "metadata": {
      "needs_background": "light"
     },
     "output_type": "display_data"
    }
   ],
   "source": [
    "idx = 0\n",
    "imshow(image[idx])\n",
    "imshow(img_recon[idx])"
   ]
  },
  {
   "cell_type": "code",
   "execution_count": 70,
   "id": "8c64cc8f",
   "metadata": {},
   "outputs": [],
   "source": [
    "def depth_func1(x):\n",
    "    return -torch.log(0.7*(x+0.1))\n",
    "\n",
    "def depth_func2(x):\n",
    "    return 2**(-3*(x-0.1))\n",
    "\n",
    "def depth_func3(x):\n",
    "    return 1/(5*(x-0.1)+1)"
   ]
  },
  {
   "cell_type": "code",
   "execution_count": 71,
   "id": "32e27fbe",
   "metadata": {},
   "outputs": [
    {
     "ename": "SyntaxError",
     "evalue": "invalid syntax (3457325055.py, line 8)",
     "output_type": "error",
     "traceback": [
      "\u001b[0;36m  Input \u001b[0;32mIn [71]\u001b[0;36m\u001b[0m\n\u001b[0;31m    depth_gain =\u001b[0m\n\u001b[0m                 ^\u001b[0m\n\u001b[0;31mSyntaxError\u001b[0m\u001b[0;31m:\u001b[0m invalid syntax\n"
     ]
    }
   ],
   "source": [
    "def mse_loss(x, x_hat, mu, logvar):\n",
    "    reproduction_loss = F.mse_loss(x_hat, x, reduction=\"sum\")\n",
    "    kl_divergence = -0.5 * torch.sum(1 + logvar - mu.pow(2) - logvar.exp())\n",
    "\n",
    "    return reproduction_loss + kl_divergence, kl_divergence, reproduction_loss\n",
    "\n",
    "def mse_loss2(x, x_hat, mu, logvar):\n",
    "    depth_gain = depth_func1(x)\n",
    "    reproduction_loss = (depth_gain * (x_hat - x)**2).sum() \n",
    "    kl_divergence = -0.5 * torch.sum(1 + logvar - mu.pow(2) - logvar.exp())\n",
    "\n",
    "    return reproduction_loss + kl_divergence, kl_divergence, reproduction_loss"
   ]
  },
  {
   "cell_type": "code",
   "execution_count": 72,
   "id": "fc882957",
   "metadata": {},
   "outputs": [
    {
     "data": {
      "text/plain": [
       "(tensor(96259.7656), tensor(7348.7295), tensor(88911.0391))"
      ]
     },
     "execution_count": 72,
     "metadata": {},
     "output_type": "execute_result"
    }
   ],
   "source": [
    "mse_loss(image, img_recon, means, logvar)"
   ]
  },
  {
   "cell_type": "code",
   "execution_count": 68,
   "id": "45891f55",
   "metadata": {},
   "outputs": [
    {
     "data": {
      "text/plain": [
       "(tensor(96259.7656), tensor(7348.7295), tensor(88911.0391))"
      ]
     },
     "execution_count": 68,
     "metadata": {},
     "output_type": "execute_result"
    }
   ],
   "source": [
    "mse_loss2(image, img_recon, means, logvar)"
   ]
  },
  {
   "cell_type": "code",
   "execution_count": null,
   "id": "52c3fcb0",
   "metadata": {},
   "outputs": [],
   "source": []
  }
 ],
 "metadata": {
  "kernelspec": {
   "display_name": "Python 3 (ipykernel)",
   "language": "python",
   "name": "python3"
  },
  "language_info": {
   "codemirror_mode": {
    "name": "ipython",
    "version": 3
   },
   "file_extension": ".py",
   "mimetype": "text/x-python",
   "name": "python",
   "nbconvert_exporter": "python",
   "pygments_lexer": "ipython3",
   "version": "3.9.7"
  }
 },
 "nbformat": 4,
 "nbformat_minor": 5
}
