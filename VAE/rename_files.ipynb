{
 "cells": [
  {
   "cell_type": "code",
   "execution_count": null,
   "id": "966cbaa2",
   "metadata": {},
   "outputs": [],
   "source": [
    "import os\n",
    "\n",
    "base_path = \"/home/patricknit/vae_models/\"\n",
    "for file in os.listdir(base_path):\n",
    "    if \"vae_dronet_sigmoid_MSE_weighted_filtered_new\" in file:\n",
    "        #print(file[:file.rfind(\"_\")])\n",
    "        #print(file[file.rfind(\"_\"):])\n",
    "        os.rename(base_path+file, base_path+\"vae_dronet_sigmoid_new_MSE_noWeight_filtered\" + file[file.rfind(\"_\"):])"
   ]
  }
 ],
 "metadata": {
  "kernelspec": {
   "display_name": "Python 3 (ipykernel)",
   "language": "python",
   "name": "python3"
  },
  "language_info": {
   "codemirror_mode": {
    "name": "ipython",
    "version": 3
   },
   "file_extension": ".py",
   "mimetype": "text/x-python",
   "name": "python",
   "nbconvert_exporter": "python",
   "pygments_lexer": "ipython3",
   "version": "3.9.7"
  }
 },
 "nbformat": 4,
 "nbformat_minor": 5
}
