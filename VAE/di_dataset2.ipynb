{
 "cells": [
  {
   "cell_type": "code",
   "execution_count": 49,
   "id": "2d43145f",
   "metadata": {},
   "outputs": [],
   "source": [
    "import sys\n",
    "import tensorflow as tf\n",
    "import torch\n",
    "import numpy as np\n",
    "import skimage.io as io\n",
    "import os"
   ]
  },
  {
   "cell_type": "code",
   "execution_count": 50,
   "id": "fecac28b",
   "metadata": {},
   "outputs": [],
   "source": [
    "sys.path.append('.')"
   ]
  },
  {
   "cell_type": "markdown",
   "id": "2911c48a",
   "metadata": {},
   "source": [
    "# Pytorch Dataset wrapper around tfrecords by Huan\n",
    "### Helper functions"
   ]
  },
  {
   "cell_type": "code",
   "execution_count": 51,
   "id": "72729b18",
   "metadata": {},
   "outputs": [],
   "source": [
    "def get_files_ending_with(folder_or_folders, ext):\n",
    "    if isinstance(folder_or_folders, str):\n",
    "        folder = folder_or_folders\n",
    "        assert os.path.exists(folder)\n",
    "\n",
    "        fnames = []\n",
    "        for fname in os.listdir(folder):\n",
    "            if fname.endswith(ext):       \n",
    "                fnames.append(os.path.join(folder, fname))\n",
    "        return sorted(fnames)\n",
    "    else:\n",
    "        assert hasattr(folder_or_folders, '__iter__')\n",
    "        print('folder_or_folders:', folder_or_folders)\n",
    "        return list(itertools.chain(*[get_files_ending_with(folder, ext) for folder in folder_or_folders]))"
   ]
  },
  {
   "cell_type": "code",
   "execution_count": 52,
   "id": "d9871509",
   "metadata": {},
   "outputs": [],
   "source": [
    "device = torch.device(\"cuda\" if torch.cuda.is_available() else \"cpu\")\n",
    "def collate_batch(batch):\n",
    "    # image, actions, robot_state, collision_label, info_label, height, width, depth, action_horizon = [], [], [], [], [], [], [], [], []\n",
    "    # for _image, _actions, _robot_state, _collision_label, _info_label, _height, _width, _depth, _action_horizon in batch:\n",
    "    #     image.append(_image.numpy())\n",
    "    #     actions.append(_actions.numpy())\n",
    "    #     robot_state.append(_robot_state.numpy())\n",
    "    #     collision_label.append(_collision_label.numpy())\n",
    "    #     info_label.append(_info_label.numpy())\n",
    "    #     height.append(_height.numpy())\n",
    "    #     width.append(_width.numpy())\n",
    "    #     depth.append(_depth.numpy())\n",
    "    #     action_horizon.append(_action_horizon.numpy())\n",
    "    # print('batch[0]:', batch[0])\n",
    "    image = batch[0][0]\n",
    "    height = batch[0][1]\n",
    "    width = batch[0][2]\n",
    "    depth = batch[0][3]\n",
    "    \n",
    "    return torch.Tensor(np.array(image)).to(device), torch.Tensor(np.array(height)).to(device), torch.Tensor(np.array(width)).to(device), torch.Tensor(np.array(depth)).to(device)"
   ]
  },
  {
   "cell_type": "markdown",
   "id": "3be90997",
   "metadata": {},
   "source": [
    "### Dataset"
   ]
  },
  {
   "cell_type": "code",
   "execution_count": 53,
   "id": "9f3ec9f7",
   "metadata": {},
   "outputs": [],
   "source": [
    "class MyIterableDataset(torch.utils.data.IterableDataset):\n",
    "    def __init__(self, tfrecord_folder):\n",
    "        super(MyIterableDataset).__init__()\n",
    "        self.tfrecord_folder = tfrecord_folder\n",
    "        self.itr = self.load_tfrecords_with_info_gain()\n",
    "\n",
    "    def read_tfrecord_with_info_gain(self, serialized_example):\n",
    "        feature_description = {\n",
    "            'image': tf.io.FixedLenFeature([], tf.string),\n",
    "            'height': tf.io.FixedLenFeature([], tf.int64),\n",
    "            'width': tf.io.FixedLenFeature([], tf.int64),\n",
    "            'depth': tf.io.FixedLenFeature([], tf.int64),\n",
    "        }\n",
    "        example = tf.io.parse_single_example(serialized_example, feature_description)\n",
    "    \n",
    "        image = tf.cast(tf.io.parse_tensor(example['image'], out_type = tf.uint8), tf.float32)\n",
    "        height = example['height']\n",
    "        width = example['width']\n",
    "        depth = example['depth']\n",
    "        return image, height, width, depth\n",
    "\n",
    "    def load_tfrecords_with_info_gain(self, is_shuffle_and_repeat=True, shuffle_buffer_size=5000, prefetch_buffer_size_multiplier=2, batch_size = 32):\n",
    "        print('Loading tfrecords...')\n",
    "        tfrecord_fnames = get_files_ending_with(self.tfrecord_folder, '.tfrecords')\n",
    "        assert len(tfrecord_fnames) > 0\n",
    "        if is_shuffle_and_repeat:\n",
    "            np.random.shuffle(tfrecord_fnames)\n",
    "        else:\n",
    "            tfrecord_fnames = sorted(tfrecord_fnames)\n",
    "\n",
    "        dataset = tf.data.TFRecordDataset(tfrecord_fnames)\n",
    "        dataset = dataset.map(self.read_tfrecord_with_info_gain, num_parallel_calls=tf.data.experimental.AUTOTUNE)\n",
    "        if is_shuffle_and_repeat: \n",
    "            dataset = dataset.shuffle(buffer_size=shuffle_buffer_size, reshuffle_each_iteration=True)\n",
    "        dataset = dataset.batch(batch_size)\n",
    "        dataset = dataset.prefetch(buffer_size=prefetch_buffer_size_multiplier * batch_size)\n",
    "\n",
    "        iterator = dataset.__iter__()\n",
    "        print('Done.')\n",
    "        return iterator\n",
    "    \n",
    "    def __iter__(self):\n",
    "        return self.itr"
   ]
  },
  {
   "cell_type": "markdown",
   "id": "5d65898f",
   "metadata": {},
   "source": [
    "### Dataloader"
   ]
  },
  {
   "cell_type": "code",
   "execution_count": 54,
   "id": "2d117344",
   "metadata": {},
   "outputs": [
    {
     "name": "stdout",
     "output_type": "stream",
     "text": [
      "Loading tfrecords...\n",
      "WARNING:tensorflow:AutoGraph could not transform <bound method MyIterableDataset.read_tfrecord_with_info_gain of <__main__.MyIterableDataset object at 0x7f2cb480dbe0>> and will run it as-is.\n",
      "Please report this to the TensorFlow team. When filing the bug, set the verbosity to 10 (on Linux, `export AUTOGRAPH_VERBOSITY=10`) and attach the full output.\n",
      "Cause: module 'gast' has no attribute 'Index'\n",
      "To silence this warning, decorate the function with @tf.autograph.experimental.do_not_convert\n",
      "WARNING: AutoGraph could not transform <bound method MyIterableDataset.read_tfrecord_with_info_gain of <__main__.MyIterableDataset object at 0x7f2cb480dbe0>> and will run it as-is.\n",
      "Please report this to the TensorFlow team. When filing the bug, set the verbosity to 10 (on Linux, `export AUTOGRAPH_VERBOSITY=10`) and attach the full output.\n",
      "Cause: module 'gast' has no attribute 'Index'\n",
      "To silence this warning, decorate the function with @tf.autograph.experimental.do_not_convert\n",
      "Done.\n"
     ]
    }
   ],
   "source": [
    "dataset = MyIterableDataset('../../../rl_data/tfrecord')\n",
    "loader = torch.utils.data.DataLoader(dataset, batch_size=1, collate_fn=collate_batch)"
   ]
  },
  {
   "cell_type": "code",
   "execution_count": 64,
   "id": "ee992dc3",
   "metadata": {},
   "outputs": [
    {
     "data": {
      "image/png": "[encoded data removed]",
      "text/plain": [
       "<Figure size 432x288 with 2 Axes>"
      ]
     },
     "metadata": {
      "needs_background": "light"
     },
     "output_type": "display_data"
    }
   ],
   "source": [
    "data = next(iter(loader))\n",
    "image = data[0]\n",
    "img_idx = 20\n",
    "io.imshow(image[img_idx,...,0].numpy())\n",
    "io.show()"
   ]
  }
 ],
 "metadata": {
  "kernelspec": {
   "display_name": "Python 3 (ipykernel)",
   "language": "python",
   "name": "python3"
  },
  "language_info": {
   "codemirror_mode": {
    "name": "ipython",
    "version": 3
   },
   "file_extension": ".py",
   "mimetype": "text/x-python",
   "name": "python",
   "nbconvert_exporter": "python",
   "pygments_lexer": "ipython3",
   "version": "3.9.7"
  }
 },
 "nbformat": 4,
 "nbformat_minor": 5
}
